{
  "nbformat": 4,
  "nbformat_minor": 0,
  "metadata": {
    "colab": {
      "name": "TopicWord10 in Cluster & Word2Vec WordSimilarity.ipynb",
      "provenance": [],
      "collapsed_sections": []
    },
    "kernelspec": {
      "name": "python3",
      "display_name": "Python 3"
    }
  },
  "cells": [
    {
      "cell_type": "code",
      "metadata": {
        "id": "BOeB4jbleci0",
        "colab_type": "code",
        "colab": {
          "base_uri": "https://localhost:8080/",
          "height": 127
        },
        "outputId": "3a495743-47b4-4d72-9ec8-d41a4f869ce2"
      },
      "source": [
        "import os, sys\n",
        "from google.colab import drive\n",
        "drive.mount('/content/drive')\n",
        "\n",
        "my_path = '/content/notebooks'\n",
        "# Colab Notebooks 안에 my_env 폴더에 패키지 저장\n",
        "os.symlink('/content/drive/My Drive/Colab Notebooks/my_env', my_path)\n",
        "sys.path.insert(0, my_path)"
      ],
      "execution_count": 1,
      "outputs": [
        {
          "output_type": "stream",
          "text": [
            "Go to this URL in a browser: https://accounts.google.com/o/oauth2/auth?client_id=947318989803-6bn6qk8qdgf4n4g3pfee6491hc0brc4i.apps.googleusercontent.com&redirect_uri=urn%3aietf%3awg%3aoauth%3a2.0%3aoob&response_type=code&scope=email%20https%3a%2f%2fwww.googleapis.com%2fauth%2fdocs.test%20https%3a%2f%2fwww.googleapis.com%2fauth%2fdrive%20https%3a%2f%2fwww.googleapis.com%2fauth%2fdrive.photos.readonly%20https%3a%2f%2fwww.googleapis.com%2fauth%2fpeopleapi.readonly\n",
            "\n",
            "Enter your authorization code:\n",
            "··········\n",
            "Mounted at /content/drive\n"
          ],
          "name": "stdout"
        }
      ]
    },
    {
      "cell_type": "code",
      "metadata": {
        "id": "TvMhMrrvfEJx",
        "colab_type": "code",
        "colab": {}
      },
      "source": [
        "import pandas as pd\n",
        "pd.set_option('display.max.colwidth', 130)\n",
        "\n",
        "import numpy as np\n",
        "\n",
        "import matplotlib\n",
        "import matplotlib.pyplot as plt\n",
        "import matplotlib.font_manager as fm \n",
        "fm._rebuild() \n",
        "%matplotlib inline\n",
        "\n",
        "\n",
        "import feedparser\n",
        "from bs4 import BeautifulSoup as bs\n",
        "import urllib\n",
        "import urllib.request as req\n",
        "import requests\n",
        "\n",
        "from sklearn.cluster import KMeans\n",
        "from sklearn.feature_extraction.text import TfidfVectorizer\n",
        "from sklearn.preprocessing import normalize\n",
        "\n",
        "from konlpy.tag import Kkma, Okt, Komoran\n",
        "okt = Okt()\n",
        "from konlpy.utils import pprint\n",
        "\n",
        "from collections import Counter\n",
        "from datetime import datetime"
      ],
      "execution_count": 2,
      "outputs": []
    },
    {
      "cell_type": "code",
      "metadata": {
        "id": "8cbH7WvLP1PS",
        "colab_type": "code",
        "colab": {
          "base_uri": "https://localhost:8080/",
          "height": 71
        },
        "outputId": "b9d22acf-80a5-48e7-8c65-d06195eccf09"
      },
      "source": [
        "import re\n",
        "from wordcloud import WordCloud\n",
        "import nltk\n",
        "from nltk.corpus import stopwords\n",
        "\n",
        "import matplotlib\n",
        "\n",
        "import matplotlib.font_manager as fm \n",
        "fm._rebuild() \n",
        "\n",
        "# 그래프에서 한글표현을 위해 폰트를 설치합니다.\n",
        "%config InlineBackend.figure_format = 'retina'\n",
        "\n",
        "!apt -qq -y install fonts-nanum > /dev/null\n",
        "fontpath = '/usr/share/fonts/truetype/nanum/NanumBarunGothic.ttf'\n",
        "font = fm.FontProperties(fname=fontpath, size=9)\n",
        "\n",
        "from plotnine import *\n",
        "import plotnine\n",
        "\n",
        "import warnings\n",
        "warnings.filterwarnings(\"ignore\")"
      ],
      "execution_count": 3,
      "outputs": [
        {
          "output_type": "stream",
          "text": [
            "\n",
            "WARNING: apt does not have a stable CLI interface. Use with caution in scripts.\n",
            "\n"
          ],
          "name": "stdout"
        }
      ]
    },
    {
      "cell_type": "code",
      "metadata": {
        "id": "iRX5fgJHQeaf",
        "colab_type": "code",
        "colab": {
          "base_uri": "https://localhost:8080/",
          "height": 89
        },
        "outputId": "d4058434-793b-4334-9ffa-d8594f8d934a"
      },
      "source": [
        "from nltk.stem import WordNetLemmatizer\n",
        "import nltk\n",
        "nltk.download('punkt')\n",
        "nltk.download('wordnet')\n",
        "import string\n",
        "\n",
        "from gensim.models import Word2Vec\n",
        "\n",
        "remove_punct_dict = dict((ord(punct), None) for punct in string.punctuation)\n",
        "lemmar = WordNetLemmatizer()\n",
        "\n",
        "def LemTokens(tokens):\n",
        "    return [lemmar.lemmatize(token) for token in tokens]\n",
        "\n",
        "def LemNormalize(text):\n",
        "    return LemTokens(nltk.word_tokenize(text.lower().translate(remove_punct_dict)))\n",
        "\n",
        "    "
      ],
      "execution_count": 4,
      "outputs": [
        {
          "output_type": "stream",
          "text": [
            "[nltk_data] Downloading package punkt to /root/nltk_data...\n",
            "[nltk_data]   Unzipping tokenizers/punkt.zip.\n",
            "[nltk_data] Downloading package wordnet to /root/nltk_data...\n",
            "[nltk_data]   Unzipping corpora/wordnet.zip.\n"
          ],
          "name": "stderr"
        }
      ]
    },
    {
      "cell_type": "code",
      "metadata": {
        "id": "5YKIQVo3P1zh",
        "colab_type": "code",
        "colab": {}
      },
      "source": [
        "# 키워드: 춘천, 기간: 1일\n",
        "url = \"https://search.naver.com/search.naver?&where=news&query=춘천&sm=tab_pge&sort=0&photo=0&field=0&reporter_article=&pd=4&ds=&de=&docid=&nso=so:r,p:1d,a:all&mynews=0&cluster_rank=38&start=1&refresh_start=0\"\n",
        "\n",
        "raw = requests.get(url)\n",
        "html = raw.content\n",
        "soup = bs(html,'html.parser')"
      ],
      "execution_count": 5,
      "outputs": []
    },
    {
      "cell_type": "code",
      "metadata": {
        "id": "RKo93SxrP4qB",
        "colab_type": "code",
        "colab": {
          "base_uri": "https://localhost:8080/",
          "height": 35
        },
        "outputId": "58aafb71-995f-4768-9ca3-1534766ef3b0"
      },
      "source": [
        "last = False\n",
        "page_num = 1\n",
        "href_list = []\n",
        "TitDesc_list = []\n",
        "title_list = []\n",
        "while last == False:\n",
        "  raw_url = requests.get(\"https://search.naver.com/search.naver?&where=news&query=춘천&sm=tab_pge&sort=0&photo=0&field=0&reporter_article=&pd=4&ds=&de=&docid=&nso=so:r,p:1d,a:all&mynews=0&cluster_rank=38&start=\"+str(page_num)+\"&refresh_start=0\")\n",
        "  html = raw_url.content\n",
        "  soup = bs(html, 'html.parser')\n",
        "\n",
        "  # 주소 가져오기\n",
        "  ul = soup.find('ul', {'class' : 'type01'})\n",
        "  li_list = ul.findAll('li')\n",
        "\n",
        "  # 검색 시 연관 뉴스는 제외시킴\n",
        "  for li in li_list:\n",
        "    try:\n",
        "      href_list.append(li.dl.dt.a['href'])   # 주소 추가\n",
        "\n",
        "      d_list = li.findAll('dd')    # 자식 노드 dd가 두 개인데 두 번째 노드에 description이 들어가있으므로 전부 불러온 후 인덱싱할 것임\n",
        "\n",
        "      title = li.dl.dt.a['title']\n",
        "      description = d_list[1].text    # 자식 노드 dd의 두 번째에 들어가 있는 description을 text로 불러옴\n",
        "      title_list.append(title)\n",
        "      TitDesc_list.append( title + ' ' + description)\n",
        "    except AttributeError:\n",
        "      pass\n",
        "\n",
        "  # 마지막 페이지 주소 확인 (다음페이지 버튼이 없으면 종료페이지로 간주)\n",
        "  page = soup.find('div', {'class':'paging'})\n",
        "  page_a_list = page.findAll('a')\n",
        "  if '다음페이지' in str(page_a_list[-1]):\n",
        "    page_num += 10\n",
        "  else:\n",
        "    last = True\n",
        "\n",
        "len(TitDesc_list)"
      ],
      "execution_count": 6,
      "outputs": [
        {
          "output_type": "execute_result",
          "data": {
            "text/plain": [
              "313"
            ]
          },
          "metadata": {
            "tags": []
          },
          "execution_count": 6
        }
      ]
    },
    {
      "cell_type": "code",
      "metadata": {
        "id": "aNs4yMKWP8Jp",
        "colab_type": "code",
        "colab": {
          "base_uri": "https://localhost:8080/",
          "height": 71
        },
        "outputId": "8c12aa1e-7f3c-430e-e3fe-f9dbe0cd8303"
      },
      "source": [
        "TitDesc_okt = []\n",
        "\n",
        "for item in TitDesc_list:\n",
        "  item_nouns = ' '.join(okt.nouns(item))\n",
        "  TitDesc_okt.append(item_nouns)\n",
        "\n",
        "  tfidf_vectorizer = TfidfVectorizer()\n",
        "  tfidf_matrix_okt = tfidf_vectorizer.fit_transform(TitDesc_okt)\n",
        "TitDesc_okt[:3]\n",
        "#Vectorization"
      ],
      "execution_count": 7,
      "outputs": [
        {
          "output_type": "execute_result",
          "data": {
            "text/plain": [
              "['춘천시 경로당 운영 재개 강원 춘천시 폭염 대비 무더위 터 활용 위해 경로당 운영 재개 준비 춘천 내 경로당 코로나 발생 지난 운영 잠정 중단 여름철 더위 취약 어르신',\n",
              " '춘천시 하절 기 장마철 환경오염 행위 특별 감시 실시 춘천 시청 전경 춘천시 하절 기 장마철 환경오염 행위 특별 감시 를 실시 하절 기 장마철 집중호우 오염 물질 수역 다량 유입 가능성 시기 이 시기',\n",
              " '춘천시 집중호우 시 오염 물질 배출 사전 차단 강원 춘천시 집중호우 시 오염 물질 배출 행위 사전 차단 시 이번 달 시 특별 감시 통해 춘천 자연환경 오염 것 말 신아일보 춘천']"
            ]
          },
          "metadata": {
            "tags": []
          },
          "execution_count": 7
        }
      ]
    },
    {
      "cell_type": "code",
      "metadata": {
        "id": "U65_A9XtRNRW",
        "colab_type": "code",
        "colab": {}
      },
      "source": [
        "doc_df = pd.DataFrame(data=TitDesc_okt)\n",
        "doc_df.columns = [\"title + article\"]\n",
        "doc_df['title'] = 0\n",
        "doc_df['num']=0\n",
        "for i in range(len(doc_df)):\n",
        "  doc_df.iloc[i, 2] = i\n",
        "  doc_df.iloc[i, 1] = title_list[i]\n",
        "doc_df.head()\n",
        "topic_df = doc_df"
      ],
      "execution_count": 11,
      "outputs": []
    },
    {
      "cell_type": "markdown",
      "metadata": {
        "id": "RijY7QfnSFYs",
        "colab_type": "text"
      },
      "source": [
        "# Elbow Method"
      ]
    },
    {
      "cell_type": "code",
      "metadata": {
        "id": "Gy75arg1P9W5",
        "colab_type": "code",
        "colab": {
          "base_uri": "https://localhost:8080/",
          "height": 294
        },
        "outputId": "d2a9bd66-3cc2-4d48-f077-72f1561393cb"
      },
      "source": [
        "x = normalize(tfidf_matrix_okt)\n",
        "# L2 정규화\n",
        "\n",
        "def elbow(normalizedData, Clusters):\n",
        "  sse = []\n",
        "  for i in range(1,Clusters):\n",
        "    kmeans = KMeans(n_clusters=i, init='k-means++', random_state=0)\n",
        "    kmeans.fit(normalizedData)\n",
        "    sse.append(kmeans.inertia_)\n",
        "\n",
        "  plt.plot(range(1,Clusters), sse, marker='o')\n",
        "  plt.xlabel('number of cluster')\n",
        "  plt.xticks(np.arange(0,Clusters,1))\n",
        "  plt.ylabel('SSE')\n",
        "  plt.title('Elbow Method - number of cluster : '+str(Clusters))\n",
        "  plt.show()\n",
        "elbow(x, 35)"
      ],
      "execution_count": 12,
      "outputs": [
        {
          "output_type": "display_data",
          "data": {
            "image/png": "[encoded data removed]",
            "text/plain": [
              "<Figure size 432x288 with 1 Axes>"
            ]
          },
          "metadata": {
            "tags": [],
            "image/png": {
              "width": 388,
              "height": 277
            },
            "needs_background": "light"
          }
        }
      ]
    },
    {
      "cell_type": "markdown",
      "metadata": {
        "id": "CAF_oF_nSKkm",
        "colab_type": "text"
      },
      "source": [
        "# Tokenize"
      ]
    },
    {
      "cell_type": "code",
      "metadata": {
        "id": "pWDIdZKlRHcz",
        "colab_type": "code",
        "colab": {}
      },
      "source": [
        "tfidf_vect = TfidfVectorizer(tokenizer=LemNormalize)\n",
        "feature_vect = tfidf_vect.fit_transform(topic_df['title + article'])"
      ],
      "execution_count": 13,
      "outputs": []
    },
    {
      "cell_type": "markdown",
      "metadata": {
        "id": "LPe_q-ofSARd",
        "colab_type": "text"
      },
      "source": [
        "# Clustering"
      ]
    },
    {
      "cell_type": "code",
      "metadata": {
        "id": "CqCx4QJxQFRZ",
        "colab_type": "code",
        "colab": {}
      },
      "source": [
        "clusters_num = 11\n",
        "\n",
        "km_cluster = KMeans(n_clusters=clusters_num, max_iter=10000, random_state=0)\n",
        "km_cluster.fit(feature_vect)\n",
        "cluster_label = km_cluster.labels_\n",
        "cluster_centers = km_cluster.cluster_centers_"
      ],
      "execution_count": 14,
      "outputs": []
    },
    {
      "cell_type": "code",
      "metadata": {
        "id": "XpBygnsbQMgA",
        "colab_type": "code",
        "colab": {
          "base_uri": "https://localhost:8080/",
          "height": 1000
        },
        "outputId": "ac1cb11c-305c-4d42-decb-5e51b48eab6d"
      },
      "source": [
        "topic_df['cluster_label'] = cluster_label\n",
        "topic_df.head()\n",
        "\n",
        "for i in range(clusters_num):\n",
        "  print('<<Clustering Label {0}>>'.format(i)+'\\n')\n",
        "  print(topic_df.loc[topic_df['cluster_label']==i])"
      ],
      "execution_count": 17,
      "outputs": [
        {
          "output_type": "stream",
          "text": [
            "<<Clustering Label 0>>\n",
            "\n",
            "                                                                                                                       title + article  ... cluster_label\n",
            "39                                    포토 뉴스 한기호 춘천 철원 화천 양구 의원 통합 강원도 위원장 선출 미래 통합 강원도 도당 회의실 운영 위원회 한기호 춘천 철원 화천 양구 국회의원 신임 도당 위원장 선출  ...             0\n",
            "72                       통합 도당 위원장 한기호 추대 한기호 춘천 철원 화천 양구 사진 국회의원 미래 통합 강원도 위원장 통합 도당 오전 도 당사 운영 위원회 개최 도당 위원장 선출 건 심의 의결 도당 위원장 후보 접수  ...             0\n",
            "79                           법무부 제 교정 대상 시상식 거행 교정 참여 인사 여 년 사랑 봉사 정신 수형 교정 교화 헌신 수형 위 종교 행사 주관 등 신앙 통해 삶 살 수 계기 마련 준 한길 용 교정 위원 춘천교도소  ...             0\n",
            "84                               우회 노자 도덕경 휘호집 발간 김 선배 이면우 전 춘천교대 총장 권영중 전 강원 총장 순 전 춘천교대 동문회 비롯 여명 회원 틈틈이 편의 작품 권 책 수십 년 예술가 경지 회원 초보  ...             0\n",
            "105                      통합 도당 위원장 한기호 추대 한기호 춘천 철원 화천 양구 사진 국회의원 미래 통합 강원도 위원장 통합 도당 오전 도 당사 운영 위원회 개최 도당 위원장 선출 건 심의 의결 도당 위원장 후보 접수  ...             0\n",
            "116                          법무부 제 교정 대상 시상식 거행 교정 참여 인사 여 년 사랑 봉사 정신 수형 교정 교화 헌신 수형 위 종교 행사 주관 등 신앙 통해 삶 살 수 계기 마련 준 한길 용 교정 위원 춘천교도소  ...             0\n",
            "124                              우회 노자 도덕경 휘호집 발간 김 선배 이면우 전 춘천교대 총장 권영중 전 강원 총장 순 전 춘천교대 동문회 비롯 여명 회원 틈틈이 편의 작품 권 책 수십 년 예술가 경지 회원 초보  ...             0\n",
            "236  오늘 도의 회 강원 연구원 인사 청문 박영일 후보자 도덕성 등 철저 검증 인사 청문 특별 위원회 신명 순 더 민주 영월 위원장 비롯 김규 호 더 민주 양구 허소영 더 민주 춘천 권 순성 더 민주 원주 김병석 더 민주 원주 심상...  ...             0\n",
            "288     김성 완 군산교도소 교감 교정 대상 수상 기독교 한길 용 춘천교도소 교정 위원 박애 기독교 이기학 경북 북 부제 교도소 교정 위원 자비 불교 박만 진주교도소 교정 위원 자비 불교 민 양식 장흥교도소 교정 위원 자애 천주교 영남  ...             0\n",
            "292     김성 완 군산교도소 교감 교정 대상 수상 기독교 한길 용 춘천교도소 교정 위원 박애 기독교 이기학 경북 북 부제 교도소 교정 위원 자비 불교 박만 진주교도소 교정 위원 자비 불교 민 양식 장흥교도소 교정 위원 자애 천주교 영남  ...             0\n",
            "\n",
            "[10 rows x 4 columns]\n",
            "<<Clustering Label 1>>\n",
            "\n",
            "                                                                                                                       title + article  ... cluster_label\n",
            "14                                           춘천 춘천 인구 개월 연속 코로나 등 영향 명 감소 관외 전출 명 춘천 인구 개월 연속 이 기간 국 외국인 포함 총 명 감소 것 행정안전부 춘천시 말 기준 춘천  ...             1\n",
            "19                             달말 춘천 소양 교 안전 진단 차량 통제 강원 춘천시 강북 강남 소양 교 대한 정밀 안전 진단 실시 시 원 소양 교 정밀 안전 진단 용역 시행 정밀 안전 진단 교량 물리 기능 결함 발견  ...             1\n",
            "33                                       춘천 소양 교 정밀 안전 진단 추진 소양 교가 종합 검진 춘천시 사업 비 소양 교 정밀 안전 진단 용역 시행 예정 정밀 안전 진단 교량 물리 기능 결함 발견 조치 위해  ...             1\n",
            "57                                                    날씨 오후 내륙 곳곳 비 소식 서울 낮 최고 도 오전 오후 최저 최고 기온 오전 오후 강수 확률 서울 구름 구름 인천 구름 구름 수원 구름 춘천  ...             1\n",
            "60                              공직자 집 강원도 고위 공직자 집 채 이상 보유 전 총장 춘천 서울 정선 아파트 단독주택 채 보유 최 의원 자신 근거지 강릉 아파트 다가 주택 채 위 안 미모 김준섭 의원 각각 집 채  ...             1\n",
            "69                                            공직자 집 주택 집 두 전 총장 춘천 서울 정선 아파트 단독주택 채 보유 최 의원 자신 근거지 강릉 아파트 다가 주택 채 위 안 미모 김준섭 의원 각각 집 채  ...             1\n",
            "74           강원 코로나 극복 장학금 부모 실직 폐업 학생 명 지급 장학금 수혜 학생 춘천 캠퍼스 학부 생 명 대학원 명 삼척 캠퍼스 학부 생 명 대학원생 명 등 총 희망 성금 전 교직원 명 급여 정액 공제 방식 참여 춘천 캠퍼스  ...             1\n",
            "75                         축의금 혼주 가족 행세 절도 범 실형 춘천지방법원 형사 단독 정수영 부장 판사 특수 절도 등 혐의 기소 황모 씨 징역 김모 씨 징역 각각 선고 황씨 등 일당 명 지난 춘천 예식장 혼 주의 접수  ...             1\n",
            "76     도장 애인 체육회 차 이사회 개최 도장 애인 체육회 날 춘천 베어스 호텔 병렬 도경 부 지사 정일 섭 도문 관광 국장 전광 표 도장 애인 체육회 사무 처 등 임원 여명 참석 가운데 이사회 규약 및 규정 제 개정 각종 위원회 승인  ...             1\n",
            "88         공공 임대주택 임차보증금 횡령 운영 사 영진 구속 기소 춘천지검 강릉 지청 서민 임차 보증금 횡령 편 취한 혐의 특정 경제범죄 법 위반 등 로 모 아파트 운영 회사 회장 씨 대표이사 씨 구속기소 또 이 회사 과장 씨 혐의  ...             1\n",
            "99                                       상반기 명 죽음 명도 강원 춘천시 오후 아파트 화단 강원 도청 공무원 씨 채 발견 끼임 경기 안산시 단원구 초지동 오후 안산시 재활 용선 센터 노동자 씨 청소 차 작업  ...             1\n",
            "100                                           공직자 집 주택 집 두 전 총장 춘천 서울 정선 아파트 단독주택 채 보유 최 의원 자신 근거지 강릉 아파트 다가 주택 채 위 안 미모 김준섭 의원 각각 집 채  ...             1\n",
            "107          강원 코로나 극복 장학금 부모 실직 폐업 학생 명 지급 장학금 수혜 학생 춘천 캠퍼스 학부 생 명 대학원 명 삼척 캠퍼스 학부 생 명 대학원생 명 등 총 희망 성금 전 교직원 명 급여 정액 공제 방식 참여 춘천 캠퍼스  ...             1\n",
            "109                        축의금 혼주 가족 행세 절도 범 실형 춘천지방법원 형사 단독 정수영 부장 판사 특수 절도 등 혐의 기소 황모 씨 징역 김모 씨 징역 각각 선고 황씨 등 일당 명 지난 춘천 예식장 혼 주의 접수  ...             1\n",
            "111                    전국 예식장 축의금 가로 절도 범 일당 실형 춘천지방법원 형사 단독 정수영 부장 판사 특수 절도 등 혐의 기소 황모 씨 징역 김모 씨 징역 각각 선고 황씨 등 일당 명 지난 춘천 예식장 혼 주의 접수  ...             1\n",
            "112    도장 애인 체육회 차 이사회 개최 도장 애인 체육회 날 춘천 베어스 호텔 병렬 도경 부 지사 정일 섭 도문 관광 국장 전광 표 도장 애인 체육회 사무 처 등 임원 여명 참석 가운데 이사회 규약 및 규정 제 개정 각종 위원회 승인  ...             1\n",
            "127        공공 임대주택 임차보증금 횡령 운영 사 영진 구속 기소 춘천지검 강릉 지청 서민 임차 보증금 횡령 편 취한 혐의 특정 경제범죄 법 위반 등 로 모 아파트 운영 회사 회장 씨 대표이사 씨 구속기소 또 이 회사 과장 씨 혐의  ...             1\n",
            "136                                     취재 파일 공직자 집 주택 집 두 전 총장 춘천 서울 정선 아파트 단독주택 채 보유 최 의원 자신 근거지 강릉 아파트 다가 주택 채 위 안 미모 김준섭 의원 각각 집 채  ...             1\n",
            "142                     법원 예식장 축의금 가로 일당 실형 선고 춘천 지법 형사 단독 정수영 부장 판사 특수 절도 등 혐의 기소 살 황 모씨 살 김 모씨 각각 징역 징역 선고 황 씨 등 일당 명 지난 석 달 춘천 원주 등  ...             1\n",
            "147                         강원 코로나 교직원 희망 성금 취약 계층 학생 장학금 전달 춘천 캠퍼스 삼척 캠퍼스 모금 강원 재학생 가운데 학기 장학생 모집 총 명의 학생 신청 자격 요건 심사 명 춘천 학부 명 대학원 명  ...             1\n",
            "155                                      상반기 명 죽음 명도 강원 춘천시 오후 아파트 화단 강원 도청 공무원 씨 채 발견 끼임 경기 안산시 단원구 초지동 오후 안산시 재활 용선 센터 노동자 씨 청소 차 작업  ...             1\n",
            "157                                      서민 피 돈 임차보증금 원 편취 춘천지방검찰청 강릉 지청 강원 강릉 소재 건설 임대주택 아파트 임차보증금 횡령 사기 사 회장 대표이사 등 명 구속기소 과장 불구속 기소  ...             1\n",
            "158                                강원 전체 교직원 희망 성금 모금 재학생 지원 명 춘천 학부 명 대학원 명 삼척 학부 명 대학원 명 선발 지원 이번 장학금 강원 전체 교직원 여명 급여 정액 공제 총 춘천 캠퍼스  ...             1\n",
            "173                              전국 예식장 돌 축의금 가로 일당 심 징역형 선고 춘천 지법 형사 단독 정수영 부장 판사 특수 절도 등 혐의 기소 황모 씨 징역 김모 씨 징역 선고 이 지난 춘천 예식장 혼주 축의금  ...             1\n",
            "183                                  전국 예식장 축의금 가로 일당 징역형 춘천지방법원 범행 살 황 모 씨 징역 범행 참여 살 김 모 씨 징역 각각 선고 이 지난 춘천 등 예식장 침입 축의금 수백만 원 혐의 재판  ...             1\n",
            "192                          전국 예식장 돌 축의금 가로 금액 춘천지방법원 형사 단독 정수영 부장 판사 특수 절도 등 혐의 기소 황모 씨 징역 김모 씨 징역 각각 선고 황씨 등 일당 명 지난 춘천 예식장 혼 주의 접수  ...             1\n",
            "204                              임차보증금 횡령 혐의 명 기소 춘천지검 강릉 지청 아파트 운영 회사 대표 씨 등 영진 명 특정 경제범죄 법 위반 등 혐의 구속 기소 검찰 이 지난 회사 관리 건설 임대주택 임차보증금  ...             1\n",
            "206  홍천군 장애인 복지관 나 복무 다짐 공모 우수 작 선정 사회 복무 요원 나 복무 다짐 작성 결과 강원도 내 사회 복무 요원 중 우수 작 명 선발 춘천시 명 원주시 명 정선군 명 평창군 명 홍천군 명 홍천군 장애인 복지관 허정우...  ...             1\n",
            "224                                                  날씨 전국 대체로 륙 지방 빗방울 교통 안전 유의 오전 오후 최저 최고 기온 오전 오후 강수 확률 서울 구름 구름 인천 구름 구름 수원 구름 춘천  ...             1\n",
            "233            미화원 채용 과정 점수 조작 혐의 공무원 명 벌금형 춘천지방법원 형사 단독 정수영 부장 판사 채용 공고 준용 지방 공무원 인사 규칙 명의 채점 표 재 채점 후 합격 혐의 위계 공무 집행 방해 등 로 관련 공무원 씨  ...             1\n",
            "234                                    부고 발인 오전 장지 춘천 동산 공원 묘 빈소 서울 신촌 세브란스병원 장례식 호실 연락처 송 자씨 남편 도완섭 전 화천 라이온스클럽 회장 세 상 도현 화천 농협 근무 현철  ...             1\n",
            "240                               권태 씨 외 주부 씨 부친상 원선 사회 복지사 씨 부상 임 공빈 개인 사업 씨 장인상 오전 별세 빈소 서울 신촌 세브란스병원 장례식 호실 발인 오전 장지 춘천 동산 공원 묘 연락처  ...             1\n",
            "303                         강원 코로나 교직원 희망 성금 취약 계층 학생 장학금 전달 춘천 캠퍼스 삼척 캠퍼스 모금 강원 재학생 가운데 학기 장학생 모집 총 명의 학생 신청 자격 요건 심사 명 춘천 학부 명 대학원 명  ...             1\n",
            "312  부고 고 김유 흥 강원 도립 극단 예술 감독 김혁 씨 부친상 신촌 세브란스병원 장례식 발인 조 아시아 뉴스 통신 지숙 기자 부고 김유 흥 별세 강원 도립 극단 예술 감독 김혁 씨 부친상 오전 빈소 서울 신촌 세브란스병원 장례식...  ...             1\n",
            "\n",
            "[34 rows x 4 columns]\n",
            "<<Clustering Label 2>>\n",
            "\n",
            "                                                                                                                       title + article  ... cluster_label\n",
            "43                            전국 비 소식 남해안 제주 이상 도 춘천 도 강릉 도 대전 도 대구 도 부산 도 전주 도 광주 광역시 도 제주 도 낮 최고 기온 서울 도 인천 도 춘천 도 강릉 도 대전 도 대구 도 부산  ...             2\n",
            "44                        전국 곳곳 장대비 제주 전남 호우경보 날 오전 현재 전국 주요 지역 기온 서울 도 인천 도 수원 도 춘천 도 강릉 도 청주 도 대전 도 전주 도 광주 도 제주 도 대구 도 부산 도 울산 도 창원  ...             2\n",
            "47              오늘 날씨 전국 장맛비 제주 시작 오전 전역 확산 춘천 도 강릉 도 대전 도 대구 도 부산 도 전주 도 광주 도 제주 도 낮 최고 기온 서울 도 인천 도 춘천 도 강릉 도 대전 도 대구 도 부산 도 전주 도 광주  ...             2\n",
            "51                          오늘날 전국 오전 비 오후 남부 도 춘천 도 강릉 도 제주 도 울릉도 독도 도 백령도 도로 예상 낮 최고 기온 서울 도 대전 도 대구 도 부산 도 전주 도 광주 도 청주 도 춘천 도 강릉 도  ...             2\n",
            "52          내일 날씨 전국 장맛비 제주 돌풍 동반 시간 최대 물폭탄 지역별 아침 최저 기온 서울 도 인천 도 춘천 도 강릉 도 대전 도 대구 도 부산 도 전주 도 광주 도 제주 도 낮 최고 기온 서울 도 인천 도 춘천 도 강릉 도  ...             2\n",
            "..                                                                                                                                 ...  ...           ...\n",
            "299  일기예보 오늘 날씨 전국 대부분 지역 비 일부 지역 호우 특보 서울 낮 도 서울 오전 미세먼지 이 밖 지역 기온 백령도 도 인천 도 춘천 도 강릉 도 울릉도 독도 도 홍성 도 수원 이 밖 지역 기온 백령도 도 인천 도 춘천 도...  ...             2\n",
            "300  일기예보 오늘 날씨 전국 대부분 지역 비 일부 지역 호우 특보 서울 낮 도 서울 오전 미세먼지 이 밖 지역 기온 백령도 도 인천 도 춘천 도 강릉 도 울릉도 독도 도 홍성 도 수원 이 밖 지역 기온 백령도 도 인천 도 춘천 도...  ...             2\n",
            "302        오늘 날씨 오전 전국 장맛비 제주도 최대 주요 지역 아침 최저 기온 서울 도 인천 도 수원 도 춘천 도 강릉 도 청주 도 대전 도 전주 도 광주 도 대구 도 부산 도 제주 도 낮 최고 기온 서울 도 인천 도 수원 도 춘천  ...             2\n",
            "309            일기예보 기상청 전국 지역별 오늘 날씨 및 이번 주 주말 날씨 도 춘천 도 강릉 도 대전 도 대구 도 부산 도 전주 도 광주 도 제주 도 낮 최고 기온 서울 도 인천 도 춘천 도 강릉 도 대전 도 대구 도 부산 도  ...             2\n",
            "310            일기예보 기상청 전국 지역별 오늘 날씨 및 이번 주 주말 날씨 도 춘천 도 강릉 도 대전 도 대구 도 부산 도 전주 도 광주 도 제주 도 낮 최고 기온 서울 도 인천 도 춘천 도 강릉 도 대전 도 대구 도 부산 도  ...             2\n",
            "\n",
            "[63 rows x 4 columns]\n",
            "<<Clustering Label 3>>\n",
            "\n",
            "                                                                                                             title + article  ... cluster_label\n",
            "71            월간 투썸플레이스 카페 케이 션 명소 곳 소개 스카이 데크 경험 투썸플레이스 춘천 구봉산 점 투썸 춘천 구봉산 점 춘천 동쪽 병풍 친 구봉산 자락 위치 춘천 전경 훤히 탁 전망 자랑 최상 층 전망대  ...             3\n",
            "103           월간 투썸플레이스 카페 케이 션 명소 곳 소개 스카이 데크 경험 투썸플레이스 춘천 구봉산 점 투썸 춘천 구봉산 점 춘천 동쪽 병풍 친 구봉산 자락 위치 춘천 전경 훤히 탁 전망 자랑 최상 층 전망대  ...             3\n",
            "114              투썸플레이스 카페 케이 션 명소 곳 소개 스카이 데크 경험 투썸플레이스 춘천 구봉산 점 투썸 춘천 구봉산 점 춘천 동쪽 병풍 친 구봉산 자락 위치 춘천 전경 훤히 탁 전망 자랑 최상 층 전망대  ...             3\n",
            "152               오션 뷰 루프 탑 스카이 데크 카페 케이 션 명소 곳 어디 스카이 데크 경험 서울 거리 노을 뷰 맛집 투썸 춘천 구봉산 점 춘천 동쪽 병풍 친 구봉산 자락 위치 춘천 전경 훤히 탁 전망 자랑  ...             3\n",
            "228  사진 찍기 카페 어디 뷰 맛집 전국 투썸플레이스 매장 곳 제주 특산 물 활용 음료 디저트 수 스카이 데크 경험 투썸플레이스 춘천 구봉산 점 투썸 춘천 구봉산 점 춘천 동쪽 병풍 친 구봉산 자락 위치 춘천 전경 훤히  ...             3\n",
            "264              투썸플레이스 카페 케이 션 명소 곳 소개 스카이 데크 경험 투썸플레이스 춘천 구봉산 점 투썸 춘천 구봉산 점 춘천 동쪽 병풍 친 구봉산 자락 위치 춘천 전경 훤히 탁 전망 자랑 최상 층 전망대  ...             3\n",
            "284             카페 케이 션 명소 곳 투썸 오션 뷰 루프 탑 추천 춘천 구봉산 점 춘천 동쪽 병풍 친 구봉산 자락 위치 춘천 전경 훤히 탁 전망 자랑 최상 층 전망대 스카이 워 설치 일명 구봉산 전망 카페 로  ...             3\n",
            "\n",
            "[7 rows x 4 columns]\n",
            "<<Clustering Label 4>>\n",
            "\n",
            "                                                                                                                       title + article  ... cluster_label\n",
            "6        춘천 성심 병원 카드 로 환자 경험 향상 한림대 학교 춘천 성심 병원 건강 보험 심사평가원 실시 제 차 의료 서비스 환자 경험 평가 강원도 위 달성 한림대 춘천 성심 병원 전경 환자 경험 평가 건강 보험 심사평가원 병상 이상  ...             4\n",
            "17       춘천 성심 병원 카드 로 환자 경험 향상 한림대 학교 춘천 성심 병원 건강 보험 심사평가원 실시 제 차 의료 서비스 환자 경험 평가 강원도 위 달성 한림대 춘천 성심 병원 전경 환자 경험 평가 건강 보험 심사평가원 병상 이상  ...             4\n",
            "23   한림대 춘천 성심 병원 의료 서비스 환자 경험 평가 강원도 위 한림대 학교 춘천 성심 병원 병원 이재준 은 건강 보험 심사평가원 실시 제 차 의료 서비스 환자 경험 한림대 춘천 성심 병원 이번 평가 전 영역 합산 점수 점 강원...  ...             4\n",
            "95   한림대학교의료원 급성 뇌졸중 적정 평가 획득 한림대 성심 병원 한림대 한강 성심 병원 한림대 춘천 성심 병원 한림대 동탄성심병원 한림대 강남 성심 병원 한림대 학교 성심 병원 한림대 학교 강남 성심 병원 한림대 학교 춘천 성심...  ...             4\n",
            "128            병원 모형 약물 관리 사업 서울대 병원 등 개 병원 실무 협상 돌입 의원 모형 서울시 서울시 및 춘천 지역 확대 서비스 제공 예정 라며 병원 모형 도입 위해 서울대 병원 등 개 참여 희망 병원 중심 대상 실무 협의  ...             4\n",
            "143  한림대학교의료원 급성 뇌졸중 적정 평가 획득 한림대 성심 병원 한림대 한강 성심 병원 한림대 춘천 성심 병원 한림대 동탄성심병원 한림대 강남 성심 병원 한림대 학교 성심 병원 한림대 학교 강남 성심 병원 한림대 학교 춘천 성심...  ...             4\n",
            "154  한림대의료원 급성 뇌졸중 적정 평가 획득 한림대 학교 성심 병원 한림대 학교 강남 성심 병원 한림대 학교 춘천 성심 병원 점 만점 점 한편 이번 적정 평가 결과 한림대 학교 성심 병원 한림대 학교 춘천 성심 병원 연속 한림대 ...  ...             4\n",
            "162  한림대의료원 급성 뇌졸중 적정 평가 최우수 등급 획득 한림대 학교 성심 병원 한림대 학교 강남 성심 병원 한림대 학교 춘천 성심 병원 점 만점 점 한편 이번 적정 평가 결과 한림대 학교 성심 병원 한림대 학교 춘천 성심 병원 ...  ...             4\n",
            "177  한림대의료원 마이크로 바이옴 간질 환 치료 기술 연구 선도 한림대 춘천 성심 병원 소화기 연구소 올해 초 장내 마이크로 바이옴 지방간 한림대 춘천 성심 병원 김동준 교수 현재 소화기 연구소 마이크로 바이옴 연구 후부 치료 물질 도출  ...             4\n",
            "246  뉴스투데이 한림대 학교 의료 급성 뇌졸중 적정 평가 획득 한림대 춘천 성심 병원 한림대 강남 성심 병원 사진 제공 한림대의료원 뉴스투데이 한림대학교의료원 한림대 학교 성심 병원 한림대 학교 강남 성심 병원 한림대 학교 춘천 성...  ...             4\n",
            "\n",
            "[10 rows x 4 columns]\n",
            "<<Clustering Label 5>>\n",
            "\n",
            "                                                                                                       title + article  ... cluster_label\n",
            "67                           김현철 데뷔 곡 만 재 발매 당시 춘천 기차 동네 등 다른 수록 곡 라디오 중심 인기 정작 빛 보지 못 비운 작품 이 노래 김현철 마니아 사이 명곡 김현철 역시  ...             5\n",
            "81                               자연 속 문학 진원 책 부 봄 춘천 동행 부 싹 줄기 엑스터시 부 꽃 열매 노을 부 문학 뜰 로 춘천 금병산 자락 자신 이름 전상국 문학 뜰 저자 곳 살  ...             5\n",
            "87                자연 예술 만남 문학 뜰 로 초대 전상국 산문 집 작가 뜰 직접 사진 수록 춘천 김유정 심취 최근 문학 전시 실 준비 매진 소녀 가수 김추자 동창 마을 춘천 기억 덤 전 작가 자연  ...             5\n",
            "92                           데뷔 곡 다시 김현철 만 재 발매 만 발매 집 앨범 첫 데뷔 타이틀곡 춘천 기차 동네 등 곡 사랑 전 곡 재 발매 것 전 일기 시작 시티 팝 대한 관심 무관 치  ...             5\n",
            "119                              자연 속 문학 진원 책 부 봄 춘천 동행 부 싹 줄기 엑스터시 부 꽃 열매 노을 부 문학 뜰 로 춘천 금병산 자락 자신 이름 전상국 문학 뜰 저자 곳 살  ...             5\n",
            "120                              자연 속 문학 진원 책 부 봄 춘천 동행 부 싹 줄기 엑스터시 부 꽃 열매 노을 부 문학 뜰 로 춘천 금병산 자락 자신 이름 전상국 문학 뜰 저자 곳 살  ...             5\n",
            "126               자연 예술 만남 문학 뜰 로 초대 전상국 산문 집 작가 뜰 직접 사진 수록 춘천 김유정 심취 최근 문학 전시 실 준비 매진 소녀 가수 김추자 동창 마을 춘천 기억 덤 전 작가 자연  ...             5\n",
            "135                          데뷔 곡 다시 김현철 만 재 발매 만 발매 집 앨범 첫 데뷔 타이틀곡 춘천 기차 동네 등 곡 사랑 전 곡 재 발매 것 전 일기 시작 시티 팝 대한 관심 무관 치  ...             5\n",
            "186                            재 조명 김현철 데뷔 곡 만 재 발매 결정 당시 춘천 기차 동네 등 다른 수록 곡 라디오 중심 인기 상대 주목 이 노래 김현철 마니아 사이 명곡 김현철 역시  ...             5\n",
            "200                      가수 김현철 만 버전 공개 결정 데뷔 곡 부활 만 춘천 기차 동네 등 수록 곡 인기 속 김현철 집 앨범 타이틀곡 이번 버전 전 유튜브 클럽 등 불 시티 팝 열풍 네이버  ...             5\n",
            "281  해시태그 매니저 폭로 데뷔 곡 재 발매 걸스데이 만 김현철 데뷔 앨범 타이틀 곡 당시 춘천 기차 동네 등 다른 수록 곡 더 인기 비교 덜 주목 트랙 이 노래 약 전 유튜브 클럽 등 중심 시티 팝 이 일명  ...             5\n",
            "\n",
            "[11 rows x 4 columns]\n",
            "<<Clustering Label 6>>\n",
            "\n",
            "                                                                                                                       title + article  ... cluster_label\n",
            "49           지난달 대선 도전 의논 박홍근 등 빈소 앞 박원순 취재 진의 출입 제한 빈소 박홍근 서울 중랑 선 동민 서울 성북 재선 김원 목포 초선 윤준 병 정읍 고창 초선 허영 춘천 철원 화천 갑 초선 의원 등 기 의원 김 의원  ...             6\n",
            "61                          영동 지역 물폭탄 예고 비 피해 주의 강원 지방 기상청 지역 매우 비 것 예상 만큼 지대 농경지 침수 산사태 축대 붕괴 등 비 피해 등산 낚시 등 야외 활동 시 안전 사고 유의 고 당부 춘천  ...             6\n",
            "63                                                                     날씨 내일 새벽 남부 지방 비 오전 전국 확대 춘천 구름 비 비 강릉 비 비 청주 가끔 비 가끔 비 대전 비 가끔  ...             6\n",
            "85                              지역 경제 효자 제로 페이 지자체 도입 경쟁 이처럼 지역 상품권 계 제로 페이 지역 경제 효자 노릇 하자 강원 춘천 경남 등 다른 지자체 적극 도입 지난 한해 원대 제로 페이 결제 액  ...             6\n",
            "86                                  발생 접경 양돈 농가 바이러스 피로 감 호소 지역 철원 인제 화천 양구 등 접경 지역 인근 홍천 춘천 확대 개월 사태 장기 출하 접경 지역 양돈 농가 시름 더욱 재입 여부 결론  ...             6\n",
            "97                                   날씨 제주 남해안 장맛비 내일 오전 전국 확대 밤 대부분 지역 비 강원 영동 춘천 남부 내륙 주말 아침 이번 지역별 강수량 차이 영남 해안 제주 이상 전남 남해안 경북 동해안  ...             6\n",
            "98                              현장 동민 허영 김원 박원순 조문 행렬 의원 강원 춘천 철원 화천 갑 지역구 당시 현역 김진태 전 미래 통합 의원 당선 행정 부시장 역임 윤준 병 의원 표정 빈소 향 총선 당선 민주당  ...             6\n",
            "123                             지역 경제 효자 제로 페이 지자체 도입 경쟁 이처럼 지역 상품권 계 제로 페이 지역 경제 효자 노릇 하자 강원 춘천 경남 등 다른 지자체 적극 도입 지난 한해 원대 제로 페이 결제 액  ...             6\n",
            "125                                 발생 접경 양돈 농가 바이러스 피로 감 호소 지역 철원 인제 화천 양구 등 접경 지역 인근 홍천 춘천 확대 개월 사태 장기 출하 접경 지역 양돈 농가 시름 더욱 재입 여부 결론  ...             6\n",
            "148                                  날씨 제주 남해안 장맛비 내일 오전 전국 확대 밤 대부분 지역 비 강원 영동 춘천 남부 내륙 주말 아침 이번 지역별 강수량 차이 영남 해안 제주 이상 전남 남해안 경북 동해안  ...             6\n",
            "153                             현장 동민 허영 김원 박원순 조문 행렬 의원 강원 춘천 철원 화천 갑 지역구 당시 현역 김진태 전 미래 통합 의원 당선 행정 부시장 역임 윤준 병 의원 표정 빈소 향 총선 당선 민주당  ...             6\n",
            "198                                                                     오늘날 전국 비 소식 수원 도 인천 도 춘천 구름 비 비 강릉 가끔 비 비 청주 가끔 비 가끔 비 대전 비 가끔  ...             6\n",
            "207                                                                     오늘날 전국 비 소식 서울 낮 최고 도 춘천 구름 비 비 강릉 가끔 비 비 청주 가끔 비 가끔 비 대전 비 가끔  ...             6\n",
            "210                                                    강원 산지 호우 주의보 륙 비 예상 강수량 동해안 지역 최대 로 비 춘천 등 영서 내륙 내일 새벽 의 비 동해안 지역 일부 산지 매우 비 시간  ...             6\n",
            "243  전남 지역 미사 중단 등 천주교 교 구별 미사 외 활동 자제 요청 기준 정부 방역 수칙 강화 관해 공지 발표 교구 광주 대교구 대전 교구 춘천교구 의정부교구 인천 교구 수원교구 개 지역 광주 대교구 전남 지역 미사 및 모임 전...  ...             6\n",
            "244                                           이틀 무더위 서지역 내일 낮 비 오늘 낮 최고 기온 화천 도 춘천 도 홍천 양구 철원 도 등 기록 서지역 내일 낮 비 반복 예상 강수량 로 지역별 강수량 차이  ...             6\n",
            "248                                 포토 뉴스 한기호 국회의원 국토부 현안 사업 논의 미래 통합 한기호 춘천 철원 화천 을 국회의원 국토교통부 방문 제 경춘국도 노선 등 접경 지역 대한 현안 사업 점검 협조 요청  ...             6\n",
            "261                                                       일기예보 금요일 오늘 날씨 전국 오전 강 한비 춘천 오늘 날씨 구름 비 비 강릉 오늘 날씨 비 비 청주 오늘 날씨 가끔 비 가끔 비 대전  ...             6\n",
            "263                   한기호 의원 국토교통부 방문 지역 확충 협조 요청 한기호 의원 국토교통부 방문 지역 확충 사안 설명 사진 제공 한기호 사무실 한기호 의원 춘천 은 오후 세종시 국토교통부 도로 철도 방문 접경 지역 대한  ...             6\n",
            "267                                   김장 청명 가을 배추 주 재배 지역 충남 아산 홍성 충북 괴산 강원 춘천 평창 영월 전남 해남 지역 전국 재배 현지 농가 일반 품종 청명 가을 배추 뿌리혹 병 병 배추 재배  ...             6\n",
            "275                          재배 품질 농가 소득 효자 품종 추천 주 재배 지역 충남 아산 홍성 충북 괴산 강원 춘천 평창 영월 전남 해남 지역 전국 재배 현지 농가 일반 품종 청명 가을 배추 뿌리혹 병 병 배추 재배  ...             6\n",
            "276                                    오늘 날씨 내일 날씨 새벽 비소 장맛비 오전 전국 확대 천둥 번개 동반 제주도 산지 물폭탄 태풍 시기 장마 기간 춘천 구름 비 비 강릉 비 비 청주 가끔 비 가끔 비 대전  ...             6\n",
            "\n",
            "[22 rows x 4 columns]\n",
            "<<Clustering Label 7>>\n",
            "\n",
            "                                                                                                                       title + article  ... cluster_label\n",
            "0                                        춘천시 경로당 운영 재개 강원 춘천시 폭염 대비 무더위 터 활용 위해 경로당 운영 재개 준비 춘천 내 경로당 코로나 발생 지난 운영 잠정 중단 여름철 더위 취약 어르신  ...             7\n",
            "8                                                                                 폭우 범람 해운대구 춘천 오후 부산 해운대구 좌동 춘천 교 주변 하천 춘천 이 폭우 범람 뉴스  ...             7\n",
            "9                                          탁 공원 시민 안전 강화 춘천시 신규 설치 춘천 시청 춘천시 사업 비 투입 설치 고 신규 설치 공사 지난달 진행 완료 계획 사업 추진 위해 시 지난 신규 설치 예정  ...             7\n",
            "10                춘천 극단 이륙 연극 작품 네트워킹 페스티벌 참가 선정 춘천 극단 이륙 대표 안준형 사진 의 연극 이 대한민국 연극제 네트워킹 페스티벌 참가 작 선정 차세대 연극인 육성 위해 지난해 신설 프로그램 올해 총 개  ...             7\n",
            "13                                                     춘천시 주택가 방범 취약 신규 설치 춘천시 올해 사업 비 원 투입 설치 새 것 교체 이 시청 내 통합 관제 센터 감시 현재 춘천 방범 용 차량  ...             7\n",
            "..                                                                                                                                 ...  ...           ...\n",
            "301  지자체 대학 협력 기반 지역 혁신 사업 유치 전 사활 강원 강원 지역 강원 비롯 강릉원주대 강원 도립대 춘천교대 등 국 공립 개교 가톨릭 관동대 경동대 상지대 연세대 미래 캠퍼스 한라대 한림대 등 사립대 개교 강릉 영동대 강원...  ...             7\n",
            "306                                 경로당 운영 기지개 업 코리아 춘천 시청 업 코리아 코로나 감염 예방 위해 문 경로당 마침내 문 연 춘천시 정부 폭염 대비 무더위 터 활용 위해 경로당 운영 재개 준비 춘천 내  ...             7\n",
            "307  인포그래픽 집값 대책 언제 문재인 정부 부동산 대책 정리 장현 춘천 우두 등 개 단지 고덕 강일 등 개 단지 후분 공급 정책 명칭 수도권 주택 공급 계획 차 날짜 주요 내용 수도권 주택 공급 방안 고양 창릉 부천 대장 등 기 신도시  ...             7\n",
            "308                                봄 내 건강 인기 눈길 업 코리아 춘천 시청 업 코리아 봄 내 건강 이 인기 끌 춘천시 보건소 지난 코로나 영향 시민 신체 활동 부족 문제 해결 위해 봄 내 건강 출시 매달 진행  ...             7\n",
            "311                         춘천 통 최정윤 컴 페티 션 리그 해녀 한보람 격돌 최정윤 뉴스 통신 춘천 통 최정윤 더짐랩 이 경기도 파주 오피셜짐 컴 페티 션 나 여자 춘천 통 각각 통과 끼리 자웅 현재 선수 및 파트너  ...             7\n",
            "\n",
            "[88 rows x 4 columns]\n",
            "<<Clustering Label 8>>\n",
            "\n",
            "                                                                                                                       title + article  ... cluster_label\n",
            "5           숭실 사이버대 방송 창작 학과 류지훈 춘천 연극제 공연 료 연극배우 류지훈 방송 창작 학과 재학 이 춘천 연극제 를 통해 조선 궁녀 지정 과 류지훈 그 코미디 기질 십분 열연 지난 춘천 축제 극장 몸짓 개최 춘천 연극제  ...             8\n",
            "7                                              강원도 춘천 레고 시티 조성 추진 강원도 레고랜드 계해 춘천 레고 시티 로 조성하 계획 추진 세부 계획 원 춘천 대교 물 조명 분수 설치 관광 자원 계획 또  ...             8\n",
            "16          숭실 사이버대 방송 창작 학과 류지훈 춘천 연극제 공연 료 연극배우 류지훈 방송 창작 학과 재학 이 춘천 연극제 를 통해 조선 궁녀 지정 과 류지훈 그 코미디 기질 십분 열연 지난 춘천 축제 극장 몸짓 개최 춘천 연극제  ...             8\n",
            "25                       구매 전담 춘천 협동 상단 유쾌 발랄 협동 마켓 신선도 넷 강원 춘천 유서현 주 풍경 대리 강원도 사회 이야기 춘천시 협동조합 센터 주관 춘천시 개 사회 경제 기업 참여 구매 전담 춘천 사회 경제  ...             8\n",
            "31                          춘천 올해 도 소년 체육대회 내년 연기 도 교육청 코로나 재 확산 안전 우선 강원도 교육청 코로나 확산 위해 올해 강원도 소년 체육대회 강원도 학교 스포츠클럽 축제 개최 당초 도 교육청 예정  ...             8\n",
            "46                       강원 교육청 디지털 성범죄 예방 담당자 연수 진행 이번 연수 유튜브 채널 강 시미 춘천 시청 회의실 오후 진행 연수 디지털 성범죄 전반 특성 성 착취 물 소지 구매 저장 시청 행위 제작 배포 행위  ...             8\n",
            "50                       강원 뉴딜 사업 국비 반영 주목 디지털 헬 스케 춘천 수열 에너지 클러스터 계 디지털 뉴딜 집중 모두 강원도 선점 정부 그린 뉴딜 정책 추진 중인 춘천 수열 에너지 산업 육성 데이터 집 단지 조성  ...             8\n",
            "53                       강원 소식 소년 체육대회 학교 스포츠클럽 축제 코로나 로 취소 춘천 강원도 학교 스포츠클럽 축제 운영 계획 코로나 사태 장기 화로 참가 학생 안전 고려 춘천시 홍천군 지속 협의 끝 대회 다음 순연  ...             8\n",
            "83                           대통령 뒤 대역 토론자 코로나 사태 지난달 강원 춘천 더존 비즈 온 강촌 캠퍼스 한국판 뉴딜 디지털 경제 현장 방문 일 산업 현장 직접 문 대통령 일본 수출 규제 언급 우리 불과 일본 의존  ...             8\n",
            "90                           한전 강원 본부 단체 협의 회 협약 전금 순 춘천시 여성 단체 협의 회 회장 김희선 협약 협약 통해 양 기관 효율 전기 사용 및 만큼 고객 매우 수 전력 서비스 개선 적극 노력 고 말 춘천  ...             8\n",
            "96                           기업 자체 데이터 센터 클라우드 제공 오라클 이하 다운타임 보장 엔드투엔드 보안 지원 본격 클라우드 전환 고민 대기업 수요 만족 면서 작년 서울 클라우드 센터 지난 춘천 센터 오픈 데 기업  ...             8\n",
            "110          강원 교육청 적극 상담 개입 디지털 성범죄 근절 이번 연수 강원도 청소년 상담 복지 센터 강원 시청자 미디어 센터 도움 온라인 유튜브 강 시미 과 오프라인 춘천 시청 회의실 동시 금 금 운영 코로나 예방 위해 각 학교  ...             8\n",
            "122                          대통령 뒤 대역 토론자 코로나 사태 지난달 강원 춘천 더존 비즈 온 강촌 캠퍼스 한국판 뉴딜 디지털 경제 현장 방문 일 산업 현장 직접 문 대통령 일본 수출 규제 언급 우리 불과 일본 의존  ...             8\n",
            "131                          한전 강원 본부 단체 협의 회 협약 전금 순 춘천시 여성 단체 협의 회 회장 김희선 협약 협약 통해 양 기관 효율 전기 사용 및 만큼 고객 매우 수 전력 서비스 개선 적극 노력 고 말 춘천  ...             8\n",
            "139                      강원도 교육청 올해 학생 종합 체육대회 취소 사태 장기 화로 참가 학생 감염 우려 올해 개최 예정 강원도 소년 체육대회 강원도 학교 스포츠클럽 축제 취소 이번 취소 행사 내년 춘천 홍천 분산 개최  ...             8\n",
            "140                      강원도 교육청 올해 학생 종합 체육대회 취소 사태 장기 화로 참가 학생 감염 우려 올해 개최 예정 강원도 소년 체육대회 강원도 학교 스포츠클럽 축제 취소 이번 취소 행사 내년 춘천 홍천 분산 개최  ...             8\n",
            "146                          기업 자체 데이터 센터 클라우드 제공 오라클 이하 다운타임 보장 엔드투엔드 보안 지원 본격 클라우드 전환 고민 대기업 수요 만족 면서 작년 서울 클라우드 센터 지난 춘천 센터 오픈 데 기업  ...             8\n",
            "159                     청소년 유관 기관 관계자 디지털 성범죄 예방 특강 관련 전반 이해 관계자 역할 등 제시 마련 첫 강의 춘천 시청 회의실 린다 대면 특강 명 제한 영상 강원 시청자 미디어 센터 채널 통해 실시간 중계  ...             8\n",
            "160                     청소년 유관 기관 관계자 디지털 성범죄 예방 특강 관련 전반 이해 관계자 역할 등 제시 마련 첫 강의 춘천 시청 회의실 린다 대면 특강 명 제한 영상 강원 시청자 미디어 센터 채널 통해 실시간 중계  ...             8\n",
            "163             오늘 주요 일정 강원 금 강원도 김성호 행정부 지사 코로나 관련 영상 회의 재난 안전 대책 본부 상황 실 춘천시 이재수 시장 양재 정비 촉진 계획 수립 용역 보고 회 접견 실 강릉시 김한근 시장 문화 관광 콘텐츠  ...             8\n",
            "178                     도 학교 스포츠클럽 축제 도 소년 체육대회 미개 최 참가 학생 안전 최 우선 고려 개최 지인 춘천시 홍천군 최종 협의 통해 내년 순연 신충 린 문화 체육 과장 최근 수도권 전국 코로나 재 확산 단위  ...             8\n",
            "179                                    인터뷰 범죄 사냥꾼 이대우 형사 다시 경찰 이유 강원 경찰청 춘천 경찰서 이대우 형사 과장 도시 경찰 시티 헌터 경찰청 사람 등 방송 출연 스스로 위 자신 동료 경찰 범인  ...             8\n",
            "190               한선수 트레이너 협회 휠체어 농구 선수 안전 우리 휠체어 농구 리그 다음 달 춘천 호반 체육관 개막 예정 휠체어 농구 선수 한선수 트레이너 협회 도움 각종 상해 예방 컨디션 유지 도움 것 예상 한선수 트레이너  ...             8\n",
            "208  강원도 교육청 온 오프라인 통한 디지털 성범죄 예방 교육 담당자 연수 이번 연수 강원도 청소년 상담 복지 센터 강원 시청자 미디어 센터 도움 온라인 유튜브 강 시미 과 오프라인 춘천 시청 회의실 동시 운영 코로나 예방 위해 각...  ...             8\n",
            "215                                      강원도 소년 체전 학교 스포츠클럽 축제 취소 코로나 재 확산 상황 단위 밀집 형태 체육대회 열 경우 안전 담보 판단 아래 개최 지인 춘천시 홍천군 협의 올해 대회 취소  ...             8\n",
            "223  삶 지역 위 스포츠 협동조합 설립 지원 참여자 모집 일반 개인 단체 스포츠 협동조합 설립 지원 위해 사회 경제 중간 지원 기관 강원도 사회 지원 센터 센터 이강 익 춘천시 협동조합 지원 센터 센터 조경자 원주 협동 사회 경제 ...  ...             8\n",
            "226                                    강원도 소년 체육대회 학교 스포츠클럽 축제 취소 강원 학생 스포츠 축제 로 열기 코로나 확산 학생 안전 위해 최종 취소 결정 올해 취소 대회 내년 올해 개최 춘천시 홍천군  ...             8\n",
            "230                  간추린 소식 강원 경찰 체육 불법행위 특별 사단 운영 외 이번 취소 행사 내년 춘천 홍천 분산 개최 강원도 춘천 레고 시티 조성 추진 강원도 레고랜드 계해 춘천 레고 시티 로 조성하 계획 추진 세부 계획  ...             8\n",
            "251                                            남자 청소년 상대 성범죄 징역 춘천 지법 강릉 지원 제 형사 씨 징역 선고 성폭력 치료 프로그램 이수 신상 정보 공개 아동 청소년 관련 기관 취업 제한 명령  ...             8\n",
            "277       서울 국제 무용 콩쿠르 개막 무용 등용문 참가인 사상 최 사진 서울 국제 무용 콩쿠르 제공 제 국제 무용 콩쿠르 강원 춘천 캠퍼스 령 아트 센터 서울 마포 아트 센터 아트 홀 맥 린다 시작 국제 무용 콩쿠르 발레 컨템포러리  ...             8\n",
            "296               재능 무용 발굴 서울 국제 무용 콩쿠르 막 제 국제 무용 콩쿠르 강원 춘천 캠퍼스 령 아트 센터 서울 마포 아트 센터 아트 홀 맥 린다 시작 국제 무용 콩쿠르 발레 컨템포러리 민족 무용 안무 등 개 부문 재능  ...             8\n",
            "304    상지대 발달장애 통합 지원 센터 보완 대체 의사소통 교육 실시 교육 원주 춘천 및 태백 지역 등 지역 사회 보완 대체 의사소통 관심 장애인 부모 특수 교사 및 언어치료사 참석 언어치료 학과 지원 센터 봄 은 지역 기관 협력 지역  ...             8\n",
            "\n",
            "[32 rows x 4 columns]\n",
            "<<Clustering Label 9>>\n",
            "\n",
            "                                                                                                                 title + article  ... cluster_label\n",
            "89                              선발 완전체 브리 검 한현희 복귀 시점 확정 현장 오른쪽 팔꿈치 염좌 달 군 브리 지난 춘천 구장 퓨처스리그 경기 등 이닝 안타 실점 기록 최고 구속 패스트볼 평균 구속 손  ...             9\n",
            "130                             선발 완전체 브리 검 한현희 복귀 시점 확정 현장 오른쪽 팔꿈치 염좌 달 군 브리 지난 춘천 구장 퓨처스리그 경기 등 이닝 안타 실점 기록 최고 구속 패스트볼 평균 구속 손  ...             9\n",
            "168                         천안시 축구단 전전 승리 연승 도전 지난주 춘천 원정 코로나 의 여파 연기 혼란 개막 이후 첫 브레이크 타임 가지 회복 집중 이 김태영 감독 지난주 경기 연기 승리 흐름 생각 정비  ...             9\n",
            "171                        선발 진 완전체 눈 앞 브리 검 한현희 복귀 시점 윤곽 현장 브리 춘천 구장 와이번스 퓨처스리그 이닝 피 안타 피홈런 탈삼진 실점 투구 수 최고 구속 손혁 감독 고척 성전 이상 이닝  ...             9\n",
            "184                         천안시 축구단 전전 승리 연승 도전 지난주 춘천 원정 코로나 의 여파 연기 혼란 개막 이후 첫 브레이크 타임 가지 회복 집중 이 김태영 감독 지난주 경기 연기 승리 흐름 생각 정비  ...             9\n",
            "239        한현희 브리 검 복귀 예정 완전체 선발 진 고척 트리 밍 지난 오른쪽 팔꿈치 염증 증세 전력 이탈 브리 지난 춘천 와이번스 퓨처스리그 경기 선발 등 이닝 동안 투구 수 구 피 안타 피홈런 볼넷 탈삼진 실점 자책  ...             9\n",
            "254                          안타 폭발 불펜 무실점 릴레이 퓨처 스팀 고양 역전승 퓨처 스팀 춘천 의암야구장 고양 히어로즈 군 경기 로 공격 돌입 전 해도 로 경기 중 후반 선 불펜 동반 분전 끝내 경기 수  ...             9\n",
            "273  고척 브리핑 이영준 허리 통증 군 제외 브리 검 한현희 복귀 임박 지난 롯데 자이언츠 전 이후 팔꿈치 통증 이탈 브리 춘천 와이번스 퓨처 스 군 경기 선발 등 이닝 동안 안타 홈런 볼넷 삼진 실점 기록 실전 감각 회복 손  ...             9\n",
            "287                  물 축구 천안시 축구단 대전 상대로 연승 도전 지난주 춘천 원정 코로나 여파 연기 혼란 개막 이후 첫 브레이크 타임 가지 회복 집중 김태영 감독 지난주 경기 연기 승리 흐름 생각 정비 시간 수  ...             9\n",
            "291                  물 축구 천안시 축구단 대전 상대로 연승 도전 지난주 춘천 원정 코로나 여파 연기 혼란 개막 이후 첫 브레이크 타임 가지 회복 집중 김태영 감독 지난주 경기 연기 승리 흐름 생각 정비 시간 수  ...             9\n",
            "\n",
            "[10 rows x 4 columns]\n",
            "<<Clustering Label 10>>\n",
            "\n",
            "                                                                                                           title + article  ... cluster_label\n",
            "1          춘천시 하절 기 장마철 환경오염 행위 특별 감시 실시 춘천 시청 전경 춘천시 하절 기 장마철 환경오염 행위 특별 감시 를 실시 하절 기 장마철 집중호우 오염 물질 수역 다량 유입 가능성 시기 이 시기  ...            10\n",
            "2                       춘천시 집중호우 시 오염 물질 배출 사전 차단 강원 춘천시 집중호우 시 오염 물질 배출 행위 사전 차단 시 이번 달 시 특별 감시 통해 춘천 자연환경 오염 것 말 신아일보 춘천  ...            10\n",
            "3                           춘천시 업무 드론 활용 예산 절감 효과 강원 춘천시 업무 무인 비행기 드론 를 활용 성과 춘천시 항공 영상 드론 첫 도입 분야 활용 상공 때문 기존 조사 방법 더 정확성  ...            10\n",
            "4              춘천시 정부 행정 드론 타고 훨훨 업 코리아 춘천 시청 업 코리아 춘천시 정부 드론 운영 이 스마트 행정 선도 강원도 감사 위원회 최근 정부 드론 운영 강원도 모범 사례 선정 차 산업혁명 기술  ...            10\n",
            "11       춘천 지역 기업 대거 참가 바이오 도시 입증 춘천시 의회 춘천시 춘천시 의회 바이오 산업 선도 도시 임 재 확인 부산 벡스코 대한민국 의회 행정 박람회 춘천시 지역 내 바이오 기업 생산 상품 대거 화장품  ...            10\n",
            "12                          춘천시 업무 드론 활용 예산 절감 효과 강원 춘천시 업무 무인 비행기 드론 를 활용 성과 춘천시 항공 영상 드론 첫 도입 분야 활용 상공 때문 기존 조사 방법 더 정확성  ...            10\n",
            "15   춘천시 항공 영상 촬영 용 드론 강원도 모범 사례 선정 강원 춘천시 드론 운영 이 스마트 행정 선도 춘천시 강원도 감사 위원회 최근 항공 영상 촬영 용 드론 운영 도 모범 사례 선정 차 산업혁명 기술 드론 시정  ...            10\n",
            "24                           포토 뉴스 명준 법사 춘천 회장 육류 후원 명준 법사 춘천 회장 오른쪽 은 법무 보호복 공단 강원 지부 부장 정상구 를 보호대 상자 급식 달라 홍천 말 구이 육류 후원  ...            10\n",
            "48                               군 의회 진흙탕 싸움 원인 이상민 춘천시 의원 서로 간 협상 협치 그 부분 다수 힘 논리 그 부분 대해 승자 승 독식 가장 문제 황 환주 춘천시 의장 기초 의회  ...            10\n",
            "55                               군 의회 진흙탕 싸움 원인 이상민 춘천시 의원 서로 간 협상 협치 그 부분 다수 힘 논리 그 부분 대해 승자 승 독식 가장 문제 황 환주 춘천시 의장 기초 의회  ...            10\n",
            "66   코로나 이후 한국 문화재 보존 활용 방안 국립 춘천 박물관 학예연구사 문화재 해석 적용 연구 임경희 국립 고궁 박물관 학예 구관 제정 문화재 보호 법 일본 문화재 보호 법령 김용철 고려대 교수 등 심포지엄 내용  ...            10\n",
            "68            강원 정보 문화 진흥 주년 강원 춘천시 출자 기관 강원 정보 문화 진흥 창립 주년 기업 이미지 를 교체 강원 정보 문화 진흥 창립 기념일 맞이 새 를 소통 열정 겸손 통해 강원도 정보 문화 산업  ...            10\n",
            "82    기상청 강원도 태풍 대형 산불 공동 협력 체계 구축 기상청 강원 춘천시 강원 도청 강원도 기상 분야 공동 협력 체계 구축 업무 협약 체결 이번 협약 기상청 강원도 보유 기상관측 장비 총괄 관리 관측 환경 개선  ...            10\n",
            "93                          범어 중앙 공원 빚 땅 사고 법정 다툼 춘천 강릉 예산 부족 덕 일부 지자체 예산 확보 어려움 강원도 내 일몰 제 춘천시 곳 의 일몰 제 대상 부지 공원 조성 위해 예산  ...            10\n",
            "104                   강원 정보 문화 진흥 창립 주년 선포 진흥 지난 동안 강원도 정보 문화 산업 성장 토대 마련 며 차 산업혁명 시대 발 더욱 열정 태도 지역 기업 육성 일자리 창 출하 기관 고 춘천  ...            10\n",
            "121   기상청 강원도 태풍 대형 산불 공동 협력 체계 구축 기상청 강원 춘천시 강원 도청 강원도 기상 분야 공동 협력 체계 구축 업무 협약 체결 이번 협약 기상청 강원도 보유 기상관측 장비 총괄 관리 관측 환경 개선  ...            10\n",
            "138                         범어 중앙 공원 빚 땅 사고 법정 다툼 춘천 강릉 예산 부족 덕 일부 지자체 예산 확보 어려움 강원도 내 일몰 제 춘천시 곳 의 일몰 제 대상 부지 공원 조성 위해 예산  ...            10\n",
            "144                    대법원 양심 병역 거부 여호와 증인 실형 심 파기 무죄 원심 파기 환송 피고인 주거지 춘천시 보충대 입영 경남 지방 병무청장 명의 입영 통지서 수령 입영 일로 경과 날 사유 입영  ...            10\n",
            "170                                  도내 노후 유차 조기 폐차 지원 예산 반토막 원주 대로 가장 춘천 홍천 동해 평창 순이 하반기 투입 예산 폐차 대당 평균 원금 볼때 연말 대의 폐차 지원  ...            10\n",
            "181  코로나 이후 디지털 대의 문화재 보존 활용 방안 박 효은 국립 춘천 박물관 학예연구사 미술품 감정 미래 가치 주제 한국 미술품 감정 현주소 문화재 시가 감정 미술사 연구자 참여 대한 문제 언급 미술품 감정 기준  ...            10\n",
            "202                              코로나 속 개문 냉방 단속 허용 딜레마 인터뷰 정민 채 춘천시 상인 코로나 때문 고객 문 거부 반응 밀폐 공간 인터뷰 정 채린 춘천시 우두동 좀 기도 시국 시국  ...            10\n",
            "205                주요 한인 사회 소식 한국 재외동포재단 한국 시간 춘천교육대 학교 업무 협약 체결 재외동포 의미 역사 활동 한국 초 중등 교육과정 교과서 반영 위해 공동 노력 도산 안창호 선생 장녀 고  ...            10\n",
            "211                                    알림 재외동포재단 국 재외동포 이해도 위해 춘천교대 업무 협약 체결 초 중등 교육과정 교과서 재외동포 관련 내용 반영 노력 재외동포 이해 교육 매뉴얼  ...            10\n",
            "238    속도 그대로 통과 다차 하이패스 곳 추가 신설 도로공사 내년 목포 춘천 포항 요금소 등 곳 다차 하이패스 도입 뒤 비용 대비 편익 등 경제성 안전성 예산 등 검토 추가 다차 하이패스 확대 계획 도로공사 관리  ...            10\n",
            "245                             경상 시론 채용 방법 무엇 그 이후 춘천지방검찰청 사건 수사 강원랜드 사장 인사 팀 불구속 기소 최초 검사 안 미현 검사 수사 당시 검찰 고위 간부 국회의원 외압  ...            10\n",
            "305                 얌체 오염 물질 배출 꼼짝 마 업 코리아 춘천 시청 업 코리아 춘천시 정부 집중호우 시 오염 물질 배출 행위 사전 차단 정부 하절 기 장마철 환경오염 행위 특별 감시 를 실시 하절 기  ...            10\n",
            "\n",
            "[26 rows x 4 columns]\n"
          ],
          "name": "stdout"
        }
      ]
    },
    {
      "cell_type": "code",
      "metadata": {
        "id": "9Pu_pJHjQOAQ",
        "colab_type": "code",
        "colab": {
          "base_uri": "https://localhost:8080/",
          "height": 161
        },
        "outputId": "91094ba5-e978-444d-fa56-3cecfcc7b05c"
      },
      "source": [
        "cluster_centers = km_cluster.cluster_centers_\n",
        "print('cluster_centers shape : ', cluster_centers.shape)\n",
        "print(cluster_centers)"
      ],
      "execution_count": 19,
      "outputs": [
        {
          "output_type": "stream",
          "text": [
            "cluster_centers shape :  (11, 2379)\n",
            "[[0.         0.         0.         ... 0.         0.         0.        ]\n",
            " [0.         0.         0.         ... 0.         0.         0.        ]\n",
            " [0.         0.00212289 0.         ... 0.         0.         0.        ]\n",
            " ...\n",
            " [0.         0.         0.         ... 0.         0.         0.        ]\n",
            " [0.         0.         0.         ... 0.0166098  0.         0.        ]\n",
            " [0.         0.         0.00564682 ... 0.         0.         0.01363597]]\n"
          ],
          "name": "stdout"
        }
      ]
    },
    {
      "cell_type": "markdown",
      "metadata": {
        "id": "4-ndQmMiSPJs",
        "colab_type": "text"
      },
      "source": [
        "# Topic Keyword Top10"
      ]
    },
    {
      "cell_type": "code",
      "metadata": {
        "id": "BUEGxyq_Ql_A",
        "colab_type": "code",
        "colab": {}
      },
      "source": [
        "# 군집별 top n 핵심단어, 그 단어의 중심 위치 상대값, 대상 제목들을 반환함. \n",
        "def get_cluster_details(cluster_model, cluster_data, feature_names, clusters_num, top_n_features=10):\n",
        "    cluster_details = {}\n",
        "    \n",
        "    # cluster_centers array 의 값이 큰 순으로 정렬된 index 값을 반환\n",
        "    # 군집 중심점(centroid)별 할당된 word 피처들의 거리값이 큰 순으로 값을 구하기 위함.  \n",
        "    centroid_feature_ordered_ind = cluster_model.cluster_centers_.argsort()[:,::-1]\n",
        "    \n",
        "    #개별 군집별로 iteration하면서 핵심단어, 그 단어의 중심 위치 상대값, 대상 제목 입력\n",
        "    for cluster_num in range(clusters_num):\n",
        "        # 개별 군집별 정보를 담을 데이터 초기화. \n",
        "        cluster_details[cluster_num] = {}\n",
        "        cluster_details[cluster_num]['cluster'] = cluster_num\n",
        "        \n",
        "        # cluster_centers_.argsort()[:,::-1] 로 구한 index 를 이용하여 top n 피처 단어를 구함. \n",
        "        top_feature_indexes = centroid_feature_ordered_ind[cluster_num, :top_n_features]\n",
        "        top_features = [ feature_names[ind] for ind in top_feature_indexes ]\n",
        "        \n",
        "        # top_feature_indexes를 이용해 해당 피처 단어의 중심 위치 상댓값 구함 \n",
        "        top_feature_values = cluster_model.cluster_centers_[cluster_num, top_feature_indexes].tolist()\n",
        "        \n",
        "        # cluster_details 딕셔너리 객체에 개별 군집별 핵심 단어와 중심위치 상대값, 그리고 해당 파일명 입력\n",
        "        cluster_details[cluster_num]['top_features'] = top_features\n",
        "        cluster_details[cluster_num]['top_features_value'] = top_feature_values\n",
        "        filenames = cluster_data[cluster_data['cluster_label'] == cluster_num]['title']\n",
        "        filenames = filenames.values.tolist()\n",
        "        cluster_details[cluster_num]['title'] = filenames\n",
        "        \n",
        "    return cluster_details"
      ],
      "execution_count": 20,
      "outputs": []
    },
    {
      "cell_type": "code",
      "metadata": {
        "id": "WgvtY-R3QpXR",
        "colab_type": "code",
        "colab": {}
      },
      "source": [
        "def print_cluster_details(cluster_details):    \n",
        "    for cluster_num, cluster_detail in cluster_details.items():\n",
        "        print('####### Cluster {0}'.format(cluster_num))\n",
        "        print('Top features:', cluster_detail['top_features'])\n",
        "        print('Title :',cluster_detail['title'][:7])\n",
        "        print('==================================================')"
      ],
      "execution_count": 21,
      "outputs": []
    },
    {
      "cell_type": "code",
      "metadata": {
        "id": "kEpZRsaDQqhP",
        "colab_type": "code",
        "colab": {
          "base_uri": "https://localhost:8080/",
          "height": 829
        },
        "outputId": "cdc2fddf-a9f5-4744-b809-3b651ef859f0"
      },
      "source": [
        "feature_names = tfidf_vect.get_feature_names()\n",
        "\n",
        "cluster_details = get_cluster_details(cluster_model=km_cluster, cluster_data=topic_df,\\\n",
        "                                  feature_names=feature_names, clusters_num=clusters_num, top_n_features=10 )\n",
        "print_cluster_details(cluster_details)"
      ],
      "execution_count": 22,
      "outputs": [
        {
          "output_type": "stream",
          "text": [
            "####### Cluster 0\n",
            "Top features: ['교정', '위원장', '도당', '위원', '통합', '한기호', '민주', '회원', '전', '수형']\n",
            "Title : ['[포토뉴스]한기호(춘천.철원.화천.양구 을) 의원 통합당 강원도당 위원장 선출', '통합당 도당위원장 한기호 추대', '법무부, 제38회 교정대상 시상식 거행', \"소소서우회 '노자 도덕경 휘호집' 발간\", '통합당 도당위원장 한기호 추대', '법무부, 제38회 교정대상 시상식 거행', \"소소서우회 '노자 도덕경 휘호집' 발간\"]\n",
            "==================================================\n",
            "####### Cluster 1\n",
            "Top features: ['명', '씨', '채', '징역', '혐의', '아파트', '예식장', '등', '집', '기소']\n",
            "Title : ['[춘천]춘천 인구 4개월 연속 줄었다', '이달말부터 춘천 소양2교 안전진단…차량통제 없어', '[춘천]소양2교 정밀 안전진단 추진', '[내일날씨] 오후 내륙 곳곳 비 소식…서울 낮 최고 30도', '[공직자의 집]③ 강원도 고위공직자 31%, 집 2채 이상 보유', '[공직자의 집]③ 다주택자 31%…“집? 두 채는 있어야”', '강원대 ‘코로나 극복 장학금’ 부모 실직·폐업 학생 146명에 지급']\n",
            "==================================================\n",
            "####### Cluster 2\n",
            "Top features: ['도', '강릉', '기온', '대전', '서울', '대구', '부산', '인천', '제주', '광주']\n",
            "Title : ['전국에 비 소식..경남해안·제주 200㎜ 이상', '전국 곳곳 흐리고 장대비…제주·전남 호우경보', '[오늘 날씨] 전국 장맛비…제주 시작 오전9시 전역 확산', '[오늘날씨] 전국 오전 비…오후에 남부부터 그쳐', '[내일 날씨] 전국 장맛비…제주 돌풍동반 시간당 최대 70㎜ 물폭탄', '저녁부터 장맛비 북상…내일 오전엔 전국에 비', '[주말날씨] 주말 전국 흐린 날씨…월요일 전국에 장맛비']\n",
            "==================================================\n",
            "####### Cluster 3\n",
            "Top features: ['구봉산', '투썸플레이스', '점', '스카이', '카페', '데크', '병풍', '투썸', '동쪽', '훤히']\n",
            "Title : [\"[월간 CEO&]투썸플레이스, '카페케이션' 명소 5곳 소개\", \"[월간 CEO&]투썸플레이스, '카페케이션' 명소 5곳 소개\", '투썸플레이스, ‘카페케이션’ 명소 5곳 소개', '\"오션뷰부터 루프탑, 스카이데크까지\"… \\'카페케이션\\' 명소 5곳 어디?', \"사진찍기 좋은 카페 어디? '뷰 맛집'으로 소문난 전국 투썸플레이스 매장 5곳\", '투썸플레이스, ‘카페케이션’ 명소 5곳 소개', \"'카페케이션' 명소 5곳! 투썸, 오션뷰부터 루프탑 추천\"]\n",
            "==================================================\n",
            "####### Cluster 4\n",
            "Top features: ['병원', '성심', '한림대', '학교', '평가', '환자', '경험', '강남', '점', '심사평가원']\n",
            "Title : ['춘천성심병원, \"\\'Mind Knock카드\\'로 환자경험 향상\"', '춘천성심병원, \"\\'Mind Knock카드\\'로 환자경험 향상\"', '한림대춘천성심병원, ‘의료서비스 환자경험 평가’ 강원도 1위', '한림대학교의료원, 급성기뇌졸중 적정성 평가 1등급 획득', \"병원모형 '다제약물 관리사업', 서울대병원 등 5개 병원 실무협상 돌입\", '한림대학교의료원, 급성기뇌졸중 적정성 평가 1등급 획득', '한림대의료원, ‘급성기뇌졸중 적정성 평가’ 1등급 획득']\n",
            "==================================================\n",
            "####### Cluster 5\n",
            "Top features: ['곡', '문학', '김현철', '부', '뜰', '발매', '만', '데뷔', '재', '자연']\n",
            "Title : ['김현철 데뷔곡 ‘오랜만에’ 31년만에 재발매', '자연 속에서 찾은 문학의 진원', \"자연과 예술의 만남 '문학의 뜰'로의 초대\", '데뷔곡으로 다시 돌아온 김현철… ‘오랜만에’ 31년 만에 재발매', '자연 속에서 찾은 문학의 진원', '자연 속에서 찾은 문학의 진원', \"자연과 예술의 만남 '문학의 뜰'로의 초대\"]\n",
            "==================================================\n",
            "####### Cluster 6\n",
            "Top features: ['비', '지역', '가끔', '의원', '접경', '재배', '농가', '내일', '병', '철원']\n",
            "Title : [\"지난달 '대선 도전' 의논도···박홍근 등 빈소 앞 모인 '박원순계'\", '영동지역 200㎜ 물폭탄 예고, 비 피해 주의', '[날씨] 내일 새벽 남부지방부터 비…오전에 전국 확대', '지역 경제 효자된 제로페이…지자체 도입 경쟁', \"끝없는 ASF 발생…접경지 양돈농가 '바이러스 피로감' 호소\", '[날씨] 차츰 제주·남해안 장맛비…내일 오전 전국 확대', \"[TF현장] 기동민·허영·김원이…'박원순계' 조문 행렬\"]\n",
            "==================================================\n",
            "####### Cluster 7\n",
            "Top features: ['춘천', '춘천시', '등', '강원', '사업', '운영', '경로당', '선정', '올해', '곳']\n",
            "Title : ['춘천시, 경로당 354개소 운영 재개', \"폭우로 범람한 해운대구 '춘천'\", \"'주탁가·공원 시민 안전강화'…춘천시, CCTV 153대 신규 설치\", \"춘천 극단 이륙 연극 작품 '끊'\", '춘천시, 주택가 방범 취약지 CCTV 153대 신규 설치', '[춘천]춘천지역 아파트 공사현장 소음 민원 속출', '춘천시축구협회 횡령 혐의 춘천시체육회, 고발장 제출']\n",
            "==================================================\n",
            "####### Cluster 8\n",
            "Top features: ['센터', '강원도', '취소', '축제', '체육대회', '강원', '개최', '디지털', '춘천', '스포츠클럽']\n",
            "Title : ['숭실사이버대 방송문예창작학과 류지훈, 2020년 춘천연극제 공연 성료', '강원도, ‘춘천 레고시티’ 조성 추진', '숭실사이버대 방송문예창작학과 류지훈, 2020년 춘천연극제 공연 성료', \"공공구매 전담 춘천 협동상단, 유쾌발랄 협동마켓 '신선도 100%'\", '[춘천]올해 도 소년체육대회 내년으로 연기', '강원교육청 디지털 성범죄 예방 담당자 연수 진행', '8조7천억 강원형 뉴딜 사업 국비 반영 주목']\n",
            "==================================================\n",
            "####### Cluster 9\n",
            "Top features: ['브리', '경기', '지난주', '연기', '승리', '이닝', '안타', '선발', '구속', '감독']\n",
            "Title : ['선발 완전체 앞둔 키움, 브리검 한현희 복귀 시점 확정[SS현장]', '선발 완전체 앞둔 키움, 브리검 한현희 복귀 시점 확정[SS현장]', '천안시축구단, 대전전 승리로 연승에 도전', '키움 선발진 완전체 눈 앞, 브리검·한현희 복귀시점 윤곽[MD현장]', '천안시축구단, 대전전 승리로 연승에 도전', \"한현희 12일·브리검 14일 복귀 예정…'완전체' 앞둔 키움 선발진 [고척 S트리밍]\", '‘14안타 폭발+불펜 무실점 릴레이’ SK 퓨처스팀, 고양에 10-7 역전승']\n",
            "==================================================\n",
            "####### Cluster 10\n",
            "Top features: ['춘천시', '드론', '예산', '업무', '강원도', '활용', '의회', '강원', '협약', '오염']\n",
            "Title : [\"춘천시 '하절기·장마철 환경오염행위 특별감시' 실시\", '춘천시, 집중호우 시 오염물질 배출 사전 차단', '춘천시 업무에 드론 활용으로 예산 절감 효과', \"춘천시정부 행정, 드론타고 '훨훨'\", '[춘천]지역 기업 대거 참가 바이오 도시 입증', '춘천시 업무에 드론 활용으로 예산 절감 효과', '춘천시 항공 영상 촬영용 드론, 강원도 모범사례로 선정']\n",
            "==================================================\n"
          ],
          "name": "stdout"
        }
      ]
    },
    {
      "cell_type": "markdown",
      "metadata": {
        "id": "ZElkBGUPR27l",
        "colab_type": "text"
      },
      "source": [
        "# Word2Vec Similarity between Words\n",
        "\n",
        "## Create Word2Vec Word Vocabulary"
      ]
    },
    {
      "cell_type": "code",
      "metadata": {
        "id": "SAMth6k2SbSq",
        "colab_type": "code",
        "colab": {}
      },
      "source": [
        "# 토큰화 된 문장 리스트를 단어별로 split한 후 2차원 리스트로 저장\n",
        "WordVoca_list = []\n",
        "for item in TitDesc_okt:\n",
        "    WordVoca_list.append(item.split(' '))\n",
        "\n",
        "# split된 2차원 리스트 중에서 한 글자짜리 단어들을 모두 제외시키고 WordVoca 리스트 생성\n",
        "# Word2Vec 모델 학습 데이터로 활용됨\n",
        "WordVoca = []\n",
        "for i in range(len(WordVoca_list)):\n",
        "    element = []\n",
        "    for j in range(len(WordVoca_list[i])):\n",
        "        if len(WordVoca_list[i][j]) > 1:\n",
        "            element.append(WordVoca_list[i][j])\n",
        "    WordVoca.append(element)"
      ],
      "execution_count": 72,
      "outputs": []
    },
    {
      "cell_type": "code",
      "metadata": {
        "id": "PZUt7jSNSdST",
        "colab_type": "code",
        "colab": {}
      },
      "source": [
        "#model = Word2Vec(sentences=WordVoca_list, size=100, window=5, min_count=5, workers=4, sg=1)\n",
        "#model_result = model.most_similar(positive=['경로당'], topn=10)\n",
        "#model_result"
      ],
      "execution_count": 43,
      "outputs": []
    },
    {
      "cell_type": "code",
      "metadata": {
        "id": "DQGJoHUPVcBd",
        "colab_type": "code",
        "colab": {}
      },
      "source": [
        "def WordSimilarity(word, count):\n",
        "    model = Word2Vec(sentences=WordVoca, size=100, window=5, min_count=5, workers=4, sg=1)\n",
        "    model_result = model.most_similar(positive=[word], topn=count)\n",
        "\n",
        "    Similarity_df = pd.DataFrame(model_result, columns=[word,'Similarity'])\n",
        "    print('{0}과 유사한 단어 Top {1} :'.format(word, count))\n",
        "    print(Similarity_df)"
      ],
      "execution_count": 91,
      "outputs": []
    },
    {
      "cell_type": "code",
      "metadata": {
        "id": "JaqbUaf6Xh2i",
        "colab_type": "code",
        "colab": {
          "base_uri": "https://localhost:8080/",
          "height": 233
        },
        "outputId": "a697cf00-5581-4931-a050-86f0ae2c3965"
      },
      "source": [
        "WordSimilarity('구봉산', 10)"
      ],
      "execution_count": 92,
      "outputs": [
        {
          "output_type": "stream",
          "text": [
            "구봉산과 유사한 단어 Top 10 :\n",
            "      구봉산  Similarity\n",
            "0      자락    0.999305\n",
            "1      투썸    0.999233\n",
            "2      동쪽    0.999212\n",
            "3      병풍    0.999140\n",
            "4      데크    0.998826\n",
            "5      위치    0.998822\n",
            "6      전경    0.998625\n",
            "7     스카이    0.998606\n",
            "8  투썸플레이스    0.998591\n",
            "9      훤히    0.998381\n"
          ],
          "name": "stdout"
        }
      ]
    },
    {
      "cell_type": "code",
      "metadata": {
        "id": "u_Y7Ewt8lSkN",
        "colab_type": "code",
        "colab": {}
      },
      "source": [
        ""
      ],
      "execution_count": null,
      "outputs": []
    }
  ]
}