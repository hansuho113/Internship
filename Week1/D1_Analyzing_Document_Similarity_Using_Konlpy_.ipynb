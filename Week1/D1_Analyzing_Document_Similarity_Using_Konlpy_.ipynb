{
  "nbformat": 4,
  "nbformat_minor": 0,
  "metadata": {
    "colab": {
      "name": "Analyzing Document Similarity Using Konlpy .ipynb",
      "provenance": []
    },
    "kernelspec": {
      "name": "python3",
      "display_name": "Python 3"
    }
  },
  "cells": [
    {
      "cell_type": "code",
      "metadata": {
        "id": "KiLxN1xFBdOM",
        "colab_type": "code",
        "colab": {}
      },
      "source": [
        "import feedparser\n",
        "from bs4 import BeautifulSoup as bs\n",
        "import urllib\n",
        "import urllib.request as req\n",
        "import requests\n",
        "from newspaper import Article\n",
        "from sklearn.feature_extraction.text import TfidfVectorizer\n",
        "from konlpy.tag import Kkma, Okt, Komoran\n",
        "from konlpy.utils import pprint"
      ],
      "execution_count": 84,
      "outputs": []
    },
    {
      "cell_type": "code",
      "metadata": {
        "id": "s-l-1f8qBqRn",
        "colab_type": "code",
        "colab": {
          "base_uri": "https://localhost:8080/",
          "height": 35
        },
        "outputId": "7edd4349-eee5-430c-d564-c3e1f69a7fe7"
      },
      "source": [
        "header = {'User-Agent' : 'Mozilla/5.0 (Windows NT 10.0; Win64; x64) AppleWebKit/537.36 (KHTML, like Gecko) Chrome/83.0.4103.106 Safari/537.36'}\n",
        "\n",
        "feed = feedparser.parse('http://newssearch.naver.com/search.naver?where=rss&query=%EC%B6%98%EC%B2%9C&field=0&nx_search_query=&nx_and_query=&nx_sub_query=&nx_search_hlquery=&is_dts=0')\n",
        "\n",
        "feed.keys()"
      ],
      "execution_count": 85,
      "outputs": [
        {
          "output_type": "execute_result",
          "data": {
            "text/plain": [
              "dict_keys(['feed', 'entries', 'bozo', 'headers', 'href', 'status', 'encoding', 'bozo_exception', 'version', 'namespaces'])"
            ]
          },
          "metadata": {
            "tags": []
          },
          "execution_count": 85
        }
      ]
    },
    {
      "cell_type": "markdown",
      "metadata": {
        "id": "HSx40Ll6ECe9",
        "colab_type": "text"
      },
      "source": [
        "## newspaper3k를 이용한 크롤링\n",
        "\n",
        "link_list = []\n",
        "for f in feed['entries']:\n",
        "    if '춘천' in f.title or f.description:\n",
        "        link_list.append(f.link)\n",
        "\n",
        "\n",
        "link_list[0]\n",
        "\n",
        "url = link_list[1]\n",
        "article = Article(url, language='ko')\n",
        "article.download()\n",
        "article.parse()\n",
        "\n",
        "print(article.title)\n",
        "print('--')\n",
        "print(article.text)"
      ]
    },
    {
      "cell_type": "code",
      "metadata": {
        "id": "uz0JCB3WB0T-",
        "colab_type": "code",
        "colab": {}
      },
      "source": [
        "title_list = []\n",
        "summ_list = []\n",
        "doc_list = []\n",
        "\n",
        "for f in feed['entries']:\n",
        "    title_list.append(f.title)\n",
        "    summ_list.append(f.summary)\n",
        "    doc_list.append(f.title + f.summary)"
      ],
      "execution_count": 86,
      "outputs": []
    },
    {
      "cell_type": "code",
      "metadata": {
        "id": "YRWrolJkB1oG",
        "colab_type": "code",
        "colab": {
          "base_uri": "https://localhost:8080/",
          "height": 577
        },
        "outputId": "87c341a3-215a-4b4d-8e33-ac6e87cb90bf"
      },
      "source": [
        "for i in range(10):\n",
        "    print(doc_list[i] + '\\n'*2)"
      ],
      "execution_count": 87,
      "outputs": [
        {
          "output_type": "stream",
          "text": [
            "춘천시의회 후반기 원구성 마무리 '협치없는 민주당 독식'춘천시의회 후반기 원구성이 비판 여론에도 불구하고 전체 21석 중 13석을 차지한 더불어민주당 다수의 '협치없는 민주당 독식' 구도로 짜였다. 6일 춘천시의회는 오전 10시 시의회 본회의장에서 제302회 임시회를 열어 원구성을...\n",
            "\n",
            "\n",
            "7일 더위 시작하는 소서(小暑), 대부분 30도 안팎…곳곳 소나기지역별 아침 최저기온은 △서울 21도 △인천 21도 △춘천 22도 △강릉 22도 △대전 22도 △대구 22도 △부산 21도 △전주 22도 △광주 22도 △제주 23도, 낮 최고기온은 △서울 28도 △인천 26도 △춘천 30도 △강릉 29도 △대전 28도...\n",
            "\n",
            "\n",
            "[인사] 법무부 外정성수 △춘천보호관찰소장 최종철 △대전보호관찰소 천안지소장 배점호 △울산보호관찰소장 권기한... 이종근 △춘천국유림관리소장 김주미 ◆공정거래위원회 <전보> ◇과장급 △시장구조개선과장 박세민 ◆국립공원공단...\n",
            "\n",
            "\n",
            "[인사] 보건복지부 / 법무부 / 국가과학기술인력개발원(KIRD) 등정성수 △춘천보호관찰소장 최종철 △대전보호관찰소 천안지소장 배점호 △울산보호관찰소장 권기한 △위치추적대전관제센터장 황남례 △법무부 치료처우과 김택준 △대구소년원 분류보호과장 김달곤 △광주소년원...\n",
            "\n",
            "\n",
            "순풍가, 음식물 처리기 '다무스' 출시순풍가는 강릉시청, 거제시청, 춘천시 농업기술센터 등 전국 20여곳에서 공개시연회를 열었다. 주무부처인 환경부는 “순풍가 제품이 기존 처리방식의 단점을 획기적으로 개선했다”고 평가한 것으로 알려졌다. 순풍가...\n",
            "\n",
            "\n",
            "춘천시의회 원 구성 마무리...민주당 의장단 6석 모두 차지강원 춘천시의회가 결국 민주당 의원들이 의장단 6석을 모두 차지하며 후반기 원구성을 마무리했습니다. 춘천시의회는 6일 본회의장에서 임시회를 열고, 통합당 몫이었던 부의장과 4석의 상임위원장 등 5명을 선출 완료했습니다....\n",
            "\n",
            "\n",
            "산림조합-신한카드, 상반기 회원모집 프로모션 시상전국 1등은 전남 영광군산림조합이 차지했고 춘천시산림조합, 포항시산림조합 등이 뒤를 이었다. 최창호 산림조합중앙회장은 \"앞으로도 신한카드와 힘을 합쳐 고객들로부터 더욱 신뢰받는 기업이 되길 희망한다\"고...\n",
            "\n",
            "\n",
            "대학 핸드볼부 수련회서 '선배가 후배 폭행' 녹음파일 공개지난달 15일 춘천에서 합숙 훈련 도중 3학년 선배 선수의 후배 폭행 사실이 경찰 신고로 드러났습니다. A씨는... 춘천경찰서는 지난 3일 \"핸드볼부 소속 A씨(20)를 특수폭행 혐의로 입건해 조사 중\"이라고 밝혔습니다.\n",
            "\n",
            "\n",
            "[인사]보건복지부 외정성수 △춘천보호관찰 최종철 △대전보호관찰소 천안지 배점호 △울산보호관찰 권기한... 김성만 △춘천국유림관리소장 김주미 ▲한국예금보험공사 △부사장 손형수 ▲한국석유공사 △탐사생산본부장 강용우...\n",
            "\n",
            "\n",
            "MBC '생방송 오늘저녁' 맛집은? 살얼음 동치미 막국수, 20cm 롱 핫도그 맛집 소개▶ '어서 와, 우리 동네' 코너에서는 꽃보다 아름다운 생태 도시 춘천을 소개한다. '공주님, 성훈이 망극하옵니다~' 트로트계의 떠오르는 황태자, 안성훈(32)이 연예계 대표 여행‧먹방 주자의 자리를 노린다. 그와 함께 7월 둘째...\n",
            "\n",
            "\n"
          ],
          "name": "stdout"
        }
      ]
    },
    {
      "cell_type": "code",
      "metadata": {
        "id": "lHH_b8NaB3OO",
        "colab_type": "code",
        "colab": {}
      },
      "source": [
        "kkma = Kkma()\n",
        "okt = Okt()\n",
        "komoran = Komoran()"
      ],
      "execution_count": 88,
      "outputs": []
    },
    {
      "cell_type": "code",
      "metadata": {
        "id": "dbOX7a5MCzAU",
        "colab_type": "code",
        "colab": {
          "base_uri": "https://localhost:8080/",
          "height": 485
        },
        "outputId": "05d70621-9cee-48cd-e877-f2a2aca2b816"
      },
      "source": [
        "doc_kkma = []\n",
        "doc_okt = []\n",
        "doc_komoran = []\n",
        "\n",
        "for i in range(len(doc_list)):\n",
        "  kkma_nouns = ' '.join(kkma.nouns(doc_list[i]))\n",
        "  okt_nouns = ' '.join(okt.nouns(doc_list[i]))\n",
        "  komoran_nouns = ' '.join(komoran.nouns(doc_list[i]))\n",
        "\n",
        "  doc_kkma.append(kkma_nouns)\n",
        "  doc_okt.append(okt_nouns)\n",
        "  doc_komoran.append(komoran_nouns)\n",
        "\n",
        "tfidf_vectorizer = TfidfVectorizer(min_df=1)\n",
        "tfidf_matrix_kkma = tfidf_vectorizer.fit_transform(doc_kkma)\n",
        "tfidf_matrix_okt = tfidf_vectorizer.fit_transform(doc_okt)\n",
        "tfidf_matrix_komoran = tfidf_vectorizer.fit_transform(doc_komoran)\n",
        "\n",
        "doc_distance_kkma = (tfidf_matrix_kkma * tfidf_matrix_kkma.T)\n",
        "doc_distance_okt = (tfidf_matrix_okt* tfidf_matrix_okt.T)\n",
        "doc_distance_komoran = (tfidf_matrix_komoran * tfidf_matrix_komoran.T)\n",
        "\n",
        "print('kkma 활용 유사도 분석을 위한 matrix의 dim : ' + str(doc_distance_kkma.get_shape()[0])+'*'+str(doc_distance_kkma.get_shape()[1]))\n",
        "print(doc_distance_kkma.toarray(),'\\n')\n",
        "\n",
        "print('okt 활용 유사도 분석을 위한 matrix의 dim : ' + str(doc_distance_okt.get_shape()[0])+'*'+str(doc_distance_okt.get_shape()[1]))\n",
        "print(doc_distance_okt.toarray(),'\\n')\n",
        "\n",
        "print('komoran 활용 유사도 분석을 위한 matrix의 dim : ' + str(doc_distance_komoran.get_shape()[0])+'*'+str(doc_distance_komoran.get_shape()[1]))\n",
        "print(doc_distance_komoran.toarray())"
      ],
      "execution_count": 89,
      "outputs": [
        {
          "output_type": "stream",
          "text": [
            "kkma 활용 유사도 분석을 위한 matrix의 dim : 50*50\n",
            "[[1.         0.02325689 0.0042288  ... 0.0052423  0.00510448 0.00395217]\n",
            " [0.02325689 1.         0.01281514 ... 0.04672246 0.04549416 0.04076572]\n",
            " [0.0042288  0.01281514 1.         ... 0.3818287  0.37179068 0.00185247]\n",
            " ...\n",
            " [0.0052423  0.04672246 0.3818287  ... 1.         0.97371068 0.00229644]\n",
            " [0.00510448 0.04549416 0.37179068 ... 0.97371068 1.         0.00223607]\n",
            " [0.00395217 0.04076572 0.00185247 ... 0.00229644 0.00223607 1.        ]] \n",
            "\n",
            "okt 활용 유사도 분석을 위한 matrix의 dim : 50*50\n",
            "[[1.         0.         0.         ... 0.         0.         0.        ]\n",
            " [0.         1.         0.02555106 ... 0.0604562  0.05870829 0.05927062]\n",
            " [0.         0.02555106 1.         ... 0.45057231 0.43754539 0.        ]\n",
            " ...\n",
            " [0.         0.0604562  0.45057231 ... 1.         0.97108804 0.        ]\n",
            " [0.         0.05870829 0.43754539 ... 0.97108804 1.         0.        ]\n",
            " [0.         0.05927062 0.         ... 0.         0.         1.        ]] \n",
            "\n",
            "komoran 활용 유사도 분석을 위한 matrix의 dim : 50*50\n",
            "[[1.         0.         0.         ... 0.         0.         0.        ]\n",
            " [0.         1.         0.01023977 ... 0.         0.         0.04883845]\n",
            " [0.         0.01023977 1.         ... 0.42203833 0.40181764 0.00481676]\n",
            " ...\n",
            " [0.         0.         0.42203833 ... 1.         0.95208803 0.        ]\n",
            " [0.         0.         0.40181764 ... 0.95208803 1.         0.        ]\n",
            " [0.         0.04883845 0.00481676 ... 0.         0.         1.        ]]\n"
          ],
          "name": "stdout"
        }
      ]
    },
    {
      "cell_type": "code",
      "metadata": {
        "id": "qJwqel0LVraD",
        "colab_type": "code",
        "colab": {}
      },
      "source": [
        ""
      ],
      "execution_count": 89,
      "outputs": []
    }
  ]
}