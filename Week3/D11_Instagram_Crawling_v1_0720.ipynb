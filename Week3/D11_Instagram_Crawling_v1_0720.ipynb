{
 "cells": [
  {
   "cell_type": "markdown",
   "metadata": {},
   "source": [
    "# Selenium Basic command\n",
    "\n",
    "1. driver.get('url') : 페이지 접속\n",
    "2. elem = driver.find_element_by_name('q') : 커서를 검색어 입력 부분에 위치시킴\n",
    "    - find_by_class_name or find_by_xpath 등도 가능 (xpath는 html 검사 시 우클릭>xpath copy로 복사 가능\n",
    "3. elem.clear() : 검색어 부분 입력내용 삭제\n",
    "4. elem.send_keys('내용') : 내용 입력\n",
    "5. elem.submit() : 입력한 내용 검색 실행\n",
    "    - click() : 클릭\n",
    "6. driver.close() : 페이지 닫음\n",
    "7. aseert 'keyword' in driver.title or driver.page_source : 제목이나 내용에 keyword가 있는지 파악 - 없으면 assertion error 반환"
   ]
  },
  {
   "cell_type": "code",
   "execution_count": 1,
   "metadata": {},
   "outputs": [],
   "source": [
    "import selenium\n",
    "from selenium import webdriver\n",
    "from bs4 import BeautifulSoup as bs"
   ]
  },
  {
   "cell_type": "code",
   "execution_count": 2,
   "metadata": {},
   "outputs": [],
   "source": [
    "#접속주소 설정\n",
    "url = 'http://www.instagram.com'\n",
    "path = 'C:\\\\Users\\\\rectworks\\\\Downloads\\\\chromedriver_win32\\\\chromedriver.exe'\n",
    "driver = webdriver.Chrome(path)"
   ]
  },
  {
   "cell_type": "code",
   "execution_count": 3,
   "metadata": {},
   "outputs": [],
   "source": [
    "def instagram_login(id, pw):\n",
    "    driver.get(url)\n",
    "    driver.implicitly_wait(5)\n",
    "    driver.find_element_by_name('username').send_keys(id)    # id 입력\n",
    "    elem_pw = driver.find_element_by_name('password')    # pw 입력\n",
    "    elem_pw.send_keys(pw)\n",
    "    elem_pw.submit()\n",
    "    \n",
    "    driver.implicitly_wait(5)    # 파싱될 때까지 5초 기다림 (미리 완료되면 waiting 종료됨)\n",
    "    driver.find_element_by_class_name('cmbtv').click()    # 비밀번호 저장하지 않음\n",
    "    \n",
    "    driver.implicitly_wait(5)\n",
    "    driver.find_element_by_xpath('/html/body/div[4]/div/div/div/div[3]/button[2]').click()    # 알림설정 무시"
   ]
  },
  {
   "cell_type": "code",
   "execution_count": 4,
   "metadata": {},
   "outputs": [],
   "source": [
    "instagram_login(\"hanshow113\", \"wlsldjtm12!\")"
   ]
  },
  {
   "cell_type": "code",
   "execution_count": 5,
   "metadata": {},
   "outputs": [],
   "source": [
    "def main_search(keyword):\n",
    "    search = driver.find_element_by_xpath('//*[@id=\"react-root\"]/section/nav/div[2]/div/div/div[2]/input')\n",
    "    search.clear()\n",
    "    search.send_keys(keyword)\n",
    "    search_list1 = driver.find_element_by_xpath('//*[@id=\"react-root\"]/section/nav/div[2]/div/div/div[2]/div[3]/div[2]/div/a[1]')\n",
    "    search_list1.click()"
   ]
  },
  {
   "cell_type": "code",
   "execution_count": 6,
   "metadata": {},
   "outputs": [],
   "source": [
    "main_search('춘천 카페')"
   ]
  },
  {
   "cell_type": "code",
   "execution_count": 7,
   "metadata": {},
   "outputs": [],
   "source": [
    "# 첫 번째 게시글 클릭\n",
    "driver.find_element_by_xpath('/html/body/div[1]/section/main/article/div[1]/div/div/div[1]/div[1]/a/div').click()"
   ]
  }
 ],
 "metadata": {
  "kernelspec": {
   "display_name": "Python 3",
   "language": "python",
   "name": "python3"
  },
  "language_info": {
   "codemirror_mode": {
    "name": "ipython",
    "version": 3
   },
   "file_extension": ".py",
   "mimetype": "text/x-python",
   "name": "python",
   "nbconvert_exporter": "python",
   "pygments_lexer": "ipython3",
   "version": "3.7.6"
  }
 },
 "nbformat": 4,
 "nbformat_minor": 4
}
