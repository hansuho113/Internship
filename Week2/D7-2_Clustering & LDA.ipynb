{
  "nbformat": 4,
  "nbformat_minor": 0,
  "metadata": {
    "colab": {
      "name": "CumNum Outlier Clustering(0618).ipynb",
      "provenance": [],
      "collapsed_sections": []
    },
    "kernelspec": {
      "name": "python3",
      "display_name": "Python 3"
    }
  },
  "cells": [
    {
      "cell_type": "code",
      "metadata": {
        "id": "fLzaPg3kZAMM",
        "colab_type": "code",
        "colab": {
          "base_uri": "https://localhost:8080/",
          "height": 244
        },
        "outputId": "7ad542a6-bbc6-4d41-ab2b-ee3a8789fed2"
      },
      "source": [
        "import os, sys\n",
        "from google.colab import drive\n",
        "drive.mount('/content/drive')\n",
        "\n",
        "my_path = '/content/notebooks'\n",
        "# Colab Notebooks 안에 my_env 폴더에 패키지 저장\n",
        "os.symlink('/content/drive/My Drive/Colab Notebooks/my_env', my_path)\n",
        "sys.path.insert(0, my_path)"
      ],
      "execution_count": 120,
      "outputs": [
        {
          "output_type": "stream",
          "text": [
            "Drive already mounted at /content/drive; to attempt to forcibly remount, call drive.mount(\"/content/drive\", force_remount=True).\n"
          ],
          "name": "stdout"
        },
        {
          "output_type": "error",
          "ename": "FileExistsError",
          "evalue": "ignored",
          "traceback": [
            "\u001b[0;31m---------------------------------------------------------------------------\u001b[0m",
            "\u001b[0;31mFileExistsError\u001b[0m                           Traceback (most recent call last)",
            "\u001b[0;32m<ipython-input-120-6d89b7b51fbe>\u001b[0m in \u001b[0;36m<module>\u001b[0;34m()\u001b[0m\n\u001b[1;32m      5\u001b[0m \u001b[0mmy_path\u001b[0m \u001b[0;34m=\u001b[0m \u001b[0;34m'/content/notebooks'\u001b[0m\u001b[0;34m\u001b[0m\u001b[0;34m\u001b[0m\u001b[0m\n\u001b[1;32m      6\u001b[0m \u001b[0;31m# Colab Notebooks 안에 my_env 폴더에 패키지 저장\u001b[0m\u001b[0;34m\u001b[0m\u001b[0;34m\u001b[0m\u001b[0;34m\u001b[0m\u001b[0m\n\u001b[0;32m----> 7\u001b[0;31m \u001b[0mos\u001b[0m\u001b[0;34m.\u001b[0m\u001b[0msymlink\u001b[0m\u001b[0;34m(\u001b[0m\u001b[0;34m'/content/drive/My Drive/Colab Notebooks/my_env'\u001b[0m\u001b[0;34m,\u001b[0m \u001b[0mmy_path\u001b[0m\u001b[0;34m)\u001b[0m\u001b[0;34m\u001b[0m\u001b[0;34m\u001b[0m\u001b[0m\n\u001b[0m\u001b[1;32m      8\u001b[0m \u001b[0msys\u001b[0m\u001b[0;34m.\u001b[0m\u001b[0mpath\u001b[0m\u001b[0;34m.\u001b[0m\u001b[0minsert\u001b[0m\u001b[0;34m(\u001b[0m\u001b[0;36m0\u001b[0m\u001b[0;34m,\u001b[0m \u001b[0mmy_path\u001b[0m\u001b[0;34m)\u001b[0m\u001b[0;34m\u001b[0m\u001b[0;34m\u001b[0m\u001b[0m\n",
            "\u001b[0;31mFileExistsError\u001b[0m: [Errno 17] File exists: '/content/drive/My Drive/Colab Notebooks/my_env' -> '/content/notebooks'"
          ]
        }
      ]
    },
    {
      "cell_type": "code",
      "metadata": {
        "id": "1Rkw9XPnZHxn",
        "colab_type": "code",
        "colab": {}
      },
      "source": [
        "import pandas as pd\n",
        "pd.set_option('display.max.colwidth', 130)\n",
        "\n",
        "import numpy as np\n",
        "\n",
        "import matplotlib\n",
        "import matplotlib.pyplot as plt\n",
        "import matplotlib.font_manager as fm \n",
        "fm._rebuild() \n",
        "%matplotlib inline\n",
        "\n",
        "\n",
        "import feedparser\n",
        "from bs4 import BeautifulSoup as bs\n",
        "import urllib\n",
        "import urllib.request as req\n",
        "import requests\n",
        "\n",
        "from sklearn.cluster import KMeans\n",
        "from sklearn.feature_extraction.text import TfidfVectorizer\n",
        "from sklearn.feature_extraction.text import CountVectorizer\n",
        "from sklearn.preprocessing import normalize\n",
        "\n",
        "from konlpy.tag import Kkma, Okt, Komoran\n",
        "okt = Okt()\n",
        "from konlpy.utils import pprint\n",
        "\n",
        "from collections import Counter\n",
        "from datetime import datetime"
      ],
      "execution_count": 157,
      "outputs": []
    },
    {
      "cell_type": "code",
      "metadata": {
        "id": "LiDheOYmZMLX",
        "colab_type": "code",
        "colab": {
          "base_uri": "https://localhost:8080/",
          "height": 71
        },
        "outputId": "853ffa3b-56e0-432d-fca7-2718a1ef7934"
      },
      "source": [
        "import re\n",
        "from wordcloud import WordCloud\n",
        "import nltk\n",
        "from nltk.corpus import stopwords\n",
        "\n",
        "import matplotlib\n",
        "\n",
        "import matplotlib.font_manager as fm \n",
        "fm._rebuild() \n",
        "\n",
        "# 그래프에서 한글표현을 위해 폰트를 설치합니다.\n",
        "%config InlineBackend.figure_format = 'retina'\n",
        "\n",
        "!apt -qq -y install fonts-nanum > /dev/null\n",
        "fontpath = '/usr/share/fonts/truetype/nanum/NanumBarunGothic.ttf'\n",
        "font = fm.FontProperties(fname=fontpath, size=9)\n",
        "\n",
        "from plotnine import *\n",
        "import plotnine\n",
        "\n",
        "import warnings\n",
        "warnings.filterwarnings(\"ignore\")"
      ],
      "execution_count": 122,
      "outputs": [
        {
          "output_type": "stream",
          "text": [
            "\n",
            "WARNING: apt does not have a stable CLI interface. Use with caution in scripts.\n",
            "\n"
          ],
          "name": "stdout"
        }
      ]
    },
    {
      "cell_type": "code",
      "metadata": {
        "id": "75cVIcgmZMuc",
        "colab_type": "code",
        "colab": {
          "base_uri": "https://localhost:8080/",
          "height": 89
        },
        "outputId": "0f6e10bb-5413-42f0-aa52-5fe139b084e6"
      },
      "source": [
        "from nltk.stem import WordNetLemmatizer\n",
        "import nltk\n",
        "nltk.download('punkt')\n",
        "nltk.download('wordnet')\n",
        "import string\n",
        "\n",
        "from gensim.models import Word2Vec\n",
        "\n",
        "remove_punct_dict = dict((ord(punct), None) for punct in string.punctuation)\n",
        "lemmar = WordNetLemmatizer()\n",
        "\n",
        "def LemTokens(tokens):\n",
        "    return [lemmar.lemmatize(token) for token in tokens]\n",
        "\n",
        "def LemNormalize(text):\n",
        "    return LemTokens(nltk.word_tokenize(text.lower().translate(remove_punct_dict)))"
      ],
      "execution_count": 123,
      "outputs": [
        {
          "output_type": "stream",
          "text": [
            "[nltk_data] Downloading package punkt to /root/nltk_data...\n",
            "[nltk_data]   Package punkt is already up-to-date!\n",
            "[nltk_data] Downloading package wordnet to /root/nltk_data...\n",
            "[nltk_data]   Package wordnet is already up-to-date!\n"
          ],
          "name": "stderr"
        }
      ]
    },
    {
      "cell_type": "markdown",
      "metadata": {
        "id": "0ilrDsCGZXxT",
        "colab_type": "text"
      },
      "source": [
        "## 일일누적기사량 그래프 확인 후 갑자기 수치가 올라가는 날짜의 클러스터링 수행\n",
        "    - 일일누적기사량 계산 시에는 related News까지 모두 계산했지만\n",
        "    - 클러스터링을 수행할 때는 네이버에서 이미 한 번 연관기사를 묶어놨기 때문에\n",
        "    - 대표기사만 크롤링해서 수행"
      ]
    },
    {
      "cell_type": "code",
      "metadata": {
        "id": "2dmLsZcacg_8",
        "colab_type": "code",
        "colab": {}
      },
      "source": [
        "href_list = []\n",
        "TitDesc_list = []\n",
        "title_list = []"
      ],
      "execution_count": 124,
      "outputs": []
    },
    {
      "cell_type": "code",
      "metadata": {
        "id": "MlB1-ME5aEc1",
        "colab_type": "code",
        "colab": {}
      },
      "source": [
        "def Crawling(keyword, date):\n",
        "    keyword = '+'.join(keyword.split(' '))\n",
        "\n",
        "    last = False\n",
        "    page_num = 1\n",
        "\n",
        "    ds = date\n",
        "    de = ds\n",
        "    while last == False:\n",
        "        url = \"https://search.naver.com/search.naver?&where=news&query={0}&sm=tab_pge&sort=0&photo=0&field=0&reporter_article=&pd=3&ds={1}&de={2}&docid=&nso=so:r,p:,a:all&mynews=1&cluster_rank=238&start={3}&refresh_start=0\".format(keyword,ds,de,str(page_num))\n",
        "        raw = requests.get(url)\n",
        "        html = raw.content\n",
        "        soup = bs(html, 'html.parser')\n",
        "\n",
        "        ul = soup.find('ul', {'class':'type01'})\n",
        "        li_list = ul.findAll('li')\n",
        "\n",
        "        for li in li_list:\n",
        "            try:\n",
        "                href_list.append(li.dl.dt.a['href'])\n",
        "                d_list = li.findAll('dd')     #자식 노드 dd가 두 개인데 두 번째 노드에 description이 들어가있으므로 전부 불러온 후 인덱싱할 것임\n",
        "                title = li.dl.dt.a['title']\n",
        "                description = d_list[1].text    # 자식 노드 dd의 두 번째에 들어가 있는 description을 text로 불러옴\n",
        "                title_list.append(title)\n",
        "                TitDesc_list.append( title + ' ' + description)\n",
        "            except AttributeError:\n",
        "                pass\n",
        "\n",
        "        \n",
        "        # 마지막 페이지 주소 확인 (다음페이지 버튼이 없으면 종료페이지로 간주)\n",
        "        page = soup.find('div', {'class':'paging'})\n",
        "        page_a_list = page.findAll('a')\n",
        "        if '다음페이지' in str(page_a_list[-1]):\n",
        "            page_num += 10\n",
        "        else:\n",
        "            last = True"
      ],
      "execution_count": 125,
      "outputs": []
    },
    {
      "cell_type": "code",
      "metadata": {
        "id": "i469LWuKcli3",
        "colab_type": "code",
        "colab": {}
      },
      "source": [
        "Crawling('춘천', '2020.06.18')"
      ],
      "execution_count": 126,
      "outputs": []
    },
    {
      "cell_type": "code",
      "metadata": {
        "id": "-Joe2uvucqMu",
        "colab_type": "code",
        "colab": {
          "base_uri": "https://localhost:8080/",
          "height": 71
        },
        "outputId": "7eae3081-2ea4-4cc0-f2be-a4bebdc44507"
      },
      "source": [
        "TitDesc_okt = []\n",
        "\n",
        "for item in TitDesc_list:\n",
        "  item_nouns = ' '.join(okt.nouns(item))\n",
        "  TitDesc_okt.append(item_nouns)\n",
        "\n",
        "  tfidf_vectorizer = TfidfVectorizer()\n",
        "  tfidf_matrix_okt = tfidf_vectorizer.fit_transform(TitDesc_okt)\n",
        "TitDesc_okt[:3]\n",
        "#Vectorization"
      ],
      "execution_count": 128,
      "outputs": [
        {
          "output_type": "execute_result",
          "data": {
            "text/plain": [
              "['춘천 지역 방사 능 문제해결 시민 대책위 발족 강원 춘천 지역 방사 능 문제 해결 위 시민 대책 위원회 발족 춘천 방사 능 생활 감시 단 오후 시청 브리핑 룸 기자회견 지역 방사 능 문제 춘천 시민 연대 등 계해 시민 명',\n",
              " '춘천 대학생 전입 장려 금 온라인 신청 폐지 춘천 지역 대학생 전입 장려 금 허위 신청 사례 춘천시 온라인 신청 춘천시 다른 지역 거주 전입 장려 금 허위 신청 거나 제출 서류 첨부 문제점',\n",
              " '춘천 기업 데이터 댐 한국판 뉴딜 첫 행보 문 대통령 강원도 춘천 데이터 인공 지능 전문 기업 더존 비즈 온 강촌 캠퍼스 한국판 뉴딜 통해 포스트 코로나 시대 선도 의지 앞서 문 대통령 신종 코로나바이러스 감염증']"
            ]
          },
          "metadata": {
            "tags": []
          },
          "execution_count": 128
        }
      ]
    },
    {
      "cell_type": "code",
      "metadata": {
        "id": "CLhvZZ7_aSxl",
        "colab_type": "code",
        "colab": {}
      },
      "source": [
        "df_dict = {'TokenizedTitDesc':TitDesc_okt,\n",
        "           'TitDesc':TitDesc_list}\n",
        "doc_df = pd.DataFrame(df_dict)\n",
        "doc_df['title'] = 0\n",
        "doc_df['num']=0\n",
        "\n",
        "for i in range(len(doc_df)):\n",
        "  doc_df.iloc[i, 3] = i\n",
        "  doc_df.iloc[i, 2] = title_list[i]\n",
        "doc_df.head()\n",
        "\n",
        "\n",
        "topic_df = doc_df"
      ],
      "execution_count": 228,
      "outputs": []
    },
    {
      "cell_type": "markdown",
      "metadata": {
        "id": "NAp82YHwc7vF",
        "colab_type": "text"
      },
      "source": [
        "doc_df = pd.DataFrame(data=TitDesc_okt,TitDesc_list)\n",
        "doc_df.columns = [\"title + article\"]\n",
        "doc_df['TitArticle']\n",
        "doc_df['title'] = 0\n",
        "doc_df['num']=0\n",
        "\n",
        "for i in range(len(doc_df)):\n",
        "  doc_df.iloc[i, 2] = i\n",
        "  doc_df.iloc[i, 1] = title_list[i]\n",
        "doc_df.head()\n",
        "\n",
        "topic_df = doc_df"
      ]
    },
    {
      "cell_type": "code",
      "metadata": {
        "id": "0t_rwtGxc_Z9",
        "colab_type": "code",
        "colab": {
          "base_uri": "https://localhost:8080/",
          "height": 403
        },
        "outputId": "ff353545-8441-44a4-f36b-3ba25c456971"
      },
      "source": [
        "x = normalize(tfidf_matrix_okt)\n",
        "# L2 정규화\n",
        "\n",
        "def elbow(normalizedData, Clusters):\n",
        "    sse = []\n",
        "    for i in range(1,Clusters):\n",
        "        kmeans = KMeans(n_clusters=i, init='k-means++', random_state=0)\n",
        "        kmeans.fit(normalizedData)\n",
        "        sse.append(kmeans.inertia_)\n",
        "    plt.figure(figsize=(7,6))\n",
        "    plt.plot(range(1,Clusters), sse, marker='o')\n",
        "    plt.xlabel('number of cluster')\n",
        "    plt.xticks(np.arange(0,Clusters,1))\n",
        "    plt.ylabel('SSE')\n",
        "    plt.title('Elbow Method - number of cluster : '+str(Clusters))\n",
        "    plt.show()\n",
        "elbow(x, 35)"
      ],
      "execution_count": 130,
      "outputs": [
        {
          "output_type": "display_data",
          "data": {
            "image/png": "[encoded data removed]",
            "text/plain": [
              "<Figure size 504x432 with 1 Axes>"
            ]
          },
          "metadata": {
            "tags": [],
            "image/png": {
              "width": 444,
              "height": 386
            },
            "needs_background": "light"
          }
        }
      ]
    },
    {
      "cell_type": "code",
      "metadata": {
        "id": "9FlRTpGidRbF",
        "colab_type": "code",
        "colab": {}
      },
      "source": [
        "tfidf_vect = TfidfVectorizer(tokenizer=LemNormalize)\n",
        "feature_vect = tfidf_vect.fit_transform(topic_df['TokenizedTitDesc'])"
      ],
      "execution_count": 201,
      "outputs": []
    },
    {
      "cell_type": "code",
      "metadata": {
        "id": "Av5gLg1ddd01",
        "colab_type": "code",
        "colab": {}
      },
      "source": [
        "\n",
        "clusters_num = 15\n",
        "\n",
        "km_cluster = KMeans(n_clusters=clusters_num, max_iter=10000, random_state=0)\n",
        "km_cluster.fit(feature_vect)\n",
        "cluster_label = km_cluster.labels_\n",
        "cluster_centers = km_cluster.cluster_centers_"
      ],
      "execution_count": 132,
      "outputs": []
    },
    {
      "cell_type": "code",
      "metadata": {
        "id": "wynVMCezdXTN",
        "colab_type": "code",
        "colab": {
          "base_uri": "https://localhost:8080/",
          "height": 1000
        },
        "outputId": "0bde5c4f-c372-4814-fc8d-5ff6f2da35f1"
      },
      "source": [
        "topic_df['cluster_label'] = cluster_label\n",
        "topic_df.head()\n",
        "\n",
        "for i in range(clusters_num):\n",
        "  print('<<Clustering Label {0}>>'.format(i)+'\\n')\n",
        "  print(topic_df.loc[topic_df['cluster_label']==i])"
      ],
      "execution_count": 133,
      "outputs": [
        {
          "output_type": "stream",
          "text": [
            "<<Clustering Label 0>>\n",
            "\n",
            "                                                                                                                       title + article  ... cluster_label\n",
            "0          춘천 지역 방사 능 문제해결 시민 대책위 발족 강원 춘천 지역 방사 능 문제 해결 위 시민 대책 위원회 발족 춘천 방사 능 생활 감시 단 오후 시청 브리핑 룸 기자회견 지역 방사 능 문제 춘천 시민 연대 등 계해 시민 명  ...             0\n",
            "1                            춘천 대학생 전입 장려 금 온라인 신청 폐지 춘천 지역 대학생 전입 장려 금 허위 신청 사례 춘천시 온라인 신청 춘천시 다른 지역 거주 전입 장려 금 허위 신청 거나 제출 서류 첨부 문제점  ...             0\n",
            "3                                     한국 전쟁 첫 승전 춘천 대첩 오늘 한국 전쟁 당시 가장 먼저 국군 승전 고가 춘천 춘천 대첩 낙동강 전투 인천 상륙작전 한국 전쟁 대첩 정도 의미 우리 역사 기억 속 남아  ...             0\n",
            "4                  강원도 춘천 부시장 자체 승진 인사 부동 불변 강원도 춘천시 검토 중인 부시장 자체 승진 인사 다시 한번 동의 의사 방침 강원도 집행 부 관계자 춘천시 자체 승진 통해 개월 임기 부시장 임명 것 도 군 협력  ...             0\n",
            "5                    생활 개선 춘천시 농산물 꾸러미 사업 손 보태 한국 생활 개선 춘천시 연합 회 회장 변옥철 코로나 장기 화로 학교 식이 중단 것 관련 농산물 꾸러미 사업 인력 지원 지난 저녁 춘천 지역 먹거리 통합 센터  ...             0\n",
            "..                                                                                                                                 ...  ...           ...\n",
            "696                                       부동산 거래 질서 확립 업 코리아 춘천 시청 업 코리아 춘천시 정부 부동산 거리 질서 확립 위해 정부 지역 내 부동산 중개업 소 개소 대상 지도 점검 이번 지도 점검  ...             0\n",
            "697                                             노인 맞춤 서비스 지금 신청 업 코리아 춘천 시청 업 코리아 춘천시 정부 코로나 확산 어르신 위해 맞춤 서비스 집중 신청 올해 시행 맞춤 서비스 노인 욕구  ...             0\n",
            "702         정부 서울 청사 방문자 확진 판정 본관 구내식당 운영 중단 오늘 뉴스 춘천시 대학생 전입 장려 금 온라인 접수 폐지 연합뉴스 제공 강원 춘천시 지역 전입 대학생 대해 온라인 장려 금 방식 폐지 이 춘천시 다음 달 대학생  ...             0\n",
            "706  기상청 발표 오늘 날씨 내일 날씨 일출 시간 전국 가운데 전라도 경상 남북 제주도 비 오늘 밤 대부분 내륙 안개 주의 독도 일출 시간 강원도 일출 시간 강릉 춘천 일몰 시간 강릉 춘천 대체로 오늘 내일 대체로 모레 가끔 구름 ...  ...             0\n",
            "707  기상청 발표 오늘 날씨 내일 날씨 일출 시간 전국 가운데 남부 지방 제주도 중심 비 내일 오후 충청 륙 강원영동 등 소나기 독도 일출 시간 강원도 일출 시간 강릉 춘천 일몰 시간 강릉 춘천 대체로 강원 북부 산지 가시거리 미만...  ...             0\n",
            "\n",
            "[186 rows x 4 columns]\n",
            "<<Clustering Label 1>>\n",
            "\n",
            "                                                                                                              title + article  ... cluster_label\n",
            "43                             문재인 정부 문재인 대통령 강원도 춘천 위치 빅데이터 플랫폼 운영 기업인 더존 비즈 온 방문 데이터 를 접목 혁신 서비스 개발 직원 회 사진 연합뉴스 문재인 대통령 국정  ...             1\n",
            "52                      데이터 접목 혁신 서비스 설명 문 대통령 문재인 대통령 강원 춘천시 남산면 더존 비즈 온 강촌 캠퍼스 한국판 뉴딜 디지털 경제 현장 방문 참석 데이터 를 접목 혁신 서비스 대한 설명  ...             1\n",
            "60   문 대통령 데이터 접목 혁신 서비스 개발자 회 문재인 대통령 한국판 뉴딜 관련 첫 행보 강원도 춘천 위치 빅데이터 플랫폼 운영 기업 더존 비즈 온 방문 데이터 인공 지능 접목 혁신 서비스 개발 직원 회 시간 연합뉴스  ...             1\n",
            "61                                   마스크 문 대통령 문재인 대통령 강원도 춘천 위치 빅데이터 플랫폼 운영 기업인 더존 비즈 온 방문 데이터 를 접목 혁신 서비스 개발 직원 회 발언 위해 마스크  ...             1\n",
            "64                                             물 문 대통령 문재인 대통령 강원도 춘천 위치 빅데이터 플랫폼 운영 기업인 더존 비즈 온 방문 데이터 를 접목 혁신 서비스 개발 직원 회 물  ...             1\n",
            "..                                                                                                                        ...  ...           ...\n",
            "577                                             데이터 전문 기업 개발자 회 문재인 대통령 문재인 대통령 강원도 춘천 빅데이터 플랫폼 운영 기업인 더존 비즈 온 방문 직원 회 사진 청와대  ...             1\n",
            "638         기업 대통령 디지털 뉴딜 첫 현장 방문 강원도 춘천 위치 빅데이터 플랫폼 운영 기업인 더존 비즈 온 방문 데이터 를 접목 혁신 서비스 개발 직원 회 사진 연합뉴스 문재인 대통령 강원 춘천시 더존 비즈 온  ...             1\n",
            "659   대통령 실망 발언 얘기 박지원 부인 종합 전직 통일부 장관 원로 초청 청와대 오찬 상황 설명 김봉철 기자 문재인 대통령 강원도 춘천 위치 빅데이터 플랫폼 운영 기업인 더존 비즈 온 방문 데이터 를 접목 혁신 서비스  ...             1\n",
            "660   대통령 실망 발언 얘기 박지원 부인 종합 전직 통일부 장관 원로 초청 청와대 오찬 상황 설명 김봉철 기자 문재인 대통령 강원도 춘천 위치 빅데이터 플랫폼 운영 기업인 더존 비즈 온 방문 데이터 를 접목 혁신 서비스  ...             1\n",
            "684                                                   심각 문재인 대통령 강원도 춘천 위치 빅데이터 플랫폼 운영 기업인 더존 비즈 온 방문 데이터 를 접목 혁신 서비스 개발 직원 회  ...             1\n",
            "\n",
            "[70 rows x 4 columns]\n",
            "<<Clustering Label 2>>\n",
            "\n",
            "                                                                                                                       title + article  ... cluster_label\n",
            "38                  낮 기온 도 안 남부 비 주요 지역 아침 최저 기온 서울 도 인천 도 수원 도 춘천 도 강릉 도 청주 도 대전 도 전주 도 광주 도 대구 도 부산 도 제주 도 낮 최고 기온 서울 도 인천 도 수원 도 춘천  ...             2\n",
            "55                              전국 남부 지방 비 낮 최고 도 날 오전 현재 전국 주요 지역 기온 서울 도 인천 도 수원 도 춘천 도 강릉 도 청주 도 대전 도 전주 도 광주 도 제주 도 대구 도 부산 도 울산 도  ...             2\n",
            "59   내일 서울 경기 출근길 비 오후 충청 남부 륙 소나기 주요 지역 아침 최저 기온 서울 도 인천 도 수원 도 춘천 도 강릉 도 청주 도 대전 도 전주 도 광주 도 대구 도 부산 도 제주 도 낮 최고 기온 서울 도 인천 도 수원 ...  ...             2\n",
            "73                                       날씨 전국 곳곳 비 낮 최고 기온 도 도 춘천 도 강릉 도 청주 도 대전 도 전주 도 광주 도 대구 도 부산 도 제주 도 등 낮 서울 도 가장 것 전망 이외 수원 춘천  ...             2\n",
            "78                                 날씨 제주 남부 새벽 비 내일 다시 낮 더위 내일 아침 기온 서울 도 대전 광주 도 시작 낮 기온 서울 도 춘천 대구 도로 다시 도 안팎 낮 더위 지금 날씨 전 김하윤 기상캐스터  ...             2\n",
            "..                                                                                                                                 ...  ...           ...\n",
            "680           오늘날 전국 제주 남부 비 낮 최고 서울 도 대구 도 아침 예상 최저 기온 서울 도 대전 도 광주 도 부산 도 대구 도 춘천 도 제주도 도 등 낮 예상 최고 기온 서울 도 대전 도 광주 도 부산 도 대구 도 춘천 도  ...             2\n",
            "685                 낮 기온 도 안 남부 비 주요 지역 아침 최저 기온 서울 도 인천 도 수원 도 춘천 도 강릉 도 청주 도 대전 도 전주 도 광주 도 대구 도 부산 도 제주 도 낮 최고 기온 서울 도 인천 도 수원 도 춘천  ...             2\n",
            "686  내일 서울 경기 출근길 비 오후 충청 남부 륙 소나기 주요 지역 아침 최저 기온 서울 도 인천 도 수원 도 춘천 도 강릉 도 청주 도 대전 도 전주 도 광주 도 대구 도 부산 도 제주 도 낮 최고 기온 서울 도 인천 도 수원 ...  ...             2\n",
            "689                     내일 날씨 전국 밤사이 비 낮 최고 기온 도 도 춘천 도 강릉 도 대전 도 전주 도 광주 도 대구 도 부산 도 울산 도 제주 도 낮 최고 기온 서울 도 인천 도 춘천 도 강릉 도 대전 도 전주 광주  ...             2\n",
            "692                     내일 날씨 전국 밤사이 비 낮 최고 기온 도 도 춘천 도 강릉 도 대전 도 전주 도 광주 도 대구 도 부산 도 울산 도 제주 도 낮 최고 기온 서울 도 인천 도 춘천 도 강릉 도 대전 도 전주 광주  ...             2\n",
            "\n",
            "[91 rows x 4 columns]\n",
            "<<Clustering Label 3>>\n",
            "\n",
            "                                                                                                                       title + article  ... cluster_label\n",
            "70   속초 롯데 캐슬 인더스 카이 서울 홍보 관 운영 여기 속초 중앙시장 속초 관광 수산시장 과 설악로 데 오거리 도보 이용 수 하나로마트 속초 시청 춘천지방검찰청 속초 지청 속초 문화 회관 등 생활 인프라 단지 가까이 이용 수 또...  ...             3\n",
            "95        동네 다른 반응 분양 시장 입지 청약 률 등 망 수 속초 고속 시외버스 터미널 속초 중앙시장 속초 관광 수산시장 과 설악로 데 오거리 하나로마트 속초 시청 춘천지방검찰청 속초 지청 속초 문화 회관 등 생활 편의 시설 이용도  ...             3\n",
            "209  속초 롯데 캐슬 인더스 카이 서울 홍보 관 운영 여기 속초 중앙시장 속초 관광 수산시장 과 설악로 데 오거리 도보 이용 수 하나로마트 속초 시청 춘천지방검찰청 속초 지청 속초 문화 회관 등 생활 인프라 단지 가까이 이용 수 또...  ...             3\n",
            "211  속초 롯데 캐슬 인더스 카이 서울 홍보 관 운영 여기 속초 중앙시장 속초 관광 수산시장 과 설악로 데 오거리 도보 이용 수 하나로마트 속초 시청 춘천지방검찰청 속초 지청 속초 문화 회관 등 생활 인프라 단지 가까이 이용 수 또...  ...             3\n",
            "269  강원 속초 첫 롯데 캐슬 아파트 속초 롯데 캐슬 인더스 카이 분양 예정 이 적용 기존 다른 롯데 캐슬 브랜드 단지 공급 춘천 롯데 캐슬 위너 클래스 의 경우 하나로마트 속초 시청 춘천지방검찰청 속초 지청 속초 문화 회관 강원도...  ...             3\n",
            "275  강원 속초 첫 롯데 캐슬 아파트 속초 롯데 캐슬 인더스 카이 분양 예정 이 적용 기존 다른 롯데 캐슬 브랜드 단지 공급 춘천 롯데 캐슬 위너 클래스 의 경우 하나로마트 속초 시청 춘천지방검찰청 속초 지청 속초 문화 회관 강원도...  ...             3\n",
            "336       동네 다른 반응 분양 시장 입지 청약 률 등 망 수 속초 고속 시외버스 터미널 속초 중앙시장 속초 관광 수산시장 과 설악로 데 오거리 하나로마트 속초 시청 춘천지방검찰청 속초 지청 속초 문화 회관 등 생활 편의 시설 이용도  ...             3\n",
            "338  속초 롯데 캐슬 인더스 카이 서울 홍보 관 운영 여기 속초 중앙시장 속초 관광 수산시장 과 설악로 데 오거리 도보 이용 수 하나로마트 속초 시청 춘천지방검찰청 속초 지청 속초 문화 회관 등 생활 인프라 단지 가까이 이용 수 또...  ...             3\n",
            "340  속초 롯데 캐슬 인더스 카이 서울 홍보 관 운영 여기 속초 중앙시장 속초 관광 수산시장 과 설악로 데 오거리 도보 이용 수 하나로마트 속초 시청 춘천지방검찰청 속초 지청 속초 문화 회관 등 생활 인프라 단지 가까이 이용 수 또...  ...             3\n",
            "405  속초 롯데 캐슬 인더스 카이 서울 홍보 관 운영 여기 속초 중앙시장 속초 관광 수산시장 과 설악로 데 오거리 도보 이용 수 하나로마트 속초 시청 춘천지방검찰청 속초 지청 속초 문화 회관 등 생활 인프라 단지 가까이 이용 수 교...  ...             3\n",
            "415     분양 시장 지역 입지 별 청약 경쟁률 양극화 등 망 수 속초 고속 시외버스 터미널 속초 중앙시장 속초 관광 수산시장 과 설악로 데 오거리 하나로마트 속초 시청 춘천지방검찰청 속초 지청 속초 문화 회관 등 생활 편의 시설 이용도  ...             3\n",
            "494  속초 첫 롯데 캐슬 서울 르 캐슬 갤러리 서도 상담 진행 여기 속초 중앙시장 속초 관광 수산시장 과 설악로 데 오거리 도보 이용 수 하나로마트 속초 시청 춘천지방검찰청 속초 지청 속초 문화 회관 등 생활 인프라 단지 가까이 이...  ...             3\n",
            "502  이지 부동산 롯데 캐슬 속초 롯데 캐슬 인더스 카이 서울 홍보 관 운영 더욱이 속초 중앙시장 속초 관광 수산시장 과 설악로 데 오거리 도보 이용 수 하나로마트 속초 시청 춘천지방검찰청 속초 지청 속초 문화 회관 등 생활 인프라...  ...             3\n",
            "549           서울 속초 첫 롯데 캐슬 여기 속초 중앙시장 속초 관광 수산시장 과 설악로 데 오거리 도보 이용 수 하나로마트 속초 시청 춘천지방검찰청 속초 지청 속초 문화 회관 등 생활 인프라 단지 가까이 이용 수 또한 영 호 및  ...             3\n",
            "552           서울 속초 첫 롯데 캐슬 여기 속초 중앙시장 속초 관광 수산시장 과 설악로 데 오거리 도보 이용 수 하나로마트 속초 시청 춘천지방검찰청 속초 지청 속초 문화 회관 등 생활 인프라 단지 가까이 이용 수 또한 영 호 및  ...             3\n",
            "588                           지역 입지 청약 경쟁률 양극화 속초 중앙시장 속초 관광 수산시장 과 설악로 데 오거리 하나로마트 속초 시청 춘천지방검찰청 속초 지청 속초 문화 회관 등 생활 편의 시설 이용도 부동산 센터  ...             3\n",
            "593         지역 입지 여건 양극화 속초 중앙시장 속초 관광 수산시장 과 설악로 데 오거리 하나로마트 속초 시청 춘천지방검찰청 속초 지청 속초 문화 회관 등 생활 편의 시설 이용도 당진 청 지구 호반 써밋 처 조감도 사진 호반 건설  ...             3\n",
            "635  롯데 건설 속초 롯데 캐슬 인더스 카이 서울 홍보 관 운영 속초 첫 롯데 캐슬 주목 여기 속초 중앙시장 속초 관광 수산시장 과 설악로 데 오거리 도보 이용 수 하나로마트 속초 시청 춘천지방검찰청 속초 지청 속초 문화 회관 등 ...  ...             3\n",
            "705  울르 캐슬 갤러리 홍보 관 운영 나선 속초 롯데 캐슬 인더스 카이 여기 속초 중앙시장 속초 관광 수산시장 과 설악로 데 오거리 도보 이용 수 하나로마트 속초 시청 춘천지방검찰청 속초 지청 속초 문화 회관 등 생활 인프라 단지 ...  ...             3\n",
            "\n",
            "[19 rows x 4 columns]\n",
            "<<Clustering Label 4>>\n",
            "\n",
            "                                                                                       title + article  ... cluster_label\n",
            "51             더위 수박 멜론 등 여름 과일 인기 전국 오직 곳 강원도 춘천 생산 하니 멜론 유통 기간 일반 멜론 크기 작 도 후숙 바로 수 인기 그 외 멜론 머스크 멜론  ...             4\n",
            "117            더위 수박 멜론 등 여름 과일 인기 전국 오직 곳 강원도 춘천 생산 하니 멜론 유통 기간 일반 멜론 크기 작 도 후숙 바로 수 인기 그 외 멜론 머스크 멜론  ...             4\n",
            "121            더위 수박 멜론 등 여름 과일 인기 전국 오직 곳 강원도 춘천 생산 하니 멜론 유통 기간 일반 멜론 크기 작 도 후숙 바로 수 인기 그 외 멜론 머스크 멜론  ...             4\n",
            "148     마켓 컬리 더위 수박 멜론 등 여름 과일 인기 전국 오직 곳 강원도 춘천 생산 하니 멜론 유통 기간 일반 멜론 크기 작 도 후숙 바로 수 인기 미리 손질 컷팅 멜론 처음  ...             4\n",
            "150     마켓 컬리 더위 수박 멜론 등 여름 과일 인기 전국 오직 곳 강원도 춘천 생산 하니 멜론 유통 기간 일반 멜론 크기 작 도 후숙 바로 수 인기 미리 손질 컷팅 멜론 처음  ...             4\n",
            "198      마켓 컬리 더위 수박 멜론 등 여름 과일 인기 전국 오직 곳 강원도 춘천 생산 하니 멜론 유통 기간 일반 멜론 크기 작 도 후숙 바로 수 인기 그 외 멜론 머스크 멜론  ...             4\n",
            "229      마켓 컬리 더위 수박 멜론 등 여름 과일 인기 전국 오직 곳 강원도 춘천 생산 하니 멜론 유통 기간 일반 멜론 크기 작 도 후숙 바로 수 인기 그 외 멜론 머스크 멜론  ...             4\n",
            "235      마켓 컬리 더위 수박 멜론 등 여름 과일 인기 전국 오직 곳 강원도 춘천 생산 하니 멜론 유통 기간 일반 멜론 크기 작 도 후숙 바로 수 인기 그 외 멜론 머스크 멜론  ...             4\n",
            "240      마켓 컬리 더위 수박 멜론 등 여름 과일 인기 전국 오직 곳 강원도 춘천 생산 하니 멜론 유통 기간 일반 멜론 크기 작 도 후숙 바로 수 인기 그 외 멜론 머스크 멜론  ...             4\n",
            "253     마켓 컬리 더위 수박 멜론 등 여름 과일 인기 전국 오직 곳 강원도 춘천 생산 하니 멜론 유통 기간 일반 멜론 크기 작 도 후숙 바로 수 인기 미리 손질 컷팅 멜론 처음  ...             4\n",
            "358             마켓 컬리 여름 과일 판매량 급증 전국 오직 곳 강원도 춘천 생산 하니 멜론 유통 기간 일반 멜론 크기 작 도 후숙 바로 수 인기 그 외 멜론 머스크 멜론  ...             4\n",
            "366             마켓 컬리 여름 과일 판매량 급증 전국 오직 곳 강원도 춘천 생산 하니 멜론 유통 기간 일반 멜론 크기 작 도 후숙 바로 수 인기 그 외 멜론 머스크 멜론  ...             4\n",
            "374             마켓 컬리 여름 과일 판매량 급증 전국 오직 곳 강원도 춘천 생산 하니 멜론 유통 기간 일반 멜론 크기 작 도 후숙 바로 수 인기 그 외 멜론 머스크 멜론  ...             4\n",
            "394      마켓 컬리 본격 무더위 여름 과일 판매량 증가 전국 오직 곳 강원도 춘천 생산 하니 멜론 유통 기간 일반 멜론 크기 작 도 후숙 바로 수 인기 그 외 멜론 머스크 멜론  ...             4\n",
            "414                제철 수박 멜론 인기 이유 강원도 춘천 생산 하니 멜론 유통 기간 일반 멜론 크기 작 도 후숙 바로 수 인기 그 외 일반 머스크 멜론 오렌지 빛 과육  ...             4\n",
            "504    마켓 컬리 여름 과일 판매 년 대비 수박 멜론 왜 전국 오직 곳 강원도 춘천 생산 하니 멜론 유통 기간 일반 멜론 크기 작 도 후숙 바로 수 인기 그 외 멜론 머스크 멜론  ...             4\n",
            "562     무더위 수박 멜론 온라인 구입 급증 전국 오직 곳 강원도 춘천 생산 하니 멜론 유통 기간 일반 멜론 크기 작 도 후숙 바로 수 인기 미리 손질 컷팅 멜론 올해 처음 출시  ...             4\n",
            "586      마켓 컬리 더위 수박 멜론 등 여름 과일 인기 전국 오직 곳 강원도 춘천 생산 하니 멜론 유통 기간 일반 멜론 크기 작 도 후숙 바로 수 인기 그 외 멜론 머스크 멜론  ...             4\n",
            "605  마켓 컬리 수박 멜론 등 여름 과일 배송 하나로 간편 전국 오직 곳 강원도 춘천 생산 하니 멜론 유통 기간 일반 멜론 크기 작 도 후숙 바로 수 인기 그 외 멜론 머스크 멜론  ...             4\n",
            "\n",
            "[19 rows x 4 columns]\n",
            "<<Clustering Label 5>>\n",
            "\n",
            "                                                                                                                     title + article  ... cluster_label\n",
            "7          춘천 더존 비즈 온 방문 디지털 뉴딜 데이터 댐 만들기 데이터 과 감히 개방 비 식별 상보 문재인 대통령 강원 춘천 소재 데이터 전문 기업 더존 비즈 온 방문 우리 디지털 뉴딜 앞 디지털 경제 기반 데이터 활용 최대한  ...             5\n",
            "22      디지털로 경제 선도 것 대통령 한국판 뉴딜 첫 현장 행보 춘천 행 문재인 대통령 사진 청와대 문재인 대통령 한국판 뉴딜 첫 현장 행보 강원도 춘천시 위치 토종 기업 방문 날 청와대 문 대통령 오전 강원도 춘천시 위치 데이터  ...             5\n",
            "102    레이더 디지털 뉴딜 데이터 댐 포스트 코로나 선도 경제 기반 날 대통령 강원도 춘천 위치 데이터 인공 지능 업체 더존 비즈 온 강촌 캠퍼스 방문 자리 정부 추진 디지털 뉴딜 소개 말 최근 북한 남북 공동 연락 사무소 폭파 등  ...             5\n",
            "105     대통령 디지털 뉴딜 핵심 데이터 댐 문재인 대통령 강원도 춘천 위치 빅데이터 플랫폼 운영 기업인 더존 비즈 온 방문 데이터 를 문 대통령 한국판 뉴딜 관련 첫 일정 강원도 춘천 더존 비즈 온 강촌 캠퍼스 방문 가운데 데이터  ...             5\n",
            "110            디지털 경제 위해 규제 혁신 속도 더존 비즈 온 방문 직원 회 한국판 뉴딜 관련 첫 현장 행보 디지털 경제 데이터 댐 문재인 대통령 강원도 춘천 데이터 및 인공 지능 전문 기업 더존 비즈 온 강촌 캠퍼스 한국판  ...             5\n",
            "..                                                                                                                               ...  ...           ...\n",
            "663           대통령 디지털 뉴딜 뉴딜 후버댐 처럼 데이터 댐 것 문 대통령 날 오전 강원도 춘천 데이터 전문 기업 더존 비즈 온 강촌 캠퍼스 관계자 회 디지털 뉴딜 취지 대해 이제 뉴딜 후버댐 대규모 토목 사업 통해 수 우리  ...             5\n",
            "665  대통령 한국판 뉴딜 첫 행보 강원도 데이터 기업 더존 비즈 온 방문 문재인 대통령 한국 뉴딜 첫 행보 강원도 춘천시 데이터 전문 기업 더존 비즈 온 방문 한국판 뉴딜 최 우선 과제 데이터 경제 활성화 통해 디지털 일자리 창 본격  ...             5\n",
            "678  문재인 대통령 한국판 뉴딜 데이터 댐 원조 뉴딜 후버댐 비교 문 대통령 날 강원도 춘천 데이터 및 인공 지능 전문 기업인 더존 비즈 온 강촌 캠퍼스 직원 만난 자리 왜 한국판 뉴딜 라며 설명 시작 문 대통령 루스벨트 미국 대통령  ...             5\n",
            "682  문재인 대통령 한국판 뉴딜 데이터 댐 원조 뉴딜 후버댐 비교 문 대통령 날 강원도 춘천 데이터 및 인공 지능 전문 기업인 더존 비즈 온 강촌 캠퍼스 직원 만난 자리 왜 한국판 뉴딜 라며 설명 시작 문 대통령 루스벨트 미국 대통령  ...             5\n",
            "703                 대통령 디지털 뉴딜 데이터 활용 데이터 댐 것 문 대통령 날 오전 강원도 춘천시 위치 데이터 전문 기업 더존 비즈 온 강촌 캠퍼스 방문 왜 한국판 뉴딜 뉴딜 세계 대공황 대의 미국 루즈벨트 대통령 위기  ...             5\n",
            "\n",
            "[78 rows x 4 columns]\n",
            "<<Clustering Label 6>>\n",
            "\n",
            "                                                                                                                     title + article  ... cluster_label\n",
            "9                                                   춘천시 기분 자동차세 강원 춘천시 기분 자동차세 고지서 발송 기분 자동차세 납세의무 현재 자동차 등록 부상 소유자 과세 기간 단 세액 이하 세액  ...             6\n",
            "12                                                  춘천시 기분 자동차세 강원 춘천시 기분 자동차세 고지서 발송 기분 자동차세 납세의무 현재 자동차 등록 부상 소유자 과세 기간 단 세액 이하 세액  ...             6\n",
            "20                                의정 소식 춘천시 의회 청년 층 유입 정책 개발 필요 춘천시 의회 의회 제 정례 회 상임 위원회 행정 사무 감사 진행 기획 행정 위 박순자 위원장 춘천 지역 인구 현황 층 유출  ...             6\n",
            "32               춘천 의회 중계 석 청년 층 지역 유출 방지 정책 개발 춘천시 의회 제 정례 회 상임 위 회의 개 행정 사무 감사 실시 박순자 기획 행정 위원장 춘천시 인구 유입 유출 현황 결과 층 지역 유출 사례 매우 며  ...             6\n",
            "57                          강원도 전쟁 평화 염원 행사 중단 요구 미래 통합 한기호 국회의원 춘천 철원 화천 양구 은 성명 통해 북한 위협 일삼 상황 북한 정권 상대로 민주당 종전 선언 것 북한 협박 굴복 것 여기  ...             6\n",
            "68                                             강원도 의회 반기 일정 강원 춘천시 강원도 의회 반기 마지막 정례 회 제 차 본회의 뒤 금석 도의 비롯 도의 기념 촬영 강원도 의회 제공 재판매 및 금지  ...             6\n",
            "80               도의 회 우수 의정 대상 시상식 강원도 의회 제 우수 의정 대상 수상자 김규 호 양구 김상용 삼척 김준섭 속초 박 균 강릉 심영섭 강릉 윤석 훈 평창 윤지영 춘천 정수진 비례 최재연 철원 등 명의 의원 선정  ...             6\n",
            "147                         강원도 전쟁 평화 염원 행사 중단 요구 미래 통합 한기호 국회의원 춘천 철원 화천 양구 은 성명 통해 북한 위협 일삼 상황 북한 정권 상대로 민주당 종전 선언 것 북한 협박 굴복 것 여기  ...             6\n",
            "205                                            강원도 의회 반기 일정 강원 춘천시 강원도 의회 반기 마지막 정례 회 제 차 본회의 뒤 금석 도의 비롯 도의 기념 촬영 강원도 의회 제공 재판매 및 금지  ...             6\n",
            "256              도의 회 우수 의정 대상 시상식 강원도 의회 제 우수 의정 대상 수상자 김규 호 양구 김상용 삼척 김준섭 속초 박 균 강릉 심영섭 강릉 윤석 훈 평창 윤지영 춘천 정수진 비례 최재연 철원 등 명의 의원 선정  ...             6\n",
            "368     강원도 의원 명 제 우수 의정 대상 수상자 선정 강원도 의회 제 우수 의정 대상 수상자 김규 호 양구 김상용 삼척 김준섭 속초 박 균 강릉 심영섭 강릉 윤석 훈 평창 윤지영 춘천 정수진 비례 최재연 철원 등 명의 의원 선정  ...             6\n",
            "376     강원도 의원 명 제 우수 의정 대상 수상자 선정 강원도 의회 제 우수 의정 대상 수상자 김규 호 양구 김상용 삼척 김준섭 속초 박 균 강릉 심영섭 강릉 윤석 훈 평창 윤지영 춘천 정수진 비례 최재연 철원 등 명의 의원 선정  ...             6\n",
            "380     강원도 의원 명 제 우수 의정 대상 수상자 선정 강원도 의회 제 우수 의정 대상 수상자 김규 호 양구 김상용 삼척 김준섭 속초 박 균 강릉 심영섭 강릉 윤석 훈 평창 윤지영 춘천 정수진 비례 최재연 철원 등 명의 의원 선정  ...             6\n",
            "419   도의 명 제 우수 의정 대상 수상 도의 회 의장 금석 지난 도의 회 세미 전국 시 도의 회의장 협의 회 주관 제 우수 의정 대상 시상식 김규 호 양구 윤지영 춘천 김상용 삼척 박 균 강릉 김준섭 속초 윤석 훈 평창 정수진 비례  ...             6\n",
            "423   도의 명 제 우수 의정 대상 수상 도의 회 의장 금석 지난 도의 회 세미 전국 시 도의 회의장 협의 회 주관 제 우수 의정 대상 시상식 김규 호 양구 윤지영 춘천 김상용 삼척 박 균 강릉 김준섭 속초 윤석 훈 평창 정수진 비례  ...             6\n",
            "431   도의 명 제 우수 의정 대상 수상 도의 회 의장 금석 지난 도의 회 세미 전국 시 도의 회의장 협의 회 주관 제 우수 의정 대상 시상식 김규 호 양구 윤지영 춘천 김상용 삼척 박 균 강릉 김준섭 속초 윤석 훈 평창 정수진 비례  ...             6\n",
            "468             한기호 의원 북핵 폐기 종전 선언 북한 굴복 행위 강원 춘천 철원 화천 양구 이 종전 선언 중단 성명 를 발표 강원도 종전 선언 퍼포먼스 당장 중단 제하 성명 대북 전단 구실 겁박 북한 남북 공동 연락 사무소  ...             6\n",
            "478             한기호 의원 북핵 폐기 종전 선언 북한 굴복 행위 강원 춘천 철원 화천 양구 이 종전 선언 중단 성명 를 발표 강원도 종전 선언 퍼포먼스 당장 중단 제하 성명 대북 전단 구실 겁박 북한 남북 공동 연락 사무소  ...             6\n",
            "480             한기호 의원 북핵 폐기 종전 선언 북한 굴복 행위 강원 춘천 철원 화천 양구 이 종전 선언 중단 성명 를 발표 강원도 종전 선언 퍼포먼스 당장 중단 제하 성명 대북 전단 구실 겁박 북한 남북 공동 연락 사무소  ...             6\n",
            "512                                                  제 기분 자동차세 춘천시 정부 제 기분 자동차세 고지서 발송 제 기분 자동차세 납세의무 현재 자동차 등록 부상 소유자 과세 기간 단 세액 이하  ...             6\n",
            "516                       북 군사 도발 대비 태세 추가 도발 성 장군 출신 미래 통합 한기호 춘천 철원 화천 양구 의원 국회 당 외교 안보 특별 위원회 회의 참석 북한 남북 연락 사무소 폭파 것 차 첫 단계 행동 며  ...             6\n",
            "548                               허영 의원 사회 기업 그린 뉴딜 주체 강원 춘천 철원 갑 민주당 의원 사회 경제 대한 자신 생각 말 의원 총선 때 당내 경선 탈락 지난 국회 위로 낙선 도전 끝 춘천 첫 민주당  ...             6\n",
            "551                               허영 의원 사회 기업 그린 뉴딜 주체 강원 춘천 철원 갑 민주당 의원 사회 경제 대한 자신 생각 말 의원 총선 때 당내 경선 탈락 지난 국회 위로 낙선 도전 끝 춘천 첫 민주당  ...             6\n",
            "575        한기호 미래 통합 의원 강원도 종전 선언 기념 퍼포먼스 를 당장 중단 미래 통합 춘천 국회의원 강원도 종전 선언 기념 퍼포먼스 를 당장 중단 촉구 한기호 국회의원 미래 통합 춘천 한기호 의원 대북 전단 구실 겁박 북한  ...             6\n",
            "585     오늘 주요 일정 강원 목요일 극락정토 춘천 국립 춘천 박물관 강당 오전 제 양구군 의회 제 차 정례 회 제 차 본회의 양구군 의회 본회의 오전 제 차 속초시 의회 행정 사무 감사 특별 위원회 속초시 의회 위원회 회의실 오전  ...             6\n",
            "612  오늘 주요 사회 일정 강원 목요일 극락정토 춘천 국립 춘천 박물관 강당 오전 제 양구군 의회 제 차 정례 회 제 차 본회의 양구군 의회 본회의 오전 제 차 속초시 의회 행정 사무 감사 특별 위원회 속초시 의회 위원회 회의실 오전  ...             6\n",
            "698                                        제 기분 자동차세 업 코리아 춘천 시청 업 코리아 춘천시 정부 제 기분 자동차세 고지서 발송 제 기분 자동차세 납세의무 현재 자동차 등록 부상 소유자 과세 기간  ...             6\n",
            "700                                        제 기분 자동차세 업 코리아 춘천 시청 업 코리아 춘천시 정부 제 기분 자동차세 고지서 발송 제 기분 자동차세 납세의무 현재 자동차 등록 부상 소유자 과세 기간  ...             6\n",
            "\n",
            "[28 rows x 4 columns]\n",
            "<<Clustering Label 7>>\n",
            "\n",
            "                                                                                                                       title + article  ... cluster_label\n",
            "47                     대통령 시연 라벨 링 솔루션 슈퍼 브 에이 아이 대표 김현수 춘천시 한국판 뉴딜 디지털 경제 현장 방문 데이터 기회 일자리 행사 데이터 수집 가공 분야 대표 혁신 서비스 자사 머신 러닝 데이터 플랫폼  ...             7\n",
            "106                    대통령 시연 라벨 링 솔루션 슈퍼 브 에이 아이 대표 김현수 춘천시 한국판 뉴딜 디지털 경제 현장 방문 데이터 기회 일자리 행사 데이터 수집 가공 분야 대표 혁신 서비스 자사 머신 러닝 데이터 플랫폼  ...             7\n",
            "279      디지털 뉴딜 혁신 기업 선정 슈퍼 브 에이 아이 인공 지능 데이터 플랫폼 기업 슈퍼 브 에이 아이 대표 김현수 춘천시 진행 한국판 뉴딜 디지털 경제 현장 방문 데이터 기회 일자리 데이터 수집 가공 분야 대표 혁신 서비스 자사  ...             7\n",
            "284      디지털 뉴딜 혁신 기업 선정 슈퍼 브 에이 아이 인공 지능 데이터 플랫폼 기업 슈퍼 브 에이 아이 대표 김현수 춘천시 진행 한국판 뉴딜 디지털 경제 현장 방문 데이터 기회 일자리 데이터 수집 가공 분야 대표 혁신 서비스 자사  ...             7\n",
            "295           슈퍼 브 에이 아이 디지털 뉴딜 혁신 기업 사례 선정 이 이 업체 날 강원 춘천시 한국판 뉴딜 디지털 경제 현장 방문 데이터 수집 및 가공 분야 대표 혁신 서비스 슈퍼 브 에이 아이 스위트 를 이 행사 문재인 대통령  ...             7\n",
            "301           슈퍼 브 에이 아이 디지털 뉴딜 혁신 기업 사례 선정 이 이 업체 날 강원 춘천시 한국판 뉴딜 디지털 경제 현장 방문 데이터 수집 및 가공 분야 대표 혁신 서비스 슈퍼 브 에이 아이 스위트 를 이 행사 문재인 대통령  ...             7\n",
            "384          슈퍼 브 에이 아이 디지털 뉴딜 혁신 기업 선정 국내 대표 인공 지능 데이터 플랫폼 기업 슈퍼 브 아이 춘천시 진행 한국판 뉴딜 디지털 경제 현장 방문 데이터 기회 일자리 데이터 수집 가공 분야 대표 혁신 서비스 자사  ...             7\n",
            "444  슈퍼 브 에이 아이 한국판 뉴딜 디지털 경제 현장 방문 스위트 선봬 데이터 플랫폼 기업 슈퍼 브 아이 춘천시 진행 한국판 뉴딜 디지털 경제 현장 방문 데이터 기회 일자리 데이터 수집 가공 분야 대표 혁신 서비스 자사 머신 러닝...  ...             7\n",
            "451  슈퍼 브 에이 아이 한국판 뉴딜 디지털 경제 현장 방문 스위트 선봬 데이터 플랫폼 기업 슈퍼 브 아이 춘천시 진행 한국판 뉴딜 디지털 경제 현장 방문 데이터 기회 일자리 데이터 수집 가공 분야 대표 혁신 서비스 자사 머신 러닝...  ...             7\n",
            "506  슈퍼 브 에이 아이 한국판 디지털 뉴딜 대표 혁신 기업 선정 국내 인공 지능 데이터 플랫폼 기업 슈퍼 브 에이 아이 대표 김현수 춘천시 진행 한국판 뉴딜 디지털 경제 현장 방문 데이터 기회 일자리 데이터 수집 가공 분야 대표 ...  ...             7\n",
            "511  슈퍼 브 에이 아이 사람 데이터 라벨 링 협업 통해 일자리 창 선도 국내 대표 인공 지능 데이터 플랫폼 기업 슈퍼 브 에이 아이 대표 김현수 춘천시 진행 한국판 뉴딜 디지털 경제 현장 방문 데이터 기회 일자리 데이터 수집 가공...  ...             7\n",
            "520        슈퍼 브 에이 아이 디지털 뉴딜 혁신 기업 선정 슈퍼 브 아이 춘천시 진행 한국판 뉴딜 디지털 경제 현장 방문 데이터 기회 일자리 데이터 수집 가공 분야 대표 혁신 서비스 자사 머신 러닝 데이터 플랫폼 슈퍼 브 에이 아이  ...             7\n",
            "583  슈퍼 브 에이 아이 한국판 디지털 뉴딜 혁신 기업 선정 슈퍼 브 아이 춘천시 진행 한국판 뉴딜 디지털 경제 현장 방문 데이터 기회 일자리 데이터 수집 가공 분야 대표 혁신 서비스 자사 머신 러닝 데이터 플랫폼 슈퍼 브 에이 아...  ...             7\n",
            "655        슈퍼 브 에이 아이 디지털 뉴딜 혁신 기업 선정 슈퍼 브 아이 춘천시 진행 한국판 뉴딜 디지털 경제 현장 방문 데이터 기회 일자리 데이터 수집 가공 분야 대표 혁신 서비스 자사 머신 러닝 데이터 플랫폼 슈퍼 브 에이 아이  ...             7\n",
            "\n",
            "[14 rows x 4 columns]\n",
            "<<Clustering Label 8>>\n",
            "\n",
            "                                                                                                                       title + article  ... cluster_label\n",
            "37                                                내 컵 왜 수감자 징역 서울 고법 춘천 재판 부 형사 부 재판 박재우 폭행 치사 혐의 기소 씨 형량 며 항소 기각 원심 징역 선고 씨 지난해 오전 도내  ...             8\n",
            "53                                  가평군 늪산 송전탑 이전 촉구 경관 훼손 개발 돌 김 군수 송전탑 이전 북한 강 건너편 강원 춘천 시민 동의 며 한전 국수 원자력 송전 선로 이설 중화 적극 검토 달라 고 당부  ...             8\n",
            "119                                 가평군 늪산 송전탑 이전 촉구 경관 훼손 개발 돌 김 군수 송전탑 이전 북한 강 건너편 강원 춘천 시민 동의 며 한전 국수 원자력 송전 선로 이설 중화 적극 검토 달라 고 당부  ...             8\n",
            "124                                 가평군 늪산 송전탑 이전 촉구 경관 훼손 개발 돌 김 군수 송전탑 이전 북한 강 건너편 강원 춘천 시민 동의 며 한전 국수 원자력 송전 선로 이설 중화 적극 검토 달라 고 당부  ...             8\n",
            "138                  가평군 늪산 설치 고압 송전탑 이전 요구 현재 지지 상황 라며 송전탑 이설 사업 북한 강 건너편 춘천시 남산면 방 하리 주민 동의 만큼 반드시 한전 한수원 송전 선로 이설 및 중화 적극 검토 고 말 가평  ...             8\n",
            "142                  가평군 늪산 설치 고압 송전탑 이전 요구 현재 지지 상황 라며 송전탑 이설 사업 북한 강 건너편 춘천시 남산면 방 하리 주민 동의 만큼 반드시 한전 한수원 송전 선로 이설 및 중화 적극 검토 고 말 가평  ...             8\n",
            "157                                           내 물품 왜 수감자 징역 서울 고법 춘천 재판 부 형사 부 박재우 부장 판사 폭행 치사 혐의 기소 씨 형량 며 항소 기각 원심 징역 선고 씨 지난해 오전 도내  ...             8\n",
            "165                                           내 물품 왜 수감자 징역 서울 고법 춘천 재판 부 형사 부 박재우 부장 판사 폭행 치사 혐의 기소 씨 형량 며 항소 기각 원심 징역 선고 씨 지난해 오전 도내  ...             8\n",
            "171                                              동료 수감자 항소심 실형 서울 고법 춘천 재판 부 형사 부 재판 박재우 폭행 치사 혐의 기소 씨 항소 기각 원심 징역 선고 씨 지난해 오전 강릉교도소 방  ...             8\n",
            "176                      김성기 가평 군수 경관 늪산 송전탑 이 대해 김성기 군수 송전탑 이설 사업 북한 강 건너편 춘천시 남산면 방 하리 주민 동의 만큼 반드시 한전 한수원 송전 선로 이설 및 중화 적극 검토 고 정재훈  ...             8\n",
            "186                        가평군 고압 송전탑 이전 요구 송전탑 이설 사업 북한 강 건너편 춘천시 남산면 방 하리 주민 동의 만큼 반드시 한전 한수원 송전 선로 이설 및 중화 적극 검토 고 말 가평읍 및 곡리 지역 고압  ...             8\n",
            "199        가평군 가평읍 보납산 자라섬 고압 송전탑 이전 요구 김성기 가평 군수 날 간담 회 보납산 자라섬 압송 선로 송전탑 이설 북한 강 건너편 춘천시 남산면 방 하리 주민 동의 며 한전 한수원 송전 선로 이설 및 중화 적극 검토  ...             8\n",
            "201        가평군 가평읍 보납산 자라섬 고압 송전탑 이전 요구 김성기 가평 군수 날 간담 회 보납산 자라섬 압송 선로 송전탑 이설 북한 강 건너편 춘천시 남산면 방 하리 주민 동의 며 한전 한수원 송전 선로 이설 및 중화 적극 검토  ...             8\n",
            "203                                            내 컵 왜 동료 수감자 징역 서울 고법 춘천 재판 부 형사 부 재판 박재우 폭행 치사 혐의 기소 씨 항소 기각 원심 징역 선고 씨 지난해 오전 강릉교도소 방  ...             8\n",
            "402                 김성기 가평 군수 고압 송전탑 반드시 이전 송전탑 이설 사업 북한 강 건너편 춘천시 남산면 방 하리 주민 동의 만큼 반드시 한전 한수원 송전 선로 이설 및 중화 적극 검토 고 말 가평읍 및 곡리 지역 고압  ...             8\n",
            "407                                               수감자 폭행 징역 서울 고법 춘천 재판 부 형사 부 재판 박재우 부장 판사 폭행 치사 혐의 기소 씨 형량 며 항소 기각 원심 징역 선고 씨 지난해 오전  ...             8\n",
            "411                                               수감자 폭행 징역 서울 고법 춘천 재판 부 형사 부 재판 박재우 부장 판사 폭행 치사 혐의 기소 씨 형량 며 항소 기각 원심 징역 선고 씨 지난해 오전  ...             8\n",
            "429                     가평군 지역 발전 돌 고압 송전탑 이전 촉구 건너편 춘천시 남산면 방 하리 주민 동의 만큼 반드시 한전 한수원 송전 선로 이설 및 중화 적극 검토 고 강조 가평읍 및 곡리 지역 고압 송전 선로 대책  ...             8\n",
            "437                     가평군 지역 발전 돌 고압 송전탑 이전 촉구 건너편 춘천시 남산면 방 하리 주민 동의 만큼 반드시 한전 한수원 송전 선로 이설 및 중화 적극 검토 고 강조 가평읍 및 곡리 지역 고압 송전 선로 대책  ...             8\n",
            "446  김성기 가평 군수 고압 송전 로 십년 지역 발전 저해 주민 건강 위협 이전 촉구 김 군수 송전탑 이설 사업 북한 강 건너편 춘천시 남산면 방 하리 주민 동의 만큼 반드시 한전 한수원 송전 선로 이설 및 중화 적극 검토 며 이전 조치  ...             8\n",
            "453  김성기 가평 군수 고압 송전 로 십년 지역 발전 저해 주민 건강 위협 이전 촉구 김 군수 송전탑 이설 사업 북한 강 건너편 춘천시 남산면 방 하리 주민 동의 만큼 반드시 한전 한수원 송전 선로 이설 및 중화 적극 검토 며 이전 조치  ...             8\n",
            "466                   가평 고압 송전탑 이전 주민 요구 사항 전달 송전탑 이설 사업 북한 강 건너편 춘천시 남산면 방 하리 주민 동의 만큼 반드시 한전 한수원 송전 선로 이설 및 중화 적극 검토 고 말 가평읍 및 곡리 지역  ...             8\n",
            "476                   가평 고압 송전탑 이전 주민 요구 사항 전달 송전탑 이설 사업 북한 강 건너편 춘천시 남산면 방 하리 주민 동의 만큼 반드시 한전 한수원 송전 선로 이설 및 중화 적극 검토 고 말 가평읍 및 곡리 지역  ...             8\n",
            "627                                              내 물품 왜 수감자 징역 서울 고법 춘천 재판 부 형사 부 박재우 부장 판사 폭행 치사 혐의 기소 씨 형량 며 항소 기각 원심 징역 선고 씨 지난해 오전  ...             8\n",
            "642   김성기 가평 군수 송전 선로 관련 한전 관계자 간담 회 주민 요구사항 전달 송전탑 이설 사업 북한 강 건너편 춘천시 남산면 방 하리 주민 동의 만큼 반드시 한전 한수원 송전 선로 이설 및 중화 적극 검토 고 가평읍 곡리 지역 고압  ...             8\n",
            "669                 김성기 가평 군수 늪산 고압 송전탑 이전 촉구 송전탑 이설 사업 북한 강 건너편 춘천시 남산면 방 하리 주민 동의 만큼 반드시 한전 한수원 송전 선로 이설 및 중화 적극 검토 고 강조 가평읍 및 곡리 지역  ...             8\n",
            "675                 김성기 가평 군수 늪산 고압 송전탑 이전 촉구 송전탑 이설 사업 북한 강 건너편 춘천시 남산면 방 하리 주민 동의 만큼 반드시 한전 한수원 송전 선로 이설 및 중화 적극 검토 고 강조 가평읍 및 곡리 지역  ...             8\n",
            "687            가평군 한전 한수원 늪산 고압 송전탑 이전 요구 김 군수 송전탑 이설 사업 군민 북한 강 건너 춘천시 남산면 방 하리 주민 동의 만큼 반드시 한전 한수원 송전 선로 이설 및 중화 적극 검토 고 한편 문제 송전 선로  ...             8\n",
            "690            가평군 한전 한수원 늪산 고압 송전탑 이전 요구 김 군수 송전탑 이설 사업 군민 북한 강 건너 춘천시 남산면 방 하리 주민 동의 만큼 반드시 한전 한수원 송전 선로 이설 및 중화 적극 검토 고 한편 문제 송전 선로  ...             8\n",
            "\n",
            "[29 rows x 4 columns]\n",
            "<<Clustering Label 9>>\n",
            "\n",
            "                                                                                                         title + article  ... cluster_label\n",
            "62                                                   친구 열공 학년 대학 수학 능력 시험 모의 평가 오전 강원 춘천시 강원대학교 사범 대학 부설 고등학교 고 학생 시험 준비  ...             9\n",
            "65                                              연습 실전 학년 대학 수학 능력 시험 모의 평가 오전 강원 춘천시 강원대학교 사범 대학 부설 고등학교 고 학생 답 안지 인적 사항  ...             9\n",
            "72                                                 마스크 수험생 학년 대학 수학 능력 시험 모의 평가 오전 강원 춘천시 강원대학교 사범 대학 부설 고등학교 고 학생 시험 준비  ...             9\n",
            "76                                        수능 모의 평가 시작 학년 대학 수학 능력 시험 모의 평가 오전 강원 춘천시 강원대학교 사범 대학 부설 고등학교 고 학생 답 안지 인적 사항  ...             9\n",
            "185                                                  친구 열공 학년 대학 수학 능력 시험 모의 평가 오전 강원 춘천시 강원대학교 사범 대학 부설 고등학교 고 학생 시험 준비  ...             9\n",
            "195                                             연습 실전 학년 대학 수학 능력 시험 모의 평가 오전 강원 춘천시 강원대학교 사범 대학 부설 고등학교 고 학생 답 안지 인적 사항  ...             9\n",
            "215                                                마스크 수험생 학년 대학 수학 능력 시험 모의 평가 오전 강원 춘천시 강원대학교 사범 대학 부설 고등학교 고 학생 시험 준비  ...             9\n",
            "239                                       수능 모의 평가 시작 학년 대학 수학 능력 시험 모의 평가 오전 강원 춘천시 강원대학교 사범 대학 부설 고등학교 고 학생 답 안지 인적 사항  ...             9\n",
            "246                                       수능 모의 평가 시작 학년 대학 수학 능력 시험 모의 평가 오전 강원 춘천시 강원대학교 사범 대학 부설 고등학교 고 학생 답 안지 인적 사항  ...             9\n",
            "594  고 첫 모의 평가 시행 명 온라인 시험 신청 강원 춘천시 강원대학교 사범 대학 부설 고등학교 고 학생 답 안지 인적 사항 연합뉴스 올해 고 의 첫 수능 모의 평가 오전 전국 개 고등학교 교육청 개 학원 동시  ...             9\n",
            "704          오늘 모의 수능 평가 실시 수능 준비 격 오전 학년 대학 수학 능력 시험 강원도 교육청 제 지구 제 춘천 고등학교 입구 수험생 선생님 대화 아시아 뉴스 통신 박신웅 기자 답안 채점 수능 이미지  ...             9\n",
            "\n",
            "[11 rows x 4 columns]\n",
            "<<Clustering Label 10>>\n",
            "\n",
            "                                                                                                                       title + article  ... cluster_label\n",
            "2               춘천 기업 데이터 댐 한국판 뉴딜 첫 행보 문 대통령 강원도 춘천 데이터 인공 지능 전문 기업 더존 비즈 온 강촌 캠퍼스 한국판 뉴딜 통해 포스트 코로나 시대 선도 의지 앞서 문 대통령 신종 코로나바이러스 감염증  ...            10\n",
            "8                  대통령 데이터 기업 춘천 한국판 뉴딜 첫 행보 문재인 대통령 오전 한국판 뉴딜 의 첫 현장 행보 강원도 춘천시 위치 데이터 인공 지능 전문 기업 더존 비즈 온 강촌 캠퍼스 방문 포스트 코로나 시대 선도 의지  ...            10\n",
            "108                            문 대통령 한국판 뉴딜 본격 시동 문 대통령 강원도 춘천 위치 데이터 인공 지능 전문 기업 더존 비즈 온 방문 디지털 경제 현장 한국판 뉴딜 통해 포스트 코로나 시대 경제 선도 의지 문  ...            10\n",
            "112                            문 대통령 한국판 뉴딜 본격 시동 문 대통령 강원도 춘천 위치 데이터 인공 지능 전문 기업 더존 비즈 온 방문 디지털 경제 현장 한국판 뉴딜 통해 포스트 코로나 시대 경제 선도 의지 문  ...            10\n",
            "162              대통령 디지털 뉴딜 선도 경제 기반 것 문재인 대통령 강원도 춘천 데이터 및 인공 지능 전문 기업 더존 비즈 온 강촌 캠퍼스 한국판 뉴딜 통해 포스트 코로나 시대 선도 의지 문 대통령 신종 코로나바이러스 감염증  ...            10\n",
            "170              문 대통령 빅데이터 기업 디지털 뉴딜 강조 문 대통령 강원도 춘천 데이터 및 인공 지능 전문 기업 더존 비즈 온 강촌 캠퍼스 한국판 뉴딜 통해 포스트 코로나 시대 선도 의지 문 대통령 신종 코로나바이러스 감염증  ...            10\n",
            "174                     문 대통령 디지털 뉴딜 데이터 댐 것 문 대통령 날 오전 강원도 춘천시 위치 데이터 전문 기업 더존 비즈 온 의 강촌 캠퍼스 방문 우리 경제 앞 디지털 경제 기반 포스트 코로나 시대 한국 선도 경제  ...            10\n",
            "212             대통령 데이터 기업 방문 한국판 뉴딜 본격 시동 문 대통령 강원도 춘천 데이터 전문 기업 더존 비즈 온 강촌 캠퍼스 방문 데이터 경제 활성화 를 통해 포스트 코로나 시대 선도 의지 정부 지난 국가 프로젝트 한국판  ...            10\n",
            "227                   문 대통령 디지털 뉴딜 민 관 합심 추진 문 대통령 날 강원도 춘천 소재 더존 비즈 온 강촌 캠퍼스 이번 방문 한국판 뉴딜 의 최 우선 과제 데이터 인공 지능 경제 활성화 통해 포스트 코로나 시대 선도  ...            10\n",
            "233                   문 대통령 디지털 뉴딜 민 관 합심 추진 문 대통령 날 강원도 춘천 소재 더존 비즈 온 강촌 캠퍼스 이번 방문 한국판 뉴딜 의 최 우선 과제 데이터 인공 지능 경제 활성화 통해 포스트 코로나 시대 선도  ...            10\n",
            "259          문재인 대통령 디지털 뉴딜 선도 경제 기반 것 문 대통령 날 강원도 춘천 데이터 및 인공 지능 전문 기업 더존 비즈 온 강촌 캠퍼스 한국판 뉴딜 통해 포스트 코로나 시대 선도 의지 문 대통령 날 방문 한국판 뉴딜 관련  ...            10\n",
            "262          문재인 대통령 디지털 뉴딜 선도 경제 기반 것 문 대통령 날 강원도 춘천 데이터 및 인공 지능 전문 기업 더존 비즈 온 강촌 캠퍼스 한국판 뉴딜 통해 포스트 코로나 시대 선도 의지 문 대통령 날 방문 한국판 뉴딜 관련  ...            10\n",
            "306    대통령 디지털 뉴딜 포스트 코로나 앞서 수 것 문 대통령 날 한국판 뉴딜 의 첫 현장 행보 강원도 춘천시 위치 데이터 인공 지능 전문 기업 더존 비즈 온 강촌 캠퍼스 방문 개발자 회 정부 코로나 위기 극복 또 포스트 코로나 시대  ...            10\n",
            "314    대통령 디지털 뉴딜 포스트 코로나 앞서 수 것 문 대통령 날 한국판 뉴딜 의 첫 현장 행보 강원도 춘천시 위치 데이터 인공 지능 전문 기업 더존 비즈 온 강촌 캠퍼스 방문 개발자 회 정부 코로나 위기 극복 또 포스트 코로나 시대  ...            10\n",
            "327           문 대통령 한국판 뉴딜 첫 행보 데이터 기업 문재인 대통령 남북관계 위기 속 예정 일정 소화 포스트 코로나 시대 대비 위 한국판 뉴딜 구상 의 첫 현장 행보 강원도 춘천시 데이터 인공 지능 전문 기업인 더존 비즈 온  ...            10\n",
            "332           문 대통령 한국판 뉴딜 첫 행보 데이터 기업 문재인 대통령 남북관계 위기 속 예정 일정 소화 포스트 코로나 시대 대비 위 한국판 뉴딜 구상 의 첫 현장 행보 강원도 춘천시 데이터 인공 지능 전문 기업인 더존 비즈 온  ...            10\n",
            "395   문 대통령 포스트 코로나 시대 선도 의지 데이터 댐 춘천시 남산면 더존 비즈 온 강촌 캠퍼스 한국판 뉴딜 디지털 경제 현장 방문 참석 발언 사진 뉴시스 뉴 시안 김 용 기자 문재인 대통령 한국판 뉴딜 의 첫 현장 행보 강원도 춘천  ...            10\n",
            "441                오늘 정치 뉴스 목 석간 리뷰 대통령 디지털 뉴딜 선도 경제 기반 것 연합뉴스 문재인 대통령 강원도 춘천 데이터 및 인공 지능 전문 기업 더존 비즈 온 강촌 캠퍼스 한국판 뉴딜 통해 포스트 코로나 시대 선도  ...            10\n",
            "443             문 대통령 디지털 뉴딜 선도 경제 기반 것 문재인 대통령 오늘 강원도 춘천 데이터 및 인공 지능 전문 기업 더존 비즈 온 강촌 캠퍼스 한국판 뉴딜 통해 포스트 코로나 시대 선도 의지 문 대통령 신종 코로나바이러스  ...            10\n",
            "450              문 대통령 디지털 뉴딜 선도 경제 기반 것 문재인 대통령 강원 춘천 데이터 및 인공 지능 전문 기업 더존 비즈 온 강촌 캠퍼스 한국판 뉴딜 통해 포스트 코로나 시대 선도 의지 앞서 문 대통령 신종 코로나바이러스  ...            10\n",
            "546           종합 문 대통령 디지털 뉴딜 선도 경제 기반 문재인 대통령 강원도 춘천 데이터 및 인공 지능 전문 기업 더존 비즈 온 강촌 캠퍼스 한국판 뉴딜 통해 포스트 코로나 시대 선도 의지 문 대통령 신종 코로나바이러스 감염증  ...            10\n",
            "555            문 대통령 디지털 뉴딜 선도 경제 기반 것 문재인 대통령 강원도 춘천 데이터 및 인공 지능 전문 기업 더존 비즈 온 강촌 캠퍼스 한국판 뉴딜 통해 포스트 코로나 시대 선도 의지 문 대통령 신종 코로나바이러스 감염증  ...            10\n",
            "617  종합 디지털 뉴딜 문재인 인공 지능 발전 산업 단지 스마트 혁신 산업 및 비대 서비스 창 등 거론 문재인 대통령 강원도 춘천 데이터 및 인공 지능 전문 기업 더존 비즈 온 강촌 캠퍼스 한국판 디지털 뉴딜 통해 포스트 코로나 시...  ...            10\n",
            "661                    문 대통령 디지털 뉴딜 데이터 댐 것 문재인 대통령 강원도 춘천 데이터 및 인공 지능 전문 기업 더존 비즈 온 강촌 캠퍼스 한국판 뉴딜 통해 포스트 코로나 시대 선도 의지 문 대통령 코로나 경제 위기  ...            10\n",
            "674     문 대통령 디지털 뉴딜 데이터 댐 것 선도 경제 기반 디지털 뉴딜 첫 현장 춘천 더존 비즈 온 방문 문재인 대통령 강원도 춘천 데이터 인공 지능 전문 기업 더존 비즈 온 한국판 뉴딜 포스트 코로나 시대 경제 돌파구 의지 피 문  ...            10\n",
            "\n",
            "[25 rows x 4 columns]\n",
            "<<Clustering Label 11>>\n",
            "\n",
            "                                                                                                           title + article  ... cluster_label\n",
            "41             문재인 대통령 한국판 뉴딜 디지털 경제 장방 문재인 대통령 강원 춘천시 남산면 더존 비즈 온 강촌 캠퍼스 한국판 뉴딜 디지털 경제 현장 방문 참석 데이터 혁신 서비스 발표 시연 참관 공감 언론  ...            11\n",
            "48                              설명 문재인 대통령 문재인 가운데 대통령 강원 춘천시 남산면 더존 비즈 온 강촌 캠퍼스 한국판 뉴딜 디지털 경제 현장 방문 참석 김현수 오른쪽 슈퍼 브 대표 설명  ...            11\n",
            "85      정치 오늘 홍사덕 전 국회 부의 숙환 별세 강원 춘천시 남산면 더존 비즈 온 강촌 캠퍼스 한국판 뉴딜 디지털 경제 현장 방문 참석 발언 문재인 대통령 뉴시스 문재인 대통령 정상회담 개최 문재인 대통령 샤를  ...            11\n",
            "92                                 발언 문재인 대통령 문재인 대통령 강원 춘천시 남산면 더존 비즈 온 강촌 캠퍼스 한국판 뉴딜 디지털 경제 현장 방문 참석 발언 공감 언론 뉴시스 독자 여러분  ...            11\n",
            "100          문재인 대통령 한국판 뉴딜 디지털 경제 현장 방문 문재인 대통령 강원 춘천시 남산면 더존 비즈 온 강촌 캠퍼스 한국판 뉴딜 디지털 경제 현장 방문 참석 임 세현 카드 빅데이터 센터 설명 공감 언론  ...            11\n",
            "107                             설명 문재인 대통령 문재인 가운데 대통령 강원 춘천시 남산면 더존 비즈 온 강촌 캠퍼스 한국판 뉴딜 디지털 경제 현장 방문 참석 김현수 오른쪽 슈퍼 브 대표 설명  ...            11\n",
            "111                             설명 문재인 대통령 문재인 가운데 대통령 강원 춘천시 남산면 더존 비즈 온 강촌 캠퍼스 한국판 뉴딜 디지털 경제 현장 방문 참석 김현수 오른쪽 슈퍼 브 대표 설명  ...            11\n",
            "218            문재인 대통령 한국판 뉴딜 디지털 경제 현장 방문 문재인 가운데 대통령 강원 춘천시 남산면 더존 비즈 온 강촌 캠퍼스 한국판 뉴딜 디지털 경제 현장 방문 참석 김현수 오른쪽 슈퍼 브 대표 설명  ...            11\n",
            "221            문재인 대통령 한국판 뉴딜 디지털 경제 현장 방문 문재인 가운데 대통령 강원 춘천시 남산면 더존 비즈 온 강촌 캠퍼스 한국판 뉴딜 디지털 경제 현장 방문 참석 김현수 오른쪽 슈퍼 브 대표 설명  ...            11\n",
            "268     정치 오늘 홍사덕 전 국회 부의 숙환 별세 강원 춘천시 남산면 더존 비즈 온 강촌 캠퍼스 한국판 뉴딜 디지털 경제 현장 방문 참석 발언 문재인 대통령 뉴시스 문재인 대통령 정상회담 개최 문재인 대통령 샤를  ...            11\n",
            "274     정치 오늘 홍사덕 전 국회 부의 숙환 별세 강원 춘천시 남산면 더존 비즈 온 강촌 캠퍼스 한국판 뉴딜 디지털 경제 현장 방문 참석 발언 문재인 대통령 뉴시스 문재인 대통령 정상회담 개최 문재인 대통령 샤를  ...            11\n",
            "323                                발언 문재인 대통령 문재인 대통령 강원 춘천시 남산면 더존 비즈 온 강촌 캠퍼스 한국판 뉴딜 디지털 경제 현장 방문 참석 발언 공감 언론 뉴시스 독자 여러분  ...            11\n",
            "331                                  발언 문 대통령 문재인 대통령 강원 춘천시 남산면 더존 비즈 온 강촌 캠퍼스 한국판 뉴딜 디지털 경제 현장 방문 참석 발언 공감 언론 뉴시스 독자 여러분  ...            11\n",
            "342                              마스크 문재인 대통령 문재인 대통령 강원 춘천시 남산면 더존 비즈 온 강촌 캠퍼스 한국판 뉴딜 디지털 경제 현장 방문 참석 마스크 공감 언론 뉴시스 독자 여러분  ...            11\n",
            "343                                사인 문재인 대통령 문재인 대통령 강원 춘천시 남산면 더존 비즈 온 강촌 캠퍼스 한국판 뉴딜 디지털 경제 현장 방문 직원 사인 공감 언론 뉴시스 독자 여러분  ...            11\n",
            "353                                 자리 문재인 대통령 문재인 대통령 강원 춘천시 남산면 더존 비즈 온 강촌 캠퍼스 한국판 뉴딜 디지털 경제 현장 방문 참석 직원 자리 공감 언론 뉴시스 독자  ...            11\n",
            "355                               설명 문재인 대통령 문재인 대통령 강원 춘천시 남산면 더존 비즈 온 강촌 캠퍼스 한국판 뉴딜 디지털 경제 현장 방문 참석 김현수 슈퍼 브 대표 설명 공감 언론  ...            11\n",
            "361                                 자리 문재인 대통령 문재인 대통령 강원 춘천시 남산면 더존 비즈 온 강촌 캠퍼스 한국판 뉴딜 디지털 경제 현장 방문 참석 직원 자리 공감 언론 뉴시스 독자  ...            11\n",
            "363                               설명 문재인 대통령 문재인 대통령 강원 춘천시 남산면 더존 비즈 온 강촌 캠퍼스 한국판 뉴딜 디지털 경제 현장 방문 참석 김현수 슈퍼 브 대표 설명 공감 언론  ...            11\n",
            "369                        개발자 격려 문재인 대통령 문재인 대통령 강원 춘천시 남산면 더존 비즈 온 강촌 캠퍼스 한국판 뉴딜 디지털 경제 현장 방문 참석 개발자 격려 공감 언론 뉴시스 독자 여러분  ...            11\n",
            "370                               설명 문재인 대통령 문재인 대통령 강원 춘천시 남산면 더존 비즈 온 강촌 캠퍼스 한국판 뉴딜 디지털 경제 현장 방문 참석 김현수 슈퍼 브 대표 설명 공감 언론  ...            11\n",
            "371                                발언 문재인 대통령 문재인 대통령 강원 춘천시 남산면 더존 비즈 온 강촌 캠퍼스 한국판 뉴딜 디지털 경제 현장 방문 참석 발언 공감 언론 뉴시스 독자 여러분  ...            11\n",
            "377                        개발자 격려 문재인 대통령 문재인 대통령 강원 춘천시 남산면 더존 비즈 온 강촌 캠퍼스 한국판 뉴딜 디지털 경제 현장 방문 참석 개발자 격려 공감 언론 뉴시스 독자 여러분  ...            11\n",
            "381                        개발자 격려 문재인 대통령 문재인 대통령 강원 춘천시 남산면 더존 비즈 온 강촌 캠퍼스 한국판 뉴딜 디지털 경제 현장 방문 참석 개발자 격려 공감 언론 뉴시스 독자 여러분  ...            11\n",
            "386                            개발자 대화 문재인 대통령 문재인 대통령 강원 춘천시 남산면 더존 비즈 온 강촌 캠퍼스 한국판 뉴딜 디지털 경제 현장 방문 참석 개발자 대화 공감 언론 뉴시스 독자  ...            11\n",
            "393                                회 참석 문재인 대통령 문재인 대통령 강원 춘천시 남산면 더존 비즈 온 강촌 캠퍼스 한국판 뉴딜 디지털 경제 현장 방문 직원 회 참석 공감 언론 뉴시스 독자  ...            11\n",
            "403                            개발자 작업 문재인 대통령 문재인 대통령 강원 춘천시 남산면 더존 비즈 온 강촌 캠퍼스 한국판 뉴딜 디지털 경제 현장 방문 참석 개발자 작업 공감 언론 뉴시스 독자  ...            11\n",
            "404                            개발자 대화 문재인 대통령 문재인 대통령 강원 춘천시 남산면 더존 비즈 온 강촌 캠퍼스 한국판 뉴딜 디지털 경제 현장 방문 참석 개발자 대화 공감 언론 뉴시스 독자  ...            11\n",
            "447               문재인 대통령 한국판 뉴딜 디지털 경제 현장 방문 문재인 대통령 강원 춘천시 남산면 더존 비즈 온 강촌 캠퍼스 한국판 뉴딜 디지털 경제 현장 방문 참석 공감 언론 뉴시스 독자 여러분 제보  ...            11\n",
            "454               문재인 대통령 한국판 뉴딜 디지털 경제 현장 방문 문재인 대통령 강원 춘천시 남산면 더존 비즈 온 강촌 캠퍼스 한국판 뉴딜 디지털 경제 현장 방문 참석 공감 언론 뉴시스 독자 여러분 제보  ...            11\n",
            "460               문재인 대통령 한국판 뉴딜 디지털 경제 현장 방문 문재인 대통령 강원 춘천시 남산면 더존 비즈 온 강촌 캠퍼스 한국판 뉴딜 디지털 경제 현장 방문 참석 공감 언론 뉴시스 독자 여러분 제보  ...            11\n",
            "470           문재인 대통령 한국판 뉴딜 디지털 경제 현장 방문 문재인 대통령 강원 춘천시 남산면 더존 비즈 온 강촌 캠퍼스 한국판 뉴딜 디지털 경제 현장 방문 참석 개발자 대화 공감 언론 뉴시스 독자 여러분  ...            11\n",
            "481               문재인 대통령 한국판 뉴딜 디지털 경제 현장 방문 문재인 대통령 강원 춘천시 남산면 더존 비즈 온 강촌 캠퍼스 한국판 뉴딜 디지털 경제 현장 방문 참석 발언 공감 언론 뉴시스 독자 여러분  ...            11\n",
            "499              데이터 혁신 서비스 시연 참관 문 대통령 문재인 대통령 강원 춘천시 남산면 더존 비즈 온 강촌 캠퍼스 한국판 뉴딜 디지털 경제 현장 방문 참석 데이터 혁신 서비스 발표 시연 참관 공감 언론  ...            11\n",
            "523                                  물 문재인 대통령 문재인 대통령 강원 춘천시 남산면 더존 비즈 온 강촌 캠퍼스 한국판 뉴딜 디지털 경제 현장 방문 참석 물 공감 언론 뉴시스 독자 여러분  ...            11\n",
            "525                               설명 문재인 대통령 문재인 대통령 강원 춘천시 남산면 더존 비즈 온 강촌 캠퍼스 한국판 뉴딜 디지털 경제 현장 방문 참석 김현수 슈퍼 브 대표 설명 공감 언론  ...            11\n",
            "526  시연 참관 문재인 대통령 홍 경제부총리 문재인 대통령 홍 경제부총리 겸 기획재정부 장관 강원 춘천시 남산면 더존 비즈 온 강촌 캠퍼스 한국판 뉴딜 디지털 경제 현장 방문 참석 데이터 혁신 서비스 발표 시연 참관  ...            11\n",
            "531                                발언 문재인 대통령 문재인 대통령 강원 춘천시 남산면 더존 비즈 온 강촌 캠퍼스 한국판 뉴딜 디지털 경제 현장 방문 참석 발언 공감 언론 뉴시스 독자 여러분  ...            11\n",
            "535                          참석자 발언 문 대통령 문재인 대통령 강원 춘천시 남산면 더존 비즈 온 강촌 캠퍼스 한국판 뉴딜 디지털 경제 현장 방문 참석 참석자 발언 공감 언론 뉴시스 독자 여러분  ...            11\n",
            "541                                음료 문재인 대통령 문재인 대통령 강원 춘천시 남산면 더존 비즈 온 강촌 캠퍼스 한국판 뉴딜 디지털 경제 현장 방문 참석 음료 공감 언론 뉴시스 독자 여러분  ...            11\n",
            "543                        참석자 발언 문재인 대통령 문재인 대통령 강원 춘천시 남산면 더존 비즈 온 강촌 캠퍼스 한국판 뉴딜 디지털 경제 현장 방문 참석 참석자 발언 공감 언론 뉴시스 독자 여러분  ...            11\n",
            "547         데이터 혁신 서비스 발표 시연 참관 문재인 대통령 문재인 대통령 강원 춘천시 남산면 더존 비즈 온 강촌 캠퍼스 한국판 뉴딜 디지털 경제 현장 방문 참석 데이터 혁신 서비스 발표 시연 참관 공감 언론  ...            11\n",
            "563                              참석자 문재인 대통령 문재인 대통령 강원 춘천시 남산면 더존 비즈 온 강촌 캠퍼스 한국판 뉴딜 디지털 경제 현장 방문 참석 참석자 공감 언론 뉴시스 독자 여러분  ...            11\n",
            "592           문재인 대통령 한국판 뉴딜 디지털 경제 현장 방문 문재인 대통령 강원 춘천시 남산면 더존 비즈 온 강촌 캠퍼스 한국판 뉴딜 디지털 경제 현장 방문 참석 참석자 발언 공감 언론 뉴시스 독자 여러분  ...            11\n",
            "\n",
            "[44 rows x 4 columns]\n",
            "<<Clustering Label 12>>\n",
            "\n",
            "                                                                                                               title + article  ... cluster_label\n",
            "40                   개국 한자리 허창수 회장 종합 아프리카 지상군 파병 국 에티오피아 황실 근위대 파병 도선 최 전방 춘천 방어 전투 활약 또한 코만도 특수작전 능 호주 명 모집 인원 배 인원 파병 형제 나라  ...            12\n",
            "125                 전경련 대한민국 국전 참전 개국 건설 나라 아프리카 지상군 파병 국 에티오피아 황실 근위대 파병 도선 최 전방 춘천 방어 전투 활약 이 코만도 특수작전 능 호주 모집 인원 배 인원 파병 형제  ...            12\n",
            "131                 전경련 대한민국 국전 참전 개국 건설 나라 아프리카 지상군 파병 국 에티오피아 황실 근위대 파병 도선 최 전방 춘천 방어 전투 활약 이 코만도 특수작전 능 호주 모집 인원 배 인원 파병 형제  ...            12\n",
            "155                  허창수 회장 한국 전쟁 경제 대국 다시 힘 아프리카 지상군 파병 국 에티오피아 황실 근위대 파병 도선 최 전방 춘천 방어 전투 활약 이 코만도 특수작전 능 호주 명 모집 인원 배 인원 파병  ...            12\n",
            "161                  허창수 회장 한국 전쟁 경제 대국 다시 힘 아프리카 지상군 파병 국 에티오피아 황실 근위대 파병 도선 최 전방 춘천 방어 전투 활약 이 코만도 특수작전 능 호주 명 모집 인원 배 인원 파병  ...            12\n",
            "178                   허창수 경제 참전 개국 파트너 덕 전 힘 파견 인천 상륙작전 등 부상 병 치료 정전협정 체결 이후 가장 아프리카 지상군 파병 국 에티오피아 황실 근위대 파병 최 전방 춘천 방어 전투 활약  ...            12\n",
            "181                   허창수 경제 참전 개국 파트너 덕 전 힘 파견 인천 상륙작전 등 부상 병 치료 정전협정 체결 이후 가장 아프리카 지상군 파병 국 에티오피아 황실 근위대 파병 최 전방 춘천 방어 전투 활약  ...            12\n",
            "329  전쟁 주년 기념 참전 국 초청 허창수 회장 경제 대국 파트너 덕분 아프리카 지상군 파병 국 에티오피아 황실 근위대 파병 도선 최 전방 춘천 방어 전투 활약 이 코만도 특수작전 능 호주 명 모집 인원 배 인원 파병 형제  ...            12\n",
            "334  전쟁 주년 기념 참전 국 초청 허창수 회장 경제 대국 파트너 덕분 아프리카 지상군 파병 국 에티오피아 황실 근위대 파병 도선 최 전방 춘천 방어 전투 활약 이 코만도 특수작전 능 호주 명 모집 인원 배 인원 파병 형제  ...            12\n",
            "428        허창수 전경련 회장 전쟁 경제 대국 개 전국 건설 나라 아프리카 지상군 파병 국 에티오피아 황실 근위대 파병 도선 최 전방 춘천 방어 전투 활약 이 코만도 특수작전 능 호주 명 모집 인원 배 인원 파병 형제  ...            12\n",
            "436        허창수 전경련 회장 전쟁 경제 대국 개 전국 건설 나라 아프리카 지상군 파병 국 에티오피아 황실 근위대 파병 도선 최 전방 춘천 방어 전투 활약 이 코만도 특수작전 능 호주 명 모집 인원 배 인원 파병 형제  ...            12\n",
            "449           캠프 페이지 조사 때 방사 능 검사 춘천 지역 방사 능 문제 해결 위 시민 대책 위원회 캠프 페이지 오염 조사 때 방사 능 검사 주장 대책위 오늘 춘천 시청 기자회견 미군 주둔 당시 캠프 페이지 핵무기  ...            12\n",
            "456           캠프 페이지 조사 때 방사 능 검사 춘천 지역 방사 능 문제 해결 위 시민 대책 위원회 캠프 페이지 오염 조사 때 방사 능 검사 주장 대책위 오늘 춘천 시청 기자회견 미군 주둔 당시 캠프 페이지 핵무기  ...            12\n",
            "462           캠프 페이지 조사 때 방사 능 검사 춘천 지역 방사 능 문제 해결 위 시민 대책 위원회 캠프 페이지 오염 조사 때 방사 능 검사 주장 대책위 오늘 춘천 시청 기자회견 미군 주둔 당시 캠프 페이지 핵무기  ...            12\n",
            "472           캠프 페이지 조사 때 방사 능 검사 춘천 지역 방사 능 문제 해결 위 시민 대책 위원회 캠프 페이지 오염 조사 때 방사 능 검사 주장 대책위 오늘 춘천 시청 기자회견 미군 주둔 당시 캠프 페이지 핵무기  ...            12\n",
            "578          허창수 회장 한국 전쟁 경제 대국 참전 개국 파트너 덕분 아프리카 지상군 파병 국 에티오피아 황실 근위대 파병 도선 최 전방 춘천 방어 전투 활약 이 코만도 특수작전 능 호주 명 모집 인원 배 인원 파병  ...            12\n",
            "677         전경련 한국 전쟁 참전 국 초청 감사 회 개최 아프리카 지상군 파병 국 에티오피아 황실 근위대 파병 도선 최 전방 춘천 방어 전투 활약 현재 전국 교역 규모 기준 한국 총 교역 규모 달 한국 총 해외 투자  ...            12\n",
            "681         전경련 한국 전쟁 참전 국 초청 감사 회 개최 아프리카 지상군 파병 국 에티오피아 황실 근위대 파병 도선 최 전방 춘천 방어 전투 활약 현재 전국 교역 규모 기준 한국 총 교역 규모 달 한국 총 해외 투자  ...            12\n",
            "\n",
            "[18 rows x 4 columns]\n",
            "<<Clustering Label 13>>\n",
            "\n",
            "                                                                                                                       title + article  ... cluster_label\n",
            "45                          방사 광 속기 청주시 미래 산업 여 초대형 현미경 포항 비롯 전남 나주 강원 춘천 경쟁 창 모든 면 최적 지반 화강암 지대 가속 기 건설 지리 교통 여건 역시 전국 접근성 가장 산업 집 적도  ...            13\n",
            "54                                                       곳 영화촬영장 공공 촬영장 지연 수도권 춘천 몇 년 전 영화 촬영 지로 각광 춘천시 이 영화 특별시 선포 영화 산업 정작 춘천 영화 촬영장  ...            13\n",
            "58                         권 일 대법관 후임 명 천거 명 심사 동의 여성 명 법무연수원 용인 원장 춘천지검 역대 호 여성 검사 변호사 성창 익 기 법무 법인 지평 변호사 이광수 기 변호사 장경 찬 기 변호사 최진수 기  ...            13\n",
            "63   여성 아나운서 정규직 전환 인권위 가능 불가 광주 여성 민우회 군포 여성 민우회 서울 남서 여성 민우회 동북 민우회 원주 여성 민우회 인천 여성 민우회 진주 여성 민우회 춘천 여성 민우회 한국 인터넷 기자 협회 한국 진보연대 ...  ...            13\n",
            "87                              권 일 후임 대법관 예비 후보 명 공개 여성 명 이 전 부원장 대검찰청 처음 여성 과장 임명 춘천지검 호 여성 검사 이 지난 노태악 대법관 선임 당시 최종 인 엽 서울 고법 부장 판사  ...            13\n",
            "99                        원주 강원 첨단 산업 육성 본격 기대 외 위해 춘천 민주당 국난 극복 위원회 원주 방문 디지털 헬 스케 산업 육성 약속 강탁균 기자 리포트 문재인 대통령 한국판 뉴딜 정책 발표 뒤 첫 행보 춘천  ...            13\n",
            "103                         방사 광 속기 청주시 미래 산업 여 초대형 현미경 포항 비롯 전남 나주 강원 춘천 경쟁 창 모든 면 최적 지반 화강암 지대 가속 기 건설 지리 교통 여건 역시 전국 접근성 가장 산업 집 적도  ...            13\n",
            "128                                                      곳 영화촬영장 공공 촬영장 지연 수도권 춘천 몇 년 전 영화 촬영 지로 각광 춘천시 이 영화 특별시 선포 영화 산업 정작 춘천 영화 촬영장  ...            13\n",
            "134                                                      곳 영화촬영장 공공 촬영장 지연 수도권 춘천 몇 년 전 영화 촬영 지로 각광 춘천시 이 영화 특별시 선포 영화 산업 정작 춘천 영화 촬영장  ...            13\n",
            "144                                                      곳 영화촬영장 공공 촬영장 지연 수도권 춘천 몇 년 전 영화 촬영 지로 각광 춘천시 이 영화 특별시 선포 영화 산업 정작 춘천 영화 촬영장  ...            13\n",
            "153                        권 일 대법관 후임 명 천거 명 심사 동의 여성 명 법무연수원 용인 원장 춘천지검 역대 호 여성 검사 변호사 성창 익 기 법무 법인 지평 변호사 이광수 기 변호사 장경 찬 기 변호사 최진수 기  ...            13\n",
            "163                                   신임 대법관 누가 후보 명 압축 법무연수원 용인 원장 춘천지검 역대 호 여성 검사 변호사 성창 익 기 법무 법인 지평 변호사 이광수 기 변호사 장경 찬 기 변호사 최진수 기  ...            13\n",
            "188  여성 아나운서 정규직 전환 인권위 가능 불가 광주 여성 민우회 군포 여성 민우회 서울 남서 여성 민우회 동북 민우회 원주 여성 민우회 인천 여성 민우회 진주 여성 민우회 춘천 여성 민우회 한국 인터넷 기자 협회 한국 진보연대 ...  ...            13\n",
            "277                   대법관 후보 명 발표 검찰 개혁 설계 김인 회 교수 포함 검사 출신 이영주 전 부원장 대검 형사 과장 대검 역사상 첫 성과 춘천지검 역대 호 여성 검사 변호사 성창 익 기 법무 법인 지평 변호사 이광수  ...            13\n",
            "281                   대법관 후보 명 발표 검찰 개혁 설계 김인 회 교수 포함 검사 출신 이영주 전 부원장 대검 형사 과장 대검 역사상 첫 성과 춘천지검 역대 호 여성 검사 변호사 성창 익 기 법무 법인 지평 변호사 이광수  ...            13\n",
            "288                             권 일 후임 대법관 예비 후보 명 공개 여성 명 이 전 부원장 대검찰청 처음 여성 과장 임명 춘천지검 호 여성 검사 이 지난 노태악 대법관 선임 당시 최종 인 엽 서울 고법 부장 판사  ...            13\n",
            "294                             권 일 후임 대법관 예비 후보 명 공개 여성 명 이 전 부원장 대검찰청 처음 여성 과장 임명 춘천지검 호 여성 검사 이 지난 노태악 대법관 선임 당시 최종 인 엽 서울 고법 부장 판사  ...            13\n",
            "356                       원주 강원 첨단 산업 육성 본격 기대 외 위해 춘천 민주당 국난 극복 위원회 원주 방문 디지털 헬 스케 산업 육성 약속 강탁균 기자 리포트 문재인 대통령 한국판 뉴딜 정책 발표 뒤 첫 행보 춘천  ...            13\n",
            "364                       원주 강원 첨단 산업 육성 본격 기대 외 위해 춘천 민주당 국난 극복 위원회 원주 방문 디지털 헬 스케 산업 육성 약속 강탁균 기자 리포트 문재인 대통령 한국판 뉴딜 정책 발표 뒤 첫 행보 춘천  ...            13\n",
            "372                       원주 강원 첨단 산업 육성 본격 기대 외 위해 춘천 민주당 국난 극복 위원회 원주 방문 디지털 헬 스케 산업 육성 약속 강탁균 기자 리포트 문재인 대통령 한국판 뉴딜 정책 발표 뒤 첫 행보 춘천  ...            13\n",
            "424                    첨단 산업 육성 본격 기대 강원 성장동력 주목 위해 춘천 민주당 국난 극복 위원회 원주 방문 디지털 헬 스케 산업 육성 약속 강탁균 기자 리포트 문재인 대통령 한국판 뉴딜 정책 발표 뒤 첫 행보 춘천  ...            13\n",
            "432                    첨단 산업 육성 본격 기대 강원 성장동력 주목 위해 춘천 민주당 국난 극복 위원회 원주 방문 디지털 헬 스케 산업 육성 약속 강탁균 기자 리포트 문재인 대통령 한국판 뉴딜 정책 발표 뒤 첫 행보 춘천  ...            13\n",
            "567                 도의 회 구성 민주당 명 후보 등록 도의 예상 곽도영 원주 김수철 화천 박윤 원주 원태경 춘천 의원 부의 박 효동 고성 이종 주 춘천 의원 등 명 후보 접수 운영 위원회 기획 행정 위원회 경제 건설 위원회  ...            13\n",
            "570                 도의 회 구성 민주당 명 후보 등록 도의 예상 곽도영 원주 김수철 화천 박윤 원주 원태경 춘천 의원 부의 박 효동 고성 이종 주 춘천 의원 등 명 후보 접수 운영 위원회 기획 행정 위원회 경제 건설 위원회  ...            13\n",
            "584       강원도 의회 후반기 의장 민주당 후보 명 출사표 원태경 춘천 운영 위원장 곽도영 원주 기획 행정 위원장 김수철 화천 건설 위원 예상 모두 후보 등록 부의 선거 박 효동 고성 농림 수산 위원장 이종 주 춘천 교육 위원 출사표  ...            13\n",
            "\n",
            "[25 rows x 4 columns]\n",
            "<<Clustering Label 14>>\n",
            "\n",
            "                                                                                                                       title + article  ... cluster_label\n",
            "11            문재인 대통령 춘천 기업 방문 한국판 뉴딜 점검 문재인 대통령 오늘 춘천 방문 한국판 뉴딜 로 포스트 코로나 시대 선도 의지 거듭 문 대통령 오늘 오전 빅데이터 플랫폼 운영 기업인 춘천 더존 비즈 온 방문 현장 의견  ...            14\n",
            "39            대통령 정상회담 개최 전략 동반 상보 대통령 신임 지도 부와 첫 정상회담 코로나 대응 공조 방안 등 양 관심 현안 논의 문재인 대통령 강원 춘천시 남산면 더존 비즈 온 강촌 캠퍼스 한국판 뉴딜 디지털 경제 현장 방문  ...            14\n",
            "49             대통령 디지털 뉴딜 첫 방문 더존 비즈 온 회사 문재인 대통령 춘천시 남산면 위치 더존 그룹 강촌 캠퍼스 방문 디지털 뉴딜 첫 현장 문재인 대통령 오전 강원도 춘천 소재 전문 기업인 더존 비즈 온 대표 김용우 방문  ...            14\n",
            "71                                                             직원 격려 문 대통령 문재인 대통령 오전 강원도 춘천 위치 빅데이터 플랫폼 운영 기업 더존 비즈 온 개발자 작업 공간 방문 격려  ...            14\n",
            "79   대통령 디지털 뉴딜 현장 행보 도발 여파 지지율 급락 종합 급락 문재인 대통령 강원도 춘천 위치 빅데이터 플랫폼 운영 기업인 더존 비즈 온 방문 문 대통령 오전 강원도 춘천시 소재 인공 지능 전문 기업 더존 비즈 온 방문 포스...  ...            14\n",
            "88                                    디지털 뉴딜 관련 브리핑 문 대통령 문재인 대통령 강원도 춘천 위치 빅데이터 플랫폼 운영 기업인 더존 비즈 온 방문 최 영 과학기술 정보통신부 장관 디지털 뉴딜 관련 브리핑  ...            14\n",
            "109            대통령 디지털 뉴딜 첫 방문 더존 비즈 온 회사 문재인 대통령 춘천시 남산면 위치 더존 그룹 강촌 캠퍼스 방문 디지털 뉴딜 첫 현장 문재인 대통령 오전 강원도 춘천 소재 전문 기업인 더존 비즈 온 대표 김용우 방문  ...            14\n",
            "113            대통령 디지털 뉴딜 첫 방문 더존 비즈 온 회사 문재인 대통령 춘천시 남산면 위치 더존 그룹 강촌 캠퍼스 방문 디지털 뉴딜 첫 현장 문재인 대통령 오전 강원도 춘천 소재 전문 기업인 더존 비즈 온 대표 김용우 방문  ...            14\n",
            "140                                        차 문재인 대통령 문재인 대통령 오전 강원도 춘천 위치 빅데이터 플랫폼 운영 기업 더존 비즈 온 한국판 뉴딜 디지털 경제 현장 방문 일정 후 참석자 차담 공감 언론  ...            14\n",
            "149                                    최 영 장관 설명 문재인 대통령 문재인 대통령 강원 춘천시 남산면 더존 비즈 온 강촌 캠퍼스 한국판 뉴딜 디지털 경제 현장 방문 참석 최 영 과학기술 정보통신부 장관 설명  ...            14\n",
            "152                                    최 영 장관 설명 문재인 대통령 문재인 대통령 강원 춘천시 남산면 더존 비즈 온 강촌 캠퍼스 한국판 뉴딜 디지털 경제 현장 방문 참석 최 영 과학기술 정보통신부 장관 설명  ...            14\n",
            "168         문 대통령 디지털 뉴딜 성공 포스트 코로나 앞서 것 문 대통령 날 한국판 뉴딜 관련 첫 일정 강원도 춘천시 소재 더존 비즈 온 방문 문재인 대통령 강원도 춘천 위치 빅데이터 플랫폼 운영 기업인 더존 비즈 온 방문 최 영  ...            14\n",
            "172         문 대통령 디지털 뉴딜 성공 포스트 코로나 앞서 것 문 대통령 날 한국판 뉴딜 관련 첫 일정 강원도 춘천시 소재 더존 비즈 온 방문 문재인 대통령 강원도 춘천 위치 빅데이터 플랫폼 운영 기업인 더존 비즈 온 방문 최 영  ...            14\n",
            "177          문재인 대통령 한국판 뉴딜 핵심 더존 비즈 온 현장 방문 더존 비즈 온 대표 김용우 은 오전 문재인 대통령 강원도 춘천시 남산면 위치 더존 그룹 강촌 캠퍼스 방문 기업 관계자 및 개발자 격려 날 현장 직접 방문 문재인  ...            14\n",
            "180          문재인 대통령 한국판 뉴딜 핵심 더존 비즈 온 현장 방문 더존 비즈 온 대표 김용우 은 오전 문재인 대통령 강원도 춘천시 남산면 위치 더존 그룹 강촌 캠퍼스 방문 기업 관계자 및 개발자 격려 날 현장 직접 방문 문재인  ...            14\n",
            "196                   문재인 대통령 디지털 뉴딜 첫 행보 더존 비즈 온 방문 김용우 은 문재인 대통령 강원도 춘천시 남산면 위치 더존 그룹 강촌 캠퍼스 방문 디지털 뉴딜 첫 현장 행보 본격 시작 기업 관계자 및 개발자 격려  ...            14\n",
            "213                                                            직원 격려 문 대통령 문재인 대통령 오전 강원도 춘천 위치 빅데이터 플랫폼 운영 기업 더존 비즈 온 개발자 작업 공간 방문 격려  ...            14\n",
            "254       대통령 더존 비즈 온 현장 방문 디지털 뉴딜 선도 주역 문재인 대통령 디지털 뉴딜 첫 현장 행보 강원도 춘천시 소재 더존 그룹 강촌 캠퍼스 문재인 대통령 오전 강원도 춘천 소재 전문 기업 더존 비즈 온 방문 플랫폼 빅데이터  ...            14\n",
            "255  대통령 디지털 뉴딜 현장 행보 도발 여파 지지율 급락 종합 급락 문재인 대통령 강원도 춘천 위치 빅데이터 플랫폼 운영 기업인 더존 비즈 온 방문 문 대통령 오전 강원도 춘천시 소재 인공 지능 전문 기업 더존 비즈 온 방문 포스...  ...            14\n",
            "261    문재인 대통령 한국판 뉴딜 핵심 더존 비즈 온 강촌 캠퍼스 방문 강원도 춘천시 남산면 위치 더존 그룹 강촌 캠퍼스 방문 디지털 뉴딜 첫 현장 행보 본격 시작 기업 관계자 및 개발자 격려 전 날 더존 캠퍼스 현장 직접 방문 문재인  ...            14\n",
            "280                                                      문 대통령 한국판 뉴딜 현장 첫 방문 문재인 대통령 한국판 뉴딜 첫 현장 방문 강원도 춘천 위치 빅데이터 플랫폼 운영 기업인 더존 비즈 온  ...            14\n",
            "287               디지털 뉴딜 현장 방문 문 대통령 문재인 대통령 홍 부총리 겸 기획재정부 장관 강원도 춘천 위치 빅데이터 플랫폼 운영 기업인 더존 비즈 온 방문 최 영 과학기술 정보통신부 장관 오른쪽 디지털 뉴딜 관련 브리핑  ...            14\n",
            "293               디지털 뉴딜 현장 방문 문 대통령 문재인 대통령 홍 부총리 겸 기획재정부 장관 강원도 춘천 위치 빅데이터 플랫폼 운영 기업인 더존 비즈 온 방문 최 영 과학기술 정보통신부 장관 오른쪽 디지털 뉴딜 관련 브리핑  ...            14\n",
            "298   문재인 대통령 한국판 뉴딜 기업 더존 비즈 온 현장 방문 문재인 대통령 전문 기업인 더존 비즈 온 방문 플랫폼 빅데이터 핀 테크 대한 설명 사진 더존 비즈 온 더존 비즈 온 대표 김용우 은 오전 문재인 대통령 강원도 춘천시 남산면  ...            14\n",
            "304   문재인 대통령 한국판 뉴딜 기업 더존 비즈 온 현장 방문 문재인 대통령 전문 기업인 더존 비즈 온 방문 플랫폼 빅데이터 핀 테크 대한 설명 사진 더존 비즈 온 더존 비즈 온 대표 김용우 은 오전 문재인 대통령 강원도 춘천시 남산면  ...            14\n",
            "308                                   디지털 뉴딜 관련 브리핑 문 대통령 문재인 대통령 강원도 춘천 위치 빅데이터 플랫폼 운영 기업인 더존 비즈 온 방문 최 영 과학기술 정보통신부 장관 디지털 뉴딜 관련 브리핑  ...            14\n",
            "312   문재인 대통령 한국판 뉴딜 기업 더존 비즈 온 현장 방문 문재인 대통령 전문 기업인 더존 비즈 온 방문 플랫폼 빅데이터 핀 테크 대한 설명 사진 더존 비즈 온 더존 비즈 온 대표 김용우 은 오전 문재인 대통령 강원도 춘천시 남산면  ...            14\n",
            "316                                   디지털 뉴딜 관련 브리핑 문 대통령 문재인 대통령 강원도 춘천 위치 빅데이터 플랫폼 운영 기업인 더존 비즈 온 방문 최 영 과학기술 정보통신부 장관 디지털 뉴딜 관련 브리핑  ...            14\n",
            "320                                   디지털 뉴딜 관련 브리핑 문 대통령 문재인 대통령 강원도 춘천 위치 빅데이터 플랫폼 운영 기업인 더존 비즈 온 방문 최 영 과학기술 정보통신부 장관 디지털 뉴딜 관련 브리핑  ...            14\n",
            "344  댐 모형 디지털 뉴딜 문 대통령 참석자 고개 끄덕 끄덕 문 대통령 데이터 전문 기업 더존 비즈 온 강원 춘천 사업 방문 직원 회 문 대통령 날 오전 홍 부총리 최 영 과학기술 정부 통 신부 장관 박영선 중소 벤처기업 부 장관 ...  ...            14\n",
            "426                              최 영 과기부 장관 브리핑 문재인 대통령 문재인 대통령 오전 강원도 춘천 위치 빅데이터 플랫폼 운영 기업 더존 비즈 온 방문 최 영 과학기술 정보통신부 장관 디지털 뉴딜 관련 브리핑  ...            14\n",
            "434                              최 영 과기부 장관 브리핑 문재인 대통령 문재인 대통령 오전 강원도 춘천 위치 빅데이터 플랫폼 운영 기업 더존 비즈 온 방문 최 영 과학기술 정보통신부 장관 디지털 뉴딜 관련 브리핑  ...            14\n",
            "448                  디지털 뉴딜 강원 기업 날개 코로나 여파 재택근무 확대 춘천 더존 비즈 온 서비스 증가 매출 영업 이익 각 상승 바이오 증권 최근 코로나 책자 발간 코로나 수혜 기업 원격 분야 춘천 기업인 더존 비즈 온  ...            14\n",
            "455                  디지털 뉴딜 강원 기업 날개 코로나 여파 재택근무 확대 춘천 더존 비즈 온 서비스 증가 매출 영업 이익 각 상승 바이오 증권 최근 코로나 책자 발간 코로나 수혜 기업 원격 분야 춘천 기업인 더존 비즈 온  ...            14\n",
            "459  문 대통령 디지털 뉴딜 기회 일자리 창 것 더존 비즈 온 방문 더존 비즈 온 오전 문재인 대통령 강원도 춘천시 남산면 위치 더존 그룹 강촌 캠퍼스 문재인 대통령 오전 강원도 춘천 소재 전문 기업인 더존 비즈 온 방문 플랫폼 빅데이터  ...            14\n",
            "461                  디지털 뉴딜 강원 기업 날개 코로나 여파 재택근무 확대 춘천 더존 비즈 온 서비스 증가 매출 영업 이익 각 상승 바이오 증권 최근 코로나 책자 발간 코로나 수혜 기업 원격 분야 춘천 기업인 더존 비즈 온  ...            14\n",
            "465  문 대통령 디지털 뉴딜 기회 일자리 창 것 더존 비즈 온 방문 더존 비즈 온 오전 문재인 대통령 강원도 춘천시 남산면 위치 더존 그룹 강촌 캠퍼스 문재인 대통령 오전 강원도 춘천 소재 전문 기업인 더존 비즈 온 방문 플랫폼 빅데이터  ...            14\n",
            "471                  디지털 뉴딜 강원 기업 날개 코로나 여파 재택근무 확대 춘천 더존 비즈 온 서비스 증가 매출 영업 이익 각 상승 바이오 증권 최근 코로나 책자 발간 코로나 수혜 기업 원격 분야 춘천 기업인 더존 비즈 온  ...            14\n",
            "475  문 대통령 디지털 뉴딜 기회 일자리 창 것 더존 비즈 온 방문 더존 비즈 온 오전 문재인 대통령 강원도 춘천시 남산면 위치 더존 그룹 강촌 캠퍼스 문재인 대통령 오전 강원도 춘천 소재 전문 기업인 더존 비즈 온 방문 플랫폼 빅데이터  ...            14\n",
            "518                      화상 정상회담 개최 코로나 등 현안 논의 예정 사진 기사 직접 관계 것 문 대통령 강원도 춘천 위치 빅데이터 플랫폼 운영 기업인 더존 비즈 온 방문 직원 회 발언 모습 연합뉴스 문재인 대통령 한국  ...            14\n",
            "534                             디지털 뉴딜 관련 브리핑 문재인 대통령 문재인 대통령 강원도 춘천 빅데이터 플랫폼 운영 기업인 더존 비즈 온 방문 최 영 과학기술 정보통신부 장관 디지털 뉴딜 관련 브리핑 사진 청와대  ...            14\n",
            "550                                     개발자 격려 문재인 대통령 문재인 대통령 오전 강원도 춘천 위치 빅데이터 플랫폼 운영 기업 더존 비즈 온 개발자 작업 공간 방문 격려 공감 언론 뉴시스 독자 여러분 제보  ...            14\n",
            "580  문재인 대통령 한국판 뉴딜 핵심 더존 비즈 온 현장 방문 문재인 대통령 더존 비즈 온 방문 관련 담당자 및 개발자 격려 사진 더존 비즈 온 더존 비즈 온 오늘 문재인 대통령 강원도 춘천시 남산면 위치 더존 그룹 강촌 캠퍼스 방...  ...            14\n",
            "611  문재인 대통령 데이터 클라우드 등 디지털 뉴딜 기업 더존 비즈 온 방문 더존 비즈 온 대표 김용우 은 오전 문재인 대통령 강원도 춘천시 남산면 위치 더존 그룹 강촌 캠퍼스 방문 디지털 뉴딜 첫 현장 행보 본격 시작 기업 관계자...  ...            14\n",
            "628  문재인 대통령 한국판 뉴딜 핵심 더존 비즈 온 현장 방문 더존 비즈 온 더존 비즈 온 대표 김용우 은 오전 문재인 대통령 강원도 춘천시 남산면 위치 더존 그룹 강촌 캠퍼스 방문 디지털 뉴딜 첫 현장 행보 본격 시작 기업 관계자...  ...            14\n",
            "641               연락 사무소 폭파 사전 통보 전혀 사실 윤도 소통 수석 브리핑 김여정 담화 후 모니터 중 김봉철 기자 문재인 대통령 한국판 뉴딜 첫 현장 방문 강원도 춘천 위치 빅데이터 플랫폼 운영 기업인 더존 비즈 온 방문  ...            14\n",
            "679                문재인 대통령 안보 위기 속 경제 대한민국 한국판 뉴딜 첫 행보 문재인 대통령 오전 한국판 뉴딜 첫 현장 행보 강원도 춘천시 위치 또 카드 신용카드 소비 데이터 결합 활용 춘천역 인근 카페 창업 성공 가능성  ...            14\n",
            "683                문재인 대통령 안보 위기 속 경제 대한민국 한국판 뉴딜 첫 행보 문재인 대통령 오전 한국판 뉴딜 첫 현장 행보 강원도 춘천시 위치 또 카드 신용카드 소비 데이터 결합 활용 춘천역 인근 카페 창업 성공 가능성  ...            14\n",
            "693       문재인 대통령 더존 비즈 온 강촌 캠퍼스 현장 방문 더존 비즈 온 대표 김용우 은 오전 문재인 대통령 강원도 춘천시 남산면 위치 더존 그룹 강촌 캠퍼스 방문 디지털 뉴딜 첫 현장 행보 본격 시작 기업 관계자 및 개발자 격려  ...            14\n",
            "699  문 대통령 한국판 뉴딜 첫 행보 개 디지털 일자리 창 본격 시동 강원도 춘천시 남산면 위치 한국판 뉴딜 디지털 경제 현장 방문 사진 제공 청와대 아시아 뉴스 통신 김 해 기자 문재인 대통령 오전 더존 비즈 온 강촌 캠퍼스 강원...  ...            14\n",
            "701  문 대통령 한국판 뉴딜 첫 행보 개 디지털 일자리 창 본격 시동 강원도 춘천시 남산면 위치 한국판 뉴딜 디지털 경제 현장 방문 사진 제공 청와대 아시아 뉴스 통신 김 해 기자 문재인 대통령 오전 더존 비즈 온 강촌 캠퍼스 강원...  ...            14\n",
            "\n",
            "[51 rows x 4 columns]\n"
          ],
          "name": "stdout"
        }
      ]
    },
    {
      "cell_type": "code",
      "metadata": {
        "id": "o9qHkifvgZos",
        "colab_type": "code",
        "colab": {}
      },
      "source": [
        "clustersNum = topic_df['cluster_label'].groupby(topic_df['cluster_label']).count()\n",
        "df= pd.DataFrame(clustersNum)"
      ],
      "execution_count": 134,
      "outputs": []
    },
    {
      "cell_type": "code",
      "metadata": {
        "id": "8BDiuiNUsGx9",
        "colab_type": "code",
        "colab": {
          "base_uri": "https://localhost:8080/",
          "height": 35
        },
        "outputId": "73b6f4a9-9cc4-4b1a-cb1d-00c5d186980f"
      },
      "source": [
        "df.columns = ['count']\n",
        "len(df['count'])"
      ],
      "execution_count": 135,
      "outputs": [
        {
          "output_type": "execute_result",
          "data": {
            "text/plain": [
              "15"
            ]
          },
          "metadata": {
            "tags": []
          },
          "execution_count": 135
        }
      ]
    },
    {
      "cell_type": "code",
      "metadata": {
        "id": "lHirnJSYjXMB",
        "colab_type": "code",
        "colab": {
          "base_uri": "https://localhost:8080/",
          "height": 319
        },
        "outputId": "ad7d18bf-0bce-4af0-ad42-0ceab302f544"
      },
      "source": [
        "plt.figure(figsize=(7,5))\n",
        "plt.plot(df.index, df['count'])\n",
        "plt.xticks(np.arange(1, clusters_num))\n",
        "plt.show()"
      ],
      "execution_count": 136,
      "outputs": [
        {
          "output_type": "display_data",
          "data": {
            "image/png": "[encoded data removed]",
            "text/plain": [
              "<Figure size 504x360 with 1 Axes>"
            ]
          },
          "metadata": {
            "tags": [],
            "image/png": {
              "width": 431,
              "height": 302
            },
            "needs_background": "light"
          }
        }
      ]
    },
    {
      "cell_type": "code",
      "metadata": {
        "id": "haHAopzIdp89",
        "colab_type": "code",
        "colab": {
          "base_uri": "https://localhost:8080/",
          "height": 161
        },
        "outputId": "4e3a1ed0-2b3d-44fa-8f84-2f0916b5600b"
      },
      "source": [
        "cluster_centers = km_cluster.cluster_centers_\n",
        "print('cluster_centers shape : ', cluster_centers.shape)\n",
        "print(cluster_centers)"
      ],
      "execution_count": 137,
      "outputs": [
        {
          "output_type": "stream",
          "text": [
            "cluster_centers shape :  (15, 2421)\n",
            "[[0.00198744 0.         0.         ... 0.0029195  0.00254601 0.00260974]\n",
            " [0.         0.01832903 0.         ... 0.         0.         0.        ]\n",
            " [0.         0.         0.         ... 0.         0.         0.        ]\n",
            " ...\n",
            " [0.         0.         0.         ... 0.         0.         0.04010838]\n",
            " [0.         0.         0.         ... 0.         0.         0.        ]\n",
            " [0.         0.         0.         ... 0.         0.         0.        ]]\n"
          ],
          "name": "stdout"
        }
      ]
    },
    {
      "cell_type": "code",
      "metadata": {
        "id": "jhfu4azodrk8",
        "colab_type": "code",
        "colab": {}
      },
      "source": [
        "# 군집별 top n 핵심단어, 그 단어의 중심 위치 상대값, 대상 제목들을 반환함. \n",
        "def get_cluster_details(cluster_model, cluster_data, feature_names, clusters_num, top_n_features=10):\n",
        "    cluster_details = {}\n",
        "    \n",
        "    # cluster_centers array 의 값이 큰 순으로 정렬된 index 값을 반환\n",
        "    # 군집 중심점(centroid)별 할당된 word 피처들의 거리값이 큰 순으로 값을 구하기 위함.  \n",
        "    centroid_feature_ordered_ind = cluster_model.cluster_centers_.argsort()[:,::-1]\n",
        "    \n",
        "    #개별 군집별로 iteration하면서 핵심단어, 그 단어의 중심 위치 상대값, 대상 제목 입력\n",
        "    for cluster_num in range(clusters_num):\n",
        "        # 개별 군집별 정보를 담을 데이터 초기화. \n",
        "        cluster_details[cluster_num] = {}\n",
        "        cluster_details[cluster_num]['cluster'] = cluster_num\n",
        "        \n",
        "        # cluster_centers_.argsort()[:,::-1] 로 구한 index 를 이용하여 top n 피처 단어를 구함. \n",
        "        top_feature_indexes = centroid_feature_ordered_ind[cluster_num, :top_n_features]\n",
        "        top_features = [ feature_names[ind] for ind in top_feature_indexes ]\n",
        "        \n",
        "        # top_feature_indexes를 이용해 해당 피처 단어의 중심 위치 상댓값 구함 \n",
        "        top_feature_values = cluster_model.cluster_centers_[cluster_num, top_feature_indexes].tolist()\n",
        "        \n",
        "        # cluster_details 딕셔너리 객체에 개별 군집별 핵심 단어와 중심위치 상대값, 그리고 해당 파일명 입력\n",
        "        cluster_details[cluster_num]['top_features'] = top_features\n",
        "        cluster_details[cluster_num]['top_features_value'] = top_feature_values\n",
        "        filenames = cluster_data[cluster_data['cluster_label'] == cluster_num]['title']\n",
        "        filenames = filenames.values.tolist()\n",
        "        cluster_details[cluster_num]['title'] = filenames\n",
        "        \n",
        "    return cluster_details"
      ],
      "execution_count": 138,
      "outputs": []
    },
    {
      "cell_type": "code",
      "metadata": {
        "id": "TM1JtoX1du1U",
        "colab_type": "code",
        "colab": {}
      },
      "source": [
        "def print_cluster_details(cluster_details):    \n",
        "    for cluster_num, cluster_detail in cluster_details.items():\n",
        "        print('####### Cluster {0}'.format(cluster_num))\n",
        "        print('Top features:', cluster_detail['top_features'])\n",
        "        print('Title :',cluster_detail['title'][:7])\n",
        "        print('==================================================')"
      ],
      "execution_count": 139,
      "outputs": []
    },
    {
      "cell_type": "code",
      "metadata": {
        "id": "0iWS6Xg8dvbs",
        "colab_type": "code",
        "colab": {
          "base_uri": "https://localhost:8080/",
          "height": 1000
        },
        "outputId": "1ac81eab-6db6-490c-8e04-624a3ff2eb0c"
      },
      "source": [
        "feature_names = tfidf_vect.get_feature_names()\n",
        "\n",
        "cluster_details = get_cluster_details(cluster_model=km_cluster, cluster_data=topic_df,\\\n",
        "                                  feature_names=feature_names, clusters_num=clusters_num, top_n_features=10 )\n",
        "print_cluster_details(cluster_details)"
      ],
      "execution_count": 140,
      "outputs": [
        {
          "output_type": "stream",
          "text": [
            "####### Cluster 0\n",
            "Top features: ['춘천', '구름', '날씨', '서울', '지역', '오후', '비', '맑음', '등', '도']\n",
            "Title : ['춘천지역 방사능 문제해결 시민대책위 발족', '춘천 대학생 전입 장려금 온라인 신청 폐지', \"한국전쟁 첫 승전고 '춘천대첩'\", '강원도 \"춘천 부시장 자체승진 인사, 부동의 불변\"', '생활개선춘천시聯, 농산물 꾸러미사업에 손 보태', \"'녹조라떼' 된 춘천 만천천\", '춘천시, 2030년까지 사유림 1,135만㎡ 매입']\n",
            "==================================================\n",
            "####### Cluster 1\n",
            "Top features: ['대통령', '혁신', '서비스', '접목', '데이터', '빅데이터', '기업인', '플랫폼', '운영', '를']\n",
            "Title : ['문재인 정부 D+1131', '데이터·AI 접목한 혁신 서비스 설명듣는 문 대통령', '문 대통령, 데이터·AI 접목 혁신 서비스 개발자와 차담회', '마스크 벗는 문 대통령', '물 마시는 문 대통령', '생각에 잠긴 문 대통령', '발언하는 문 대통령']\n",
            "==================================================\n",
            "####### Cluster 2\n",
            "Top features: ['도', '기온', '낮', '서울', '강릉', '제주', '대전', '인천', '최고', '대구']\n",
            "Title : ['낮 기온 30도 안 넘는다…남부엔 많은 비', '전국 흐리고 남부지방에 비…낮 최고 29도', '내일 서울·경기 출근길 비…오후 충청·남부내륙 소나기', '[내일날씨] 전국 흐리고 곳곳에 비…낮 최고기온 30도', '[날씨] 제주·남부 새벽까지 비…내일 다시 맑고 낮더위', '[오늘 날씨] 흐리고 곳곳에 비…제주도 최대 200㎜ 폭우', \"[오늘날씨] 남부지방·제주도 '비'…미세먼지 '보통'\"]\n",
            "==================================================\n",
            "####### Cluster 3\n",
            "Top features: ['속초', '이용', '캐슬', '롯데', '수', '춘천지방검찰청', '지청', '하나로마트', '회관', '생활']\n",
            "Title : [\"'속초 롯데캐슬 인더스카이' 서울 홍보관 운영\", '같은 동네 다른 반응? 분양 시장, 입지 따라 청약률 갈렸다', \"'속초 롯데캐슬 인더스카이' 서울 홍보관 운영\", \"'속초 롯데캐슬 인더스카이' 서울 홍보관 운영\", '강원 속초 첫 롯데캐슬 아파트, ‘속초 롯데캐슬 인더스카이’ 6월 분양 예정', '강원 속초 첫 롯데캐슬 아파트, ‘속초 롯데캐슬 인더스카이’ 6월 분양 예정', '같은 동네 다른 반응? 분양 시장, 입지 따라 청약률 갈렸다']\n",
            "==================================================\n",
            "####### Cluster 4\n",
            "Top features: ['멜론', '인기', '일반', '작', '하니', '바로', '크기', '유통', '후숙', '생산']\n",
            "Title : ['\"이른 더위로 수박, 멜론 등 여름 과일 인기\"', '\"이른 더위로 수박, 멜론 등 여름 과일 인기\"', '\"이른 더위로 수박, 멜론 등 여름 과일 인기\"', '마켓컬리, 이른 더위로 수박, 멜론 등 여름 과일 인기', '마켓컬리, 이른 더위로 수박, 멜론 등 여름 과일 인기', '마켓컬리, 이른 더위로 수박·멜론 등 여름 과일 인기', '마켓컬리,이른 더위로 수박, 멜론 등 여름 과일 인기']\n",
            "==================================================\n",
            "####### Cluster 5\n",
            "Top features: ['대통령', '뉴딜', '데이터', '디지털', '기업', '더존', '비즈', '온', '문', '한국판']\n",
            "Title : ['文, 춘천 더존비즈온 방문 \"디지털뉴딜, 데이터댐 만들기\"', '\"디지털로 경제 선도할 것\" 文 대통령, 한국판 뉴딜 첫 현장행보로 \\'춘천행\\'', '[레이더P] 文 \"디지털 뉴딜은 데이터댐…포스트코로나 선도형 경제 기반\"', '文 대통령 \"디지털 뉴딜 핵심은 \\'데이터댐\\'\"', '文 \"디지털경제 위해 규제혁신에 속도\"', '[속보] 文 대통령 \"디지털뉴딜, 데이터 댐 만드는 것\"', '\"\\'데이터 댐\\' 만들자\" 文 한국판 뉴딜 첫 현장 행보 데이터·AI 기업 방문']\n",
            "==================================================\n",
            "####### Cluster 6\n",
            "Top features: ['제', '의회', '의원', '기분', '자동차세', '의정', '도의', '우수', '대상', '선언']\n",
            "Title : ['춘천시, 1기분 자동차세 89억원 걷는다', '춘천시, 1기분 자동차세 89억원 걷는다', '[의정소식]춘천시의회 2020년 6월 18일', '[춘천][의회 중계석] \"청년층 타지역 유출 방지 정책 개발해야\"', \"강원도 6.25전쟁 평화염원행사 '중단 요구'\", '강원도의회 전반기 일정 마쳐', '도의회 우수의정대상 시상식']\n",
            "==================================================\n",
            "####### Cluster 7\n",
            "Top features: ['아이', '브', '슈퍼', '에이', '데이터', '대표', '혁신', '분야', '가공', '수집']\n",
            "Title : ['대통령이 시연한 AI 라벨링 솔루션은?', '대통령이 시연한 AI 라벨링 솔루션은?', '‘디지털 뉴딜’ 혁신 기업에 선정된 ‘슈퍼브에이아이’', '‘디지털 뉴딜’ 혁신 기업에 선정된 ‘슈퍼브에이아이’', '슈퍼브에이아이, 디지털뉴딜 혁신기업 사례로 선정', '슈퍼브에이아이, 디지털뉴딜 혁신기업 사례로 선정', '슈퍼브에이아이, ‘디지털 뉴딜’ 혁신 기업 선정']\n",
            "==================================================\n",
            "####### Cluster 8\n",
            "Top features: ['송전탑', '이설', '송전', '선로', '이전', '주민', '한전', '고압', '중화', '적극']\n",
            "Title : ['“내 컵 왜 만져”…80대 수감자 숨지게 한 20대 징역 3년', '가평군, 늪산 송전탑 이전 촉구…\"경관 훼손·개발 걸림돌\"', '가평군, 늪산 송전탑 이전 촉구…\"경관 훼손·개발 걸림돌\"', '가평군, 늪산 송전탑 이전 촉구…\"경관 훼손·개발 걸림돌\"', '가평군, 늪산 설치된 고압 송전탑 이전 요구', '가평군, 늪산 설치된 고압 송전탑 이전 요구', '\"내 물품 왜 만져\" 80대 수감자 숨지게 한 20대…2심도 징역 3년']\n",
            "==================================================\n",
            "####### Cluster 9\n",
            "Top features: ['대학', '시험', '모의', '평가', '고등학교', '부설', '능력', '학년', '수학', '사범']\n",
            "Title : ['친구와 열공', '연습도 실전처럼', '마스크 쓴 수험생', '수능 모의평가 시작', '친구와 열공', '연습도 실전처럼', '마스크 쓴 수험생']\n",
            "==================================================\n",
            "####### Cluster 10\n",
            "Top features: ['선도', '대통령', '뉴딜', '포스트', '시대', '코로나', '문', '한국판', '의지', '데이터']\n",
            "Title : ['춘천 기업 달려가 \"데이터댐\" 외친 文···\\'한국판 뉴딜\\' 첫 행보', \"문대통령, 데이터·AI 기업 찾아 춘천行…'한국판 뉴딜' 첫 행보\", \"문 대통령 '한국판 뉴딜' 본격 시동\", \"문 대통령 '한국판 뉴딜' 본격 시동\", '문대통령 \"디지털뉴딜, 선도형 경제 기반될 것\"', '문 대통령, 빅데이터 기업 찾아 ‘디지털 뉴딜’ 강조', '문 대통령 “디지털 뉴딜, ‘데이터 댐’ 만드는 것”']\n",
            "==================================================\n",
            "####### Cluster 11\n",
            "Top features: ['문재인', '대통령', '참석', '경제', '언론', '공감', '남산면', '현장', '한국판', '디지털']\n",
            "Title : ['문재인 대통령, 한국판 뉴딜 디지털경제 현장방', '설명듣는 문재인 대통령', '[정치오늘] 홍사덕 전 국회부의장 숙환으로 별세', '발언하는 문재인 대통령', '문재인 대통령, 한국판 뉴딜 디지털경제 현장방문', '설명듣는 문재인 대통령', '설명듣는 문재인 대통령']\n",
            "==================================================\n",
            "####### Cluster 12\n",
            "Top features: ['파병', '인원', '능', '국', '근위대', '에티오피아', '지상군', '활약', '전방', '방어']\n",
            "Title : ['70년전 22개국 한자리에…허창수 회장 \"감사합니다\"(종합)', '전경련 \"대한민국은 한국전 참전 22개국이 함께 건설한 나라\"', '전경련 \"대한민국은 한국전 참전 22개국이 함께 건설한 나라\"', '허창수 회장 \"한국전쟁 70년만 韓 경제대국…다시 힘 모으자\"', '허창수 회장 \"한국전쟁 70년만 韓 경제대국…다시 힘 모으자\"', '허창수 \"韓경제, 참전 22개국 파트너십 덕…70년 전처럼 힘모으자\"', '허창수 \"韓경제, 참전 22개국 파트너십 덕…70년 전처럼 힘모으자\"']\n",
            "==================================================\n",
            "####### Cluster 13\n",
            "Top features: ['여성', '산업', '영화', '원주', '육성', '변호사', '명', '기', '위원회', '후보']\n",
            "Title : [\"[방사광가속기 청주시대] ① 미래산업 여는 '초대형 현미경'\", '갈 곳 없는 영화촬영장…공공 촬영장은 지연', '권순일 대법관 후임 65명 천거돼 30명 심사동의…여성은 3명', \"여성 아나운서 정규직 전환, 인권위 '가능' MBC '불가'\", '권순일 후임 대법관 예비후보 30명 공개…여성 3명', '[여기는 원주] 강원 첨단산업 육성 본격 기대 외', \"[방사광가속기 청주시대] ① 미래산업 여는 '초대형 현미경'\"]\n",
            "==================================================\n",
            "####### Cluster 14\n",
            "Top features: ['대통령', '더존', '문재인', '비즈', '온', '방문', '뉴딜', '디지털', '강원도', '위치']\n",
            "Title : [\"문재인 대통령, 춘천 IT기업 방문 '한국판 뉴딜' 점검\", '文대통령, 30일 한-EU 정상회담 개최..전략적 동반자 10년(상보)', '文대통령 디지털뉴딜 첫 방문지, 더존비즈온은 어떤 회사?', '직원들 격려하는 문 대통령', '文대통령 ‘디지털 뉴딜’ 현장 행보…北도발 여파에 지지율 급락(종합)', '디지털 뉴딜 관련 브리핑 듣는 문 대통령', '文대통령 디지털뉴딜 첫 방문지, 더존비즈온은 어떤 회사?']\n",
            "==================================================\n"
          ],
          "name": "stdout"
        }
      ]
    },
    {
      "cell_type": "code",
      "metadata": {
        "id": "XwuoFj4id9FL",
        "colab_type": "code",
        "colab": {}
      },
      "source": [
        "# 토큰화 된 문장 리스트를 단어별로 split한 후 2차원 리스트로 저장\n",
        "WordVoca_list = []\n",
        "for item in TitDesc_okt:\n",
        "    WordVoca_list.append(item.split(' '))\n",
        "\n",
        "# split된 2차원 리스트 중에서 한 글자짜리 단어들을 모두 제외시키고 WordVoca 리스트 생성\n",
        "# Word2Vec 모델 학습 데이터로 활용됨\n",
        "WordVoca = []\n",
        "for i in range(len(WordVoca_list)):\n",
        "    element = []\n",
        "    for j in range(len(WordVoca_list[i])):\n",
        "        if len(WordVoca_list[i][j]) > 1:\n",
        "            element.append(WordVoca_list[i][j])\n",
        "    WordVoca.append(element)"
      ],
      "execution_count": 141,
      "outputs": []
    },
    {
      "cell_type": "code",
      "metadata": {
        "id": "r7LCSz5jd-uL",
        "colab_type": "code",
        "colab": {}
      },
      "source": [
        "def WordSimilarity(word, count):\n",
        "    model = Word2Vec(sentences=WordVoca, size=100, window=5, min_count=5, workers=4, sg=1)\n",
        "    model_result = model.most_similar(positive=[word], topn=count)\n",
        "\n",
        "    Similarity_df = pd.DataFrame(model_result, columns=[word,'Similarity'])\n",
        "    print('{0}과 유사한 단어 Top {1} :'.format(word, count))\n",
        "    print(Similarity_df)"
      ],
      "execution_count": 142,
      "outputs": []
    },
    {
      "cell_type": "code",
      "metadata": {
        "id": "m70RGBxleAJz",
        "colab_type": "code",
        "colab": {
          "base_uri": "https://localhost:8080/",
          "height": 233
        },
        "outputId": "a51434f4-4060-4764-8d24-89dc48a970f4"
      },
      "source": [
        "WordSimilarity('더존', 10)"
      ],
      "execution_count": 143,
      "outputs": [
        {
          "output_type": "stream",
          "text": [
            "더존과 유사한 단어 Top 10 :\n",
            "     더존  Similarity\n",
            "0    비즈    0.999281\n",
            "1   데이터    0.997801\n",
            "2    방문    0.997706\n",
            "3   개발자    0.997413\n",
            "4   문재인    0.997075\n",
            "5   대통령    0.996784\n",
            "6  과학기술    0.995103\n",
            "7    소재    0.993652\n",
            "8    격려    0.993630\n",
            "9    관련    0.992437\n"
          ],
          "name": "stdout"
        }
      ]
    },
    {
      "cell_type": "code",
      "metadata": {
        "id": "peUk39uqgOYP",
        "colab_type": "code",
        "colab": {}
      },
      "source": [
        ""
      ],
      "execution_count": 143,
      "outputs": []
    },
    {
      "cell_type": "markdown",
      "metadata": {
        "id": "euEvE4l9HzjT",
        "colab_type": "text"
      },
      "source": [
        "## Topic Modeling"
      ]
    },
    {
      "cell_type": "code",
      "metadata": {
        "id": "jpOsUP5sHz4d",
        "colab_type": "code",
        "colab": {}
      },
      "source": [
        "from sklearn.decomposition import LatentDirichletAllocation\n",
        "cnt_vect = CountVectorizer(tokenizer=LemNormalize,)"
      ],
      "execution_count": 159,
      "outputs": []
    },
    {
      "cell_type": "code",
      "metadata": {
        "id": "t3wRicZkH36N",
        "colab_type": "code",
        "colab": {}
      },
      "source": [
        "dtm = tfidf_vect.fit_transform(topic_df['TokenizedTitDesc'])"
      ],
      "execution_count": 207,
      "outputs": []
    },
    {
      "cell_type": "code",
      "metadata": {
        "id": "KnwCZoaiJLYm",
        "colab_type": "code",
        "colab": {
          "base_uri": "https://localhost:8080/",
          "height": 161
        },
        "outputId": "cf0d7e19-8ee3-46cb-a647-7c77e0890034"
      },
      "source": [
        "n_topics = 10\n",
        "\n",
        "lda = LatentDirichletAllocation(n_components=n_topics)\n",
        "lda.fit(dtm)"
      ],
      "execution_count": 216,
      "outputs": [
        {
          "output_type": "execute_result",
          "data": {
            "text/plain": [
              "LatentDirichletAllocation(batch_size=128, doc_topic_prior=None,\n",
              "                          evaluate_every=-1, learning_decay=0.7,\n",
              "                          learning_method='batch', learning_offset=10.0,\n",
              "                          max_doc_update_iter=100, max_iter=10,\n",
              "                          mean_change_tol=0.001, n_components=10, n_jobs=None,\n",
              "                          perp_tol=0.1, random_state=None,\n",
              "                          topic_word_prior=None, total_samples=1000000.0,\n",
              "                          verbose=0)"
            ]
          },
          "metadata": {
            "tags": []
          },
          "execution_count": 216
        }
      ]
    },
    {
      "cell_type": "code",
      "metadata": {
        "id": "A98UV8ytPlsB",
        "colab_type": "code",
        "colab": {
          "base_uri": "https://localhost:8080/",
          "height": 577
        },
        "outputId": "ad6a02d7-8617-4a32-cf24-314b30ce3234"
      },
      "source": [
        "names = tfidf_vect.get_feature_names()\n",
        "topics = dict()\n",
        "\n",
        "for idx, topic in enumerate(lda.components_):\n",
        "    vocab = []\n",
        "    for i in topic.argsort()[:-(30-1):-1]:\n",
        "        vocab.append((names[i], topic[i].round(2)))\n",
        "    print('주제 : {0}'.format(idx+1))\n",
        "    print([(names[i], topic[i].round(2)) for i in topic.argsort()[:-(30-1):-1]])"
      ],
      "execution_count": 206,
      "outputs": [
        {
          "output_type": "stream",
          "text": [
            "주제 : 1\n",
            "[('농협', 1.99), ('강원', 1.79), ('농민', 1.72), ('종전', 1.6), ('선언', 1.6), ('활용', 1.49), ('지역', 1.36), ('총회', 1.13), ('중단', 1.1), ('정기', 1.09), ('북한', 1.05), ('의원', 1.04), ('상', 1.03), ('레저', 1.02), ('카드', 1.01), ('이', 1.01), ('한기호', 1.01), ('별세', 1.0), ('창업', 0.99), ('기념', 0.97), ('접근성', 0.96), ('집', 0.96), ('성명', 0.95), ('수상', 0.91), ('춘천', 0.9), ('고려', 0.9), ('연락', 0.88), ('사무소', 0.88)]\n",
            "주제 : 2\n",
            "[('대통령', 57.58), ('뉴딜', 36.6), ('문재인', 35.7), ('더존', 34.26), ('비즈', 32.64), ('온', 32.58), ('데이터', 31.94), ('방문', 31.8), ('디지털', 27.72), ('문', 25.3), ('한국판', 23.95), ('강원도', 22.95), ('현장', 21.81), ('위치', 20.06), ('기업', 18.91), ('캠퍼스', 18.72), ('강촌', 18.62), ('경제', 17.66), ('빅데이터', 17.36), ('플랫폼', 16.75), ('서비스', 16.62), ('혁신', 16.58), ('기업인', 16.49), ('운영', 15.79), ('설명', 15.17), ('접목', 14.47), ('춘천', 14.18), ('첫', 14.02)]\n",
            "주제 : 3\n",
            "[('우수', 2.69), ('제', 2.4), ('대상', 2.37), ('의정', 2.37), ('변호사', 2.3), ('도의', 1.84), ('기', 1.79), ('명', 1.7), ('호', 1.49), ('평창', 1.4), ('수상자', 1.38), ('삼척', 1.34), ('강릉', 1.28), ('양구', 1.27), ('선정', 1.27), ('비례', 1.24), ('윤지영', 1.24), ('균', 1.24), ('김준섭', 1.24), ('윤석', 1.24), ('훈', 1.24), ('김상용', 1.24), ('김규', 1.24), ('정수진', 1.24), ('회', 1.2), ('박', 1.18), ('의원', 1.11), ('여성', 1.03)]\n",
            "주제 : 4\n",
            "[('멜론', 12.54), ('인기', 4.6), ('일반', 2.98), ('후숙', 2.84), ('크기', 2.84), ('바로', 2.84), ('유통', 2.84), ('하니', 2.84), ('작', 2.84), ('생산', 2.81), ('오직', 2.72), ('기간', 2.65), ('곳', 2.64), ('그', 2.61), ('과일', 2.6), ('여름', 2.6), ('공원', 2.43), ('사업', 2.38), ('머스크', 2.35), ('외', 2.34), ('유적', 2.32), ('수박', 2.31), ('컬리', 2.24), ('마켓', 2.24), ('수', 2.23), ('일정', 2.18), ('도', 2.15), ('레고랜드', 2.12)]\n",
            "주제 : 5\n",
            "[('육성', 2.4), ('발표', 2.24), ('시연', 2.07), ('산업', 1.99), ('원주', 1.96), ('위해', 1.88), ('참관', 1.85), ('부동산', 1.82), ('뒤', 1.56), ('대화', 1.54), ('기획재정부', 1.37), ('겸', 1.37), ('극복', 1.36), ('리포트', 1.23), ('강탁균', 1.23), ('약속', 1.23), ('국난', 1.23), ('헬', 1.23), ('스케', 1.23), ('첨단', 1.23), ('기대', 1.18), ('정책', 1.16), ('기자', 1.14), ('민주당', 1.09), ('본격', 1.03), ('위원회', 1.03), ('지도', 1.0), ('점검', 0.98)]\n",
            "주제 : 6\n",
            "[('앞서', 1.56), ('대학생', 0.74), ('일정', 0.64), ('청년', 0.63), ('성공', 0.62), ('실전', 0.59), ('연습', 0.59), ('기부', 0.56), ('고', 0.55), ('또래', 0.48), ('학생회장', 0.48), ('응원', 0.48), ('수고', 0.48), ('춘천교육대', 0.48), ('건국대', 0.48), ('이수빈', 0.48), ('시위', 0.48), ('강지영', 0.48), ('주시', 0.48), ('자녀', 0.48), ('브리핑', 0.48), ('기대', 0.47), ('걸', 0.46), ('음료수', 0.46), ('실버', 0.45), ('리코더', 0.45), ('중간', 0.45), ('나선', 0.43)]\n",
            "주제 : 7\n",
            "[('슈퍼', 7.16), ('브', 7.16), ('대표', 5.51), ('아이', 4.85), ('김현수', 4.13), ('에이', 3.86), ('수집', 3.58), ('가공', 3.48), ('데이터', 3.06), ('분야', 2.31), ('혁신', 2.1), ('자사', 2.02), ('기회', 2.0), ('일자리', 1.77), ('진행', 1.75), ('디지털', 1.66), ('오른쪽', 1.61), ('선정', 1.52), ('가운데', 1.5), ('뉴딜', 1.41), ('러닝', 1.4), ('머신', 1.4), ('경제', 1.24), ('기업', 1.2), ('한국판', 1.18), ('서비스', 1.17), ('라벨', 1.09), ('링', 1.09)]\n",
            "주제 : 8\n",
            "[('김용우', 1.8), ('시동', 1.64), ('대표', 1.6), ('회사', 1.5), ('회계', 1.31), ('의원', 1.23), ('급락', 1.13), ('본격', 1.12), ('축', 1.11), ('가운데', 1.1), ('대남', 1.09), ('적대', 1.09), ('연일', 1.09), ('윤재관', 1.09), ('공세', 1.09), ('신용', 1.09), ('소프트웨어', 1.07), ('강화', 1.06), ('사업', 1.03), ('자신', 1.01), ('토목', 0.98), ('활성화', 0.95), ('강조', 0.92), ('과', 0.91), ('개선', 0.89), ('사회', 0.88), ('핀', 0.86), ('테크', 0.86)]\n",
            "주제 : 9\n",
            "[('속초', 12.19), ('이용', 3.18), ('캐슬', 2.97), ('롯데', 2.83), ('페이지', 2.79), ('캠프', 2.79), ('수', 2.76), ('시청', 2.65), ('회관', 2.45), ('지청', 2.35), ('춘천지방검찰청', 2.35), ('하나로마트', 2.35), ('방사', 2.33), ('문화', 2.33), ('생활', 2.28), ('등', 2.28), ('중앙시장', 2.19), ('관광', 2.19), ('수산시장', 2.19), ('설악로', 2.19), ('오거리', 2.19), ('데', 2.12), ('과', 2.03), ('수력', 1.99), ('예술', 1.95), ('단지', 1.87), ('능', 1.83), ('인프라', 1.65)]\n",
            "주제 : 10\n",
            "[('도', 78.27), ('기온', 12.34), ('서울', 10.94), ('강릉', 10.56), ('제주', 9.5), ('비', 9.42), ('낮', 9.4), ('날씨', 9.36), ('인천', 9.13), ('대전', 8.3), ('최고', 8.09), ('춘천', 7.93), ('대구', 7.51), ('광주', 7.48), ('전주', 6.91), ('구름', 6.84), ('부산', 6.54), ('전국', 6.5), ('수원', 6.0), ('오늘', 5.91), ('청주', 5.81), ('남부', 5.53), ('내일', 5.44), ('아침', 4.83), ('최저', 4.39), ('제주도', 4.21), ('오후', 4.1), ('지방', 3.95)]\n",
            "주제 : 11\n",
            "[('맑음', 4.12), ('마스크', 3.01), ('물', 2.84), ('이동', 1.79), ('과제', 1.55), ('우선', 1.52), ('확률', 1.42), ('강수', 1.34), ('이번', 1.34), ('위해', 1.19), ('미래', 0.88), ('대비', 0.87), ('이용도', 0.86), ('입지', 0.86), ('북한', 0.83), ('편의', 0.81), ('시설', 0.78), ('활성화', 0.77), ('수험생', 0.75), ('청약', 0.73), ('듣기', 0.73), ('시외버스', 0.72), ('터미널', 0.72), ('국회의원', 0.71), ('정의', 0.67), ('방향', 0.67), ('협박', 0.67), ('부터', 0.67)]\n",
            "주제 : 12\n",
            "[('부', 4.45), ('재판', 3.75), ('씨', 3.55), ('징역', 3.23), ('수감자', 2.97), ('영화', 2.84), ('폭행', 2.84), ('혐의', 2.83), ('형사', 2.62), ('고법', 2.6), ('기소', 2.48), ('선고', 2.44), ('박재우', 2.37), ('치사', 2.28), ('기각', 2.24), ('항소', 2.24), ('원심', 2.16), ('판사', 1.85), ('부장', 1.83), ('작업', 1.69), ('형량', 1.56), ('춘천', 1.52), ('서울', 1.51), ('내', 1.51), ('촬영장', 1.46), ('지난해', 1.45), ('왜', 1.44), ('서해안', 1.4)]\n",
            "주제 : 13\n",
            "[('파병', 5.78), ('대학', 4.23), ('인원', 3.28), ('시험', 3.01), ('모의', 2.7), ('평가', 2.64), ('국', 2.47), ('고등학교', 2.32), ('전투', 2.26), ('방어', 2.17), ('지상군', 2.17), ('전방', 2.17), ('황실', 2.17), ('근위대', 2.17), ('활약', 2.17), ('에티오피아', 2.17), ('아프리카', 2.17), ('사범', 2.15), ('소나기', 2.14), ('부설', 2.06), ('수학', 2.06), ('학년', 2.06), ('능력', 2.06), ('강원대학교', 2.0), ('고', 1.97), ('학생', 1.94), ('최', 1.91), ('도선', 1.9)]\n",
            "주제 : 14\n",
            "[('송전탑', 5.53), ('이설', 5.47), ('송전', 4.13), ('선로', 4.13), ('이전', 3.66), ('주민', 3.51), ('한전', 3.5), ('고압', 3.29), ('동의', 3.16), ('검토', 3.16), ('중화', 3.15), ('적극', 3.15), ('한수원', 3.06), ('강', 2.99), ('건너편', 2.94), ('및', 2.78), ('하리', 2.78), ('반드시', 2.72), ('군수', 2.66), ('방', 2.64), ('고', 2.57), ('북한', 2.57), ('만큼', 2.5), ('가평', 2.19), ('가평군', 2.04), ('가평읍', 1.92), ('남산면', 1.91), ('늪산', 1.8)]\n",
            "주제 : 15\n",
            "[('금', 1.2), ('장려', 1.2), ('전입', 1.2), ('대학생', 1.15), ('확대', 1.1), ('코로나', 1.06), ('증가', 1.05), ('상승', 1.01), ('배달', 1.01), ('앱', 0.97), ('일원화', 0.92), ('이익', 0.9), ('날개', 0.9), ('수혜', 0.9), ('원격', 0.9), ('영업', 0.9), ('각', 0.9), ('책자', 0.9), ('발간', 0.9), ('증권', 0.9), ('재택근무', 0.88), ('바이오', 0.86), ('매출', 0.86), ('여파', 0.84), ('접수', 0.82), ('최근', 0.76), ('자연', 0.76), ('밤나무', 0.76)]\n"
          ],
          "name": "stdout"
        }
      ]
    },
    {
      "cell_type": "code",
      "metadata": {
        "id": "2SeohHf-QZX3",
        "colab_type": "code",
        "colab": {
          "base_uri": "https://localhost:8080/",
          "height": 937
        },
        "outputId": "9f86c26d-b8f1-4a45-b250-0868a550fb57"
      },
      "source": [
        "feature_vect_cnt = cnt_vect.fit_transform(topic_df['TokenizedTitDesc'])\n",
        "lda2 = LatentDirichletAllocation(n_components=n_topics, topic_word_prior=0.01, doc_topic_prior=0.001)\n",
        "lda2.fit(dtm)\n",
        "\n",
        "names = cnt_vect.get_feature_names()\n",
        "topics_word = dict()\n",
        "n_words = 20\n",
        "\n",
        "for idx, topic in enumerate(lda2.components_):\n",
        "    vocab = []\n",
        "    for i in topic.argsort()[:-(30-1):-1]:\n",
        "        vocab.append((names[i], topic[i].round(2)))\n",
        "    topics_word[idx+1] = [(names[i], topic[i].round(2)) for i in topic.argsort()[:-(n_words-1):-1]]\n",
        "max_dict = dict()\n",
        "\n",
        "for idx, vec in enumerate(lda2.transform(dtm)):\n",
        "    t = vec.argmax()\n",
        "    if (t not in max_dict):\n",
        "        max_dict[t] = (vec[t], idx)\n",
        "    else:\n",
        "        if (max_dict[t][0] < vec[t]):\n",
        "            max_dict[t] = (vec[t], idx)\n",
        "sorted_news = sorted(max_dict.items(), key = lambda x: x[0], reverse=False)\n",
        "\n",
        "for key, value in sorted_news:\n",
        "    print('주제 {0}: {1}]'.format(key+1, topics_word[key+1]))\n",
        "    print('[주제 {}의 대표 기사 : {}]\\n{}\\n\\n'.format(key+1, value[0], topic_df['title'][value[1]]))"
      ],
      "execution_count": 232,
      "outputs": [
        {
          "output_type": "stream",
          "text": [
            "주제 1: [('명', 2.38), ('전', 2.28), ('검사', 2.28), ('여성', 2.28), ('유적', 2.27), ('변호사', 2.25), ('방사', 2.25), ('공원', 2.22), ('레고랜드', 2.07), ('캠프', 1.81), ('페이지', 1.81), ('능', 1.77), ('기', 1.73), ('후보', 1.73), ('의원', 1.7), ('사업', 1.66), ('작업', 1.63), ('대법관', 1.6)]]\n",
            "[주제 1의 대표 기사 : 0.9983747475933837]\n",
            "대법관 후보 30명 발표.. '文 검찰개혁' 설계한 김인회 교수 포함\n",
            "\n",
            "\n",
            "주제 2: [('대통령', 11.6), ('혁신', 10.81), ('서비스', 10.62), ('접목', 10.61), ('회', 10.39), ('직원', 9.41), ('빅데이터', 8.97), ('기업인', 8.83), ('를', 8.82), ('운영', 8.76), ('플랫폼', 8.67), ('개발', 8.49), ('데이터', 8.41), ('위치', 7.41), ('문재인', 7.33), ('강원도', 6.87), ('비즈', 6.38), ('온', 6.36)]]\n",
            "[주제 2의 대표 기사 : 0.9984335994560911]\n",
            "[더벨][두산그룹 구조조정]두산건설 물적분할에 등장한 '두산큐벡스' 역할은\n",
            "\n",
            "\n",
            "주제 3: [('부', 4.65), ('씨', 3.98), ('재판', 3.64), ('징역', 3.17), ('수감자', 2.91), ('폭행', 2.78), ('혐의', 2.65), ('고법', 2.54), ('형사', 2.48), ('기분', 2.48), ('자동차세', 2.48), ('선고', 2.38), ('기소', 2.35), ('박재우', 2.31), ('치사', 2.22), ('제', 2.18), ('기각', 2.18), ('항소', 2.18)]]\n",
            "[주제 3의 대표 기사 : 0.9983558489530304]\n",
            "전직 광주MBC 사장이 왜 검찰 체포까지\n",
            "\n",
            "\n",
            "주제 4: [('멜론', 12.49), ('파병', 5.73), ('인기', 4.41), ('인원', 3.22), ('일반', 2.92), ('생산', 2.87), ('크기', 2.78), ('바로', 2.78), ('하니', 2.78), ('유통', 2.78), ('후숙', 2.78), ('작', 2.78), ('오직', 2.66), ('기간', 2.6), ('과일', 2.54), ('여름', 2.54), ('사인', 2.5), ('국', 2.41)]]\n",
            "[주제 4의 대표 기사 : 0.9983877168525359]\n",
            "[김해시] 허성곤 시장, 국가안전대진단 현장점검 外\n",
            "\n",
            "\n",
            "주제 5: [('송전탑', 5.48), ('이설', 5.42), ('송전', 4.07), ('선로', 4.07), ('맑음', 4.06), ('한전', 3.74), ('이전', 3.61), ('주민', 3.45), ('고압', 3.23), ('검토', 3.1), ('동의', 3.1), ('중화', 3.09), ('적극', 3.09), ('한수원', 3.0), ('강', 2.93), ('건너편', 2.88), ('지역', 2.86), ('구름', 2.84)]]\n",
            "[주제 5의 대표 기사 : 0.9984616658871716]\n",
            "김성기 가평군수, 고압 송전로 \"수십년 째 지역발전 저해..주민 건강 위협\" 이전 촉구\n",
            "\n",
            "\n",
            "주제 6: [('산업', 3.71), ('영화', 2.79), ('춘천', 2.58), ('우수', 2.52), ('육성', 2.35), ('대상', 2.31), ('의정', 2.31), ('원주', 2.02), ('수력', 1.93), ('제', 1.83), ('코로나', 1.66), ('의원', 1.56), ('개', 1.46), ('등', 1.43), ('강원', 1.42), ('촬영장', 1.4), ('기자', 1.36), ('위해', 1.36)]]\n",
            "[주제 6의 대표 기사 : 0.9984429696484844]\n",
            "[방사광가속기 청주시대] ① 미래산업 여는 '초대형 현미경'\n",
            "\n",
            "\n",
            "주제 7: [('맞춤', 1.74), ('부동산', 1.45), ('지도', 1.33), ('한국', 1.3), ('미국', 1.22), ('후버댐', 1.18), ('점검', 1.17), ('개최', 1.05), ('노인', 1.02), ('회원', 0.97), ('배달', 0.95), ('코로나', 0.92), ('토목', 0.92), ('앱', 0.91), ('교역', 0.91), ('서비스', 0.86), ('라며', 0.84), ('정부', 0.83)]]\n",
            "[주제 7의 대표 기사 : 0.9983131198216282]\n",
            "강원도 6.25전쟁 평화염원행사 '중단 요구'\n",
            "\n",
            "\n",
            "주제 8: [('도', 78.1), ('기온', 12.38), ('서울', 11.79), ('속초', 11.66), ('강릉', 10.43), ('제주', 9.45), ('낮', 9.25), ('인천', 9.0), ('날씨', 8.96), ('비', 8.71), ('대전', 8.09), ('최고', 8.04), ('대구', 7.45), ('광주', 7.23), ('춘천', 6.86), ('전주', 6.86), ('부산', 6.48), ('전국', 6.26)]]\n",
            "[주제 8의 대표 기사 : 0.9982466474424007]\n",
            "기상청 발표 오늘의 날씨, 내일 날씨, 일출 시간-전국 흐린 가운데 남부지방과 제주도 중심 비…내일 오후 충청내륙, 강원영동 등 소나기, 독도 일출 시간 04시 52분\n",
            "\n",
            "\n",
            "주제 9: [('대통령', 46.09), ('뉴딜', 37.47), ('디지털', 28.93), ('문재인', 28.33), ('더존', 27.3), ('데이터', 26.48), ('방문', 26.13), ('온', 25.66), ('비즈', 25.65), ('한국판', 25.01), ('현장', 22.02), ('문', 19.15), ('경제', 18.68), ('캠퍼스', 18.6), ('기업', 18.49), ('강촌', 18.49), ('강원도', 16.36), ('첫', 13.76)]]\n",
            "[주제 9의 대표 기사 : 0.9983769196132032]\n",
            "문대통령 \"한국판 디지털 뉴딜, 선도형 경제 기반될 것\"\n",
            "\n",
            "\n",
            "주제 10: [('구름', 3.95), ('도의', 1.78), ('철도', 1.76), ('현재', 1.74), ('코리아', 1.53), ('업', 1.53), ('춘천', 1.49), ('고속', 1.45), ('새벽', 1.35), ('경남', 1.22), ('시장', 1.17), ('속초', 1.14), ('일출', 1.1), ('회', 1.06), ('시간', 1.03), ('분양', 1.0), ('가끔', 0.96), ('전남', 0.94)]]\n",
            "[주제 10의 대표 기사 : 0.998339534250847]\n",
            "[삶과 문화] 에덴, 이상과 상실의 공간\n",
            "\n",
            "\n"
          ],
          "name": "stdout"
        }
      ]
    },
    {
      "cell_type": "code",
      "metadata": {
        "id": "2_L8PfZYTHg5",
        "colab_type": "code",
        "colab": {
          "base_uri": "https://localhost:8080/",
          "height": 226
        },
        "outputId": "0cacb91e-afee-45db-ea99-5e0ba8e1cca0"
      },
      "source": [
        "names = cnt_vect.get_feature_names()\n",
        "topics_word = dict()\n",
        "n_words = 15\n",
        "\n",
        "for idx, topic in enumerate(lda.components_):\n",
        "    vocab = []\n",
        "    for i in topic.argsort()[:-(30-1):-1]:\n",
        "        vocab.append((names[i], topic[i].round(2)))\n",
        "    topics_word[idx+1] = [(names[i], topic[i].round(2)) for i in topic.argsort()[:-(n_words-1):-1]]\n",
        "max_dict = dict()\n",
        "\n",
        "for idx, vec in enumerate(lda.transform(dtm)):\n",
        "    t = vec.argmax()\n",
        "    if (t not in max_dict):\n",
        "        max_dict[t] = (vec[t], idx)\n",
        "    else:\n",
        "        if (max_dict[t][0] < vec[t]):\n",
        "            max_dict[t] = (vec[t], idx)\n",
        "sorted_news = sorted(max_dict.items(), key = lambda x: x[0], reverse=False)\n",
        "\n",
        "for key, value in sorted_news:\n",
        "    print('주제 {0}: {1}]'.format(key+1, topics_word[key+1]))\n",
        "    print('[주제 {}의 대표 기사 : {}]\\n{}\\n\\n'.format(key+1, value[0], topic_df['title'][value[1]]]))"
      ],
      "execution_count": 184,
      "outputs": [
        {
          "output_type": "stream",
          "text": [
            "주제 1: [('농협', 1.99), ('강원', 1.79), ('농민', 1.72), ('종전', 1.6), ('선언', 1.6), ('활용', 1.49), ('지역', 1.36), ('총회', 1.13), ('중단', 1.1), ('정기', 1.09), ('북한', 1.05), ('의원', 1.04), ('상', 1.03)]]\n"
          ],
          "name": "stdout"
        },
        {
          "output_type": "error",
          "ename": "IndexError",
          "evalue": "ignored",
          "traceback": [
            "\u001b[0;31m---------------------------------------------------------------------------\u001b[0m",
            "\u001b[0;31mIndexError\u001b[0m                                Traceback (most recent call last)",
            "\u001b[0;32m<ipython-input-184-b302e1cef45d>\u001b[0m in \u001b[0;36m<module>\u001b[0;34m()\u001b[0m\n\u001b[1;32m     21\u001b[0m \u001b[0;32mfor\u001b[0m \u001b[0mkey\u001b[0m\u001b[0;34m,\u001b[0m \u001b[0mvalue\u001b[0m \u001b[0;32min\u001b[0m \u001b[0msorted_news\u001b[0m\u001b[0;34m:\u001b[0m\u001b[0;34m\u001b[0m\u001b[0;34m\u001b[0m\u001b[0m\n\u001b[1;32m     22\u001b[0m     \u001b[0mprint\u001b[0m\u001b[0;34m(\u001b[0m\u001b[0;34m'주제 {0}: {1}]'\u001b[0m\u001b[0;34m.\u001b[0m\u001b[0mformat\u001b[0m\u001b[0;34m(\u001b[0m\u001b[0mkey\u001b[0m\u001b[0;34m+\u001b[0m\u001b[0;36m1\u001b[0m\u001b[0;34m,\u001b[0m \u001b[0mtopics_word\u001b[0m\u001b[0;34m[\u001b[0m\u001b[0mkey\u001b[0m\u001b[0;34m+\u001b[0m\u001b[0;36m1\u001b[0m\u001b[0;34m]\u001b[0m\u001b[0;34m)\u001b[0m\u001b[0;34m)\u001b[0m\u001b[0;34m\u001b[0m\u001b[0;34m\u001b[0m\u001b[0m\n\u001b[0;32m---> 23\u001b[0;31m     \u001b[0mprint\u001b[0m\u001b[0;34m(\u001b[0m\u001b[0;34m'[주제 {}의 대표 기사 : {}]\\n{}\\n\\n'\u001b[0m\u001b[0;34m.\u001b[0m\u001b[0mformat\u001b[0m\u001b[0;34m(\u001b[0m\u001b[0mkey\u001b[0m\u001b[0;34m+\u001b[0m\u001b[0;36m1\u001b[0m\u001b[0;34m,\u001b[0m \u001b[0mvalue\u001b[0m\u001b[0;34m[\u001b[0m\u001b[0;36m0\u001b[0m\u001b[0;34m]\u001b[0m\u001b[0;34m,\u001b[0m \u001b[0mtopic_df\u001b[0m\u001b[0;34m[\u001b[0m\u001b[0;34m'title'\u001b[0m\u001b[0;34m]\u001b[0m\u001b[0;34m[\u001b[0m\u001b[0mvalue\u001b[0m\u001b[0;34m[\u001b[0m\u001b[0;36m1\u001b[0m\u001b[0;34m]\u001b[0m\u001b[0;34m:\u001b[0m\u001b[0mvalue\u001b[0m\u001b[0;34m[\u001b[0m\u001b[0;36m3\u001b[0m\u001b[0;34m]\u001b[0m\u001b[0;34m]\u001b[0m\u001b[0;34m)\u001b[0m\u001b[0;34m)\u001b[0m\u001b[0;34m\u001b[0m\u001b[0;34m\u001b[0m\u001b[0m\n\u001b[0m",
            "\u001b[0;31mIndexError\u001b[0m: tuple index out of range"
          ]
        }
      ]
    },
    {
      "cell_type": "code",
      "metadata": {
        "id": "2R4G1y6zUo38",
        "colab_type": "code",
        "colab": {
          "base_uri": "https://localhost:8080/",
          "height": 233
        },
        "outputId": "e963bb6d-d16e-4fa0-893b-e1218c41afd2"
      },
      "source": [
        "topic_df['TitDesc']"
      ],
      "execution_count": 221,
      "outputs": [
        {
          "output_type": "execute_result",
          "data": {
            "text/plain": [
              "0                                                                               춘천지역 방사능 문제해결 시민대책위 발족\n",
              "1                                                                              춘천 대학생 전입 장려금 온라인 신청 폐지\n",
              "2                                                                춘천 기업 달려가 \"데이터댐\" 외친 文···'한국판 뉴딜' 첫 행보\n",
              "3                                                                                    한국전쟁 첫 승전고 '춘천대첩'\n",
              "4                                                                         강원도 \"춘천 부시장 자체승진 인사, 부동의 불변\"\n",
              "                                                    ...                                               \n",
              "703                                                               文대통령 \"디지털 뉴딜은 데이터 활용한 ‘데이터 댐’ 만드는 것\"\n",
              "704                                                               오늘 6월 모의수능평가 실시 '12월 3일 치뤄질 수능 준비 격'\n",
              "705                                                                서울르엘캐슬 갤러리 홍보관 운영나선 '속초 롯데캐슬 인더스카이'\n",
              "706    기상청 발표 오늘의 날씨, 내일 날씨, 일출 시간-전국 흐린 가운데 전라도, 경상남북도, 제주도 비, 오늘 밤 대부분 그쳐, 내륙 안개 주의…독도 일출 시간 04시 52분\n",
              "707      기상청 발표 오늘의 날씨, 내일 날씨, 일출 시간-전국 흐린 가운데 남부지방과 제주도 중심 비…내일 오후 충청내륙, 강원영동 등 소나기, 독도 일출 시간 04시 52분\n",
              "Name: TitDesc, Length: 708, dtype: object"
            ]
          },
          "metadata": {
            "tags": []
          },
          "execution_count": 221
        }
      ]
    },
    {
      "cell_type": "code",
      "metadata": {
        "id": "0i5bIrfIYt6c",
        "colab_type": "code",
        "colab": {}
      },
      "source": [
        ""
      ],
      "execution_count": null,
      "outputs": []
    }
  ]
}