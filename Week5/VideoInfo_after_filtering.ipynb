{
 "cells": [
  {
   "cell_type": "code",
   "execution_count": 2,
   "metadata": {
    "collapsed": true,
    "pycharm": {
     "name": "#%%\n"
    }
   },
   "outputs": [
    {
     "name": "stdout",
     "output_type": "stream",
     "text": [
      "20\n"
     ]
    },
    {
     "data": {
      "text/plain": "                  채널        조회수               시간  \\\n0            키미 Kimi  조회수 6.5만회             1일 전   \n1    마리라이프 Mari Life    조회수 2만회           20시간 전   \n2              솔바위농원  조회수 1.9만회           19시간 전   \n3      에그박사 Egg&Bugs  조회수 1.7만회             1일 전   \n4            MBCNEWS    조회수 1만회           11시간 전   \n5               창기TV    조회수 9천회  스트리밍 시간: 17시간 전   \n6    라온살림Laon_salrim  조회수 8.9천회            9시간 전   \n7              손바닥농장  조회수 7.8천회             1일 전   \n8               황도이장  조회수 6.7천회            6시간 전   \n9         Green ssum  조회수 5.6천회           23시간 전   \n10   연합뉴스 Yonhapnews  조회수 5.2천회             1일 전   \n11  내집마련연구소1800-9016  조회수 4.4천회           21시간 전   \n12          YTN NEWS    조회수 4천회           10시간 전   \n13            둥글이 놀자  조회수 3.8천회           22시간 전   \n14          YTN NEWS  조회수 3.7천회           11시간 전   \n15          YTN NEWS  조회수 3.5천회           12시간 전   \n16            귀농7년차.    조회수 3천회            7시간 전   \n17             성호육묘장  조회수 2.3천회           18시간 전   \n18            예오니 TV  조회수 2.1천회           21시간 전   \n19    뷔브독 bwibeu_dog  조회수 1.6천회           22시간 전   \n\n                                                   제목  \n0                         나의 여름 이야기, 그 두번째 : 여름장마와 함께  \n1          장마 때 캠핑하면 생기는 일! 술기오른 우중캠핑... | 카라반캠핑 | 대구  \n2              장마철 고추 추비 주는 만큼 다수확이 가능하다 추비 주는법 추비 종류  \n3                           역대급 장마가 만들어낸 '도심연못' 생물탐사!  \n4    코로나 이어 장마 직격탄…\"문 닫는 게 낫다\" (2020.08.13/뉴스투데이/MBC)  \n5                              장마끝~~마음 이라도 맑은날 되시길~~~  \n6   [Vlog]긴 장마에 지치지만,오늘도 정돈 된 나의 일상/집콕생활/살림일기/살림브이...  \n7   장마 후 농작물 관리. 이제 장마가 끝나면 농작물마다 이런 처리가 필요합니다.(장마...  \n8                장마와 태풍으로 자발적 고립 상황에서 새로운 건축물을 구상합니다.  \n9                         장마철 가드닝 팁, 기나긴 장마기간 안녕하신지요?  \n10  '장마 50일째' 역대 최장 기록…중부 14일부터 또 큰비 / 연합뉴스 (Yonha...  \n11  장마에도 끄덕 없는 방4개 지하주차장 딸린 마당 넓은 경기도광주 단독주택ㅣ매물번호 ...  \n12         [날씨] 장마 소강, 전국 폭염특보...잠수교, 통행 재개 미지수 / YTN  \n13                                            장마와 댕댕이  \n14           [날씨] 장마 소강, 전국 폭염특보...잠수교는 12일째 통제 / YTN  \n15      [날씨] 장마 소강, 전국 폭염특보...잠수교 역대 최장 12일째 통제 / YTN  \n16  긴 장마에도 탄저병은 없는데 칼라병이 문제.. 노지고추 탄저병 적은 이유. 알아도 ...  \n17            장마철 대파 뿌리가 썩고 쓰러지고 병해충, 남은 관리는 어떻게 할까요?  \n18           캠핑에 필요한 캠핑용품 캠핑장비! 길고 길었던 장마.. 힐링하고 싶어요!  \n19                  장마때문에 산책을못가는 강아지가 목줄을 보자 보인 놀라운반응  ",
      "text/html": "<div>\n<style scoped>\n    .dataframe tbody tr th:only-of-type {\n        vertical-align: middle;\n    }\n\n    .dataframe tbody tr th {\n        vertical-align: top;\n    }\n\n    .dataframe thead th {\n        text-align: right;\n    }\n</style>\n<table border=\"1\" class=\"dataframe\">\n  <thead>\n    <tr style=\"text-align: right;\">\n      <th></th>\n      <th>채널</th>\n      <th>조회수</th>\n      <th>시간</th>\n      <th>제목</th>\n    </tr>\n  </thead>\n  <tbody>\n    <tr>\n      <th>0</th>\n      <td>키미 Kimi</td>\n      <td>조회수 6.5만회</td>\n      <td>1일 전</td>\n      <td>나의 여름 이야기, 그 두번째 : 여름장마와 함께</td>\n    </tr>\n    <tr>\n      <th>1</th>\n      <td>마리라이프 Mari Life</td>\n      <td>조회수 2만회</td>\n      <td>20시간 전</td>\n      <td>장마 때 캠핑하면 생기는 일! 술기오른 우중캠핑... | 카라반캠핑 | 대구</td>\n    </tr>\n    <tr>\n      <th>2</th>\n      <td>솔바위농원</td>\n      <td>조회수 1.9만회</td>\n      <td>19시간 전</td>\n      <td>장마철 고추 추비 주는 만큼 다수확이 가능하다 추비 주는법 추비 종류</td>\n    </tr>\n    <tr>\n      <th>3</th>\n      <td>에그박사 Egg&amp;Bugs</td>\n      <td>조회수 1.7만회</td>\n      <td>1일 전</td>\n      <td>역대급 장마가 만들어낸 '도심연못' 생물탐사!</td>\n    </tr>\n    <tr>\n      <th>4</th>\n      <td>MBCNEWS</td>\n      <td>조회수 1만회</td>\n      <td>11시간 전</td>\n      <td>코로나 이어 장마 직격탄…\"문 닫는 게 낫다\" (2020.08.13/뉴스투데이/MBC)</td>\n    </tr>\n    <tr>\n      <th>5</th>\n      <td>창기TV</td>\n      <td>조회수 9천회</td>\n      <td>스트리밍 시간: 17시간 전</td>\n      <td>장마끝~~마음 이라도 맑은날 되시길~~~</td>\n    </tr>\n    <tr>\n      <th>6</th>\n      <td>라온살림Laon_salrim</td>\n      <td>조회수 8.9천회</td>\n      <td>9시간 전</td>\n      <td>[Vlog]긴 장마에 지치지만,오늘도 정돈 된 나의 일상/집콕생활/살림일기/살림브이...</td>\n    </tr>\n    <tr>\n      <th>7</th>\n      <td>손바닥농장</td>\n      <td>조회수 7.8천회</td>\n      <td>1일 전</td>\n      <td>장마 후 농작물 관리. 이제 장마가 끝나면 농작물마다 이런 처리가 필요합니다.(장마...</td>\n    </tr>\n    <tr>\n      <th>8</th>\n      <td>황도이장</td>\n      <td>조회수 6.7천회</td>\n      <td>6시간 전</td>\n      <td>장마와 태풍으로 자발적 고립 상황에서 새로운 건축물을 구상합니다.</td>\n    </tr>\n    <tr>\n      <th>9</th>\n      <td>Green ssum</td>\n      <td>조회수 5.6천회</td>\n      <td>23시간 전</td>\n      <td>장마철 가드닝 팁, 기나긴 장마기간 안녕하신지요?</td>\n    </tr>\n    <tr>\n      <th>10</th>\n      <td>연합뉴스 Yonhapnews</td>\n      <td>조회수 5.2천회</td>\n      <td>1일 전</td>\n      <td>'장마 50일째' 역대 최장 기록…중부 14일부터 또 큰비 / 연합뉴스 (Yonha...</td>\n    </tr>\n    <tr>\n      <th>11</th>\n      <td>내집마련연구소1800-9016</td>\n      <td>조회수 4.4천회</td>\n      <td>21시간 전</td>\n      <td>장마에도 끄덕 없는 방4개 지하주차장 딸린 마당 넓은 경기도광주 단독주택ㅣ매물번호 ...</td>\n    </tr>\n    <tr>\n      <th>12</th>\n      <td>YTN NEWS</td>\n      <td>조회수 4천회</td>\n      <td>10시간 전</td>\n      <td>[날씨] 장마 소강, 전국 폭염특보...잠수교, 통행 재개 미지수 / YTN</td>\n    </tr>\n    <tr>\n      <th>13</th>\n      <td>둥글이 놀자</td>\n      <td>조회수 3.8천회</td>\n      <td>22시간 전</td>\n      <td>장마와 댕댕이</td>\n    </tr>\n    <tr>\n      <th>14</th>\n      <td>YTN NEWS</td>\n      <td>조회수 3.7천회</td>\n      <td>11시간 전</td>\n      <td>[날씨] 장마 소강, 전국 폭염특보...잠수교는 12일째 통제 / YTN</td>\n    </tr>\n    <tr>\n      <th>15</th>\n      <td>YTN NEWS</td>\n      <td>조회수 3.5천회</td>\n      <td>12시간 전</td>\n      <td>[날씨] 장마 소강, 전국 폭염특보...잠수교 역대 최장 12일째 통제 / YTN</td>\n    </tr>\n    <tr>\n      <th>16</th>\n      <td>귀농7년차.</td>\n      <td>조회수 3천회</td>\n      <td>7시간 전</td>\n      <td>긴 장마에도 탄저병은 없는데 칼라병이 문제.. 노지고추 탄저병 적은 이유. 알아도 ...</td>\n    </tr>\n    <tr>\n      <th>17</th>\n      <td>성호육묘장</td>\n      <td>조회수 2.3천회</td>\n      <td>18시간 전</td>\n      <td>장마철 대파 뿌리가 썩고 쓰러지고 병해충, 남은 관리는 어떻게 할까요?</td>\n    </tr>\n    <tr>\n      <th>18</th>\n      <td>예오니 TV</td>\n      <td>조회수 2.1천회</td>\n      <td>21시간 전</td>\n      <td>캠핑에 필요한 캠핑용품 캠핑장비! 길고 길었던 장마.. 힐링하고 싶어요!</td>\n    </tr>\n    <tr>\n      <th>19</th>\n      <td>뷔브독 bwibeu_dog</td>\n      <td>조회수 1.6천회</td>\n      <td>22시간 전</td>\n      <td>장마때문에 산책을못가는 강아지가 목줄을 보자 보인 놀라운반응</td>\n    </tr>\n  </tbody>\n</table>\n</div>"
     },
     "execution_count": 2,
     "metadata": {},
     "output_type": "execute_result"
    }
   ],
   "source": [
    "import time\n",
    "from selenium import webdriver\n",
    "from selenium.webdriver.common.keys import Keys\n",
    "import pandas as pd\n",
    "\n",
    "driver_path = \"C:\\\\Users\\\\Rectworks\\\\PycharmProjects\\\\chromedriver\\\\chromedriver.exe\"\n",
    "driver = webdriver.Chrome(driver_path)\n",
    "driver.implicitly_wait(5)  # or bigger second\n",
    "\n",
    "start_url = \"https://www.youtube.com\"\n",
    "driver.get(start_url)\n",
    "# browser.maximize_window()\n",
    "\n",
    "driver.find_elements_by_xpath('//*[@id=\"search-input\"]')[0].click()\n",
    "driver.find_element_by_xpath('//*[@id=\"search-form\"]/div/div/div/div[2]/input').send_keys(\"장마\")\n",
    "driver.find_element_by_xpath('//*[@id=\"search-form\"]/div/div/div/div[2]/input').send_keys(Keys.RETURN)\n",
    "\n",
    "# 필터 버튼 클릭\n",
    "driver.find_element_by_xpath('//*[@id=\"container\"]/ytd-toggle-button-renderer/a').click()\n",
    "\n",
    "# 필터 기준 - 업로드 날짜 - 오늘\n",
    "upload_date = driver.find_element_by_xpath('//*[@id=\"collapse-content\"]/ytd-search-filter-group-renderer[1]')\n",
    "click_list_1 = upload_date.find_elements_by_id(\"endpoint\")\n",
    "click_list_1[1].click()\n",
    "\n",
    "# 필터 창이 내려가는 속도에 맞추기 위해서 임의로 sleep한 후에 버튼 클릭\n",
    "time.sleep(2)\n",
    "driver.find_element_by_xpath('//*[@id=\"container\"]/ytd-toggle-button-renderer/a').click()\n",
    "\n",
    "# 필터 기준 - 정렬 기준 - 조회수\n",
    "sorting_std = driver.find_element_by_xpath('//*[@id=\"collapse-content\"]/ytd-search-filter-group-renderer[5]')\n",
    "click_list_5 = sorting_std.find_elements_by_id(\"endpoint\")\n",
    "click_list_5[2].click()\n",
    "time.sleep(2)\n",
    "\n",
    "### 필터링 광고창 넘어서 영상창으로 이동\n",
    "pageidx = 1\n",
    "for ad in range(5):\n",
    "    contents = driver.find_element_by_xpath('/html/body/ytd-app/div/ytd-page-manager/ytd-search/div[1]/ytd-two-column-search-results-renderer/div/ytd-section-list-renderer/div[2]/ytd-item-section-renderer['+str(pageidx)+']/div[3]')\n",
    "    renderer_list = contents.find_elements_by_tag_name(\"ytd-video-renderer\")\n",
    "    if len(renderer_list) < 2:\n",
    "        pageidx += 1\n",
    "    else:\n",
    "        break\n",
    "# 필터링하면 상단에 광고가 생기는 경우가 있음.\n",
    "\n",
    "channel_list = []\n",
    "title_list = []\n",
    "viewCnt_list = []\n",
    "time_list = []\n",
    "\n",
    "videosNum = len(renderer_list)\n",
    "print(videosNum)\n",
    "for video in range(videosNum):\n",
    "    video_title = renderer_list[video].find_element_by_id(\"video-title\").text\n",
    "    channel_id = renderer_list[video].find_element_by_id(\"text\").text\n",
    "    metatxt = renderer_list[video].find_element_by_id(\"metadata-line\").text\n",
    "    viewCnt = metatxt[:metatxt.find(\"\\n\")]\n",
    "    date = metatxt[metatxt.find(\"\\n\")+1:]\n",
    "\n",
    "    channel_list.append(channel_id)\n",
    "    time_list.append(date)\n",
    "    viewCnt_list.append(viewCnt)\n",
    "    title_list.append(video_title)\n",
    "\n",
    "youtube_dict = {'채널':channel_list,\n",
    "              '조회수':viewCnt_list,\n",
    "              '시간':time_list,\n",
    "             '제목':title_list}\n",
    "\n",
    "df = pd.DataFrame(youtube_dict)\n",
    "df"
   ]
  },
  {
   "cell_type": "code",
   "execution_count": null,
   "outputs": [],
   "source": [],
   "metadata": {
    "collapsed": false,
    "pycharm": {
     "name": "#%%\n"
    }
   }
  }
 ],
 "metadata": {
  "kernelspec": {
   "display_name": "Python 3",
   "language": "python",
   "name": "python3"
  },
  "language_info": {
   "codemirror_mode": {
    "name": "ipython",
    "version": 2
   },
   "file_extension": ".py",
   "mimetype": "text/x-python",
   "name": "python",
   "nbconvert_exporter": "python",
   "pygments_lexer": "ipython2",
   "version": "2.7.6"
  }
 },
 "nbformat": 4,
 "nbformat_minor": 0
}