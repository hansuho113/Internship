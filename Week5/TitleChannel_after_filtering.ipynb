{
 "cells": [
  {
   "cell_type": "code",
   "execution_count": 3,
   "metadata": {
    "collapsed": true,
    "pycharm": {
     "name": "#%%\n"
    }
   },
   "outputs": [
    {
     "name": "stdout",
     "output_type": "stream",
     "text": [
      "블랙박스에 담긴 '긴급전화'…춘천시, 작업 지시 정황 / JTBC 뉴스룸 JTBC News\n"
     ]
    }
   ],
   "source": [
    "import time\n",
    "from selenium import webdriver\n",
    "from selenium.webdriver.common.keys import Keys\n",
    "\n",
    "driver_path = \"C:\\\\Users\\\\Rectworks\\\\PycharmProjects\\\\chromedriver\\\\chromedriver.exe\"\n",
    "driver = webdriver.Chrome(driver_path)\n",
    "driver.implicitly_wait(5)  # or bigger second\n",
    "\n",
    "start_url = \"https://www.youtube.com\"\n",
    "driver.get(start_url)\n",
    "# browser.maximize_window()\n",
    "\n",
    "driver.find_elements_by_xpath('//*[@id=\"search-input\"]')[0].click()\n",
    "driver.find_element_by_xpath('//*[@id=\"search-form\"]/div/div/div/div[2]/input').send_keys(\"춘천\")\n",
    "driver.find_element_by_xpath('//*[@id=\"search-form\"]/div/div/div/div[2]/input').send_keys(Keys.RETURN)\n",
    "\n",
    "# 필터 버튼 클릭\n",
    "driver.find_element_by_xpath('//*[@id=\"container\"]/ytd-toggle-button-renderer/a').click()\n",
    "\n",
    "# 필터 기준 - 업로드 날짜 - 오늘\n",
    "upload_date = driver.find_element_by_xpath('//*[@id=\"collapse-content\"]/ytd-search-filter-group-renderer[1]')\n",
    "click_list_1 = upload_date.find_elements_by_id(\"endpoint\")\n",
    "click_list_1[1].click()\n",
    "\n",
    "# 필터 창이 내려가는 속도에 맞추기 위해서 임의로 sleep한 후에 버튼 클릭\n",
    "time.sleep(2)\n",
    "driver.find_element_by_xpath('//*[@id=\"container\"]/ytd-toggle-button-renderer/a').click()\n",
    "\n",
    "# 필터 기준 - 정렬 기준 - 조회수\n",
    "sorting_std = driver.find_element_by_xpath('//*[@id=\"collapse-content\"]/ytd-search-filter-group-renderer[5]')\n",
    "click_list_5 = sorting_std.find_elements_by_id(\"endpoint\")\n",
    "click_list_5[2].click()\n",
    "time.sleep(2)\n",
    "\n",
    "contents = driver.find_element_by_xpath('/html/body/ytd-app/div/ytd-page-manager/ytd-search/div[1]/ytd-two-column-search-results-renderer/div/ytd-section-list-renderer/div[2]/ytd-item-section-renderer[1]/div[3]')\n",
    "renderer_list = contents.find_elements_by_tag_name(\"ytd-video-renderer\")\n",
    "\n",
    "video_title = renderer_list[0].find_element_by_id(\"video-title\")\n",
    "channel_id = renderer_list[0].find_element_by_id(\"text\")\n",
    "\n",
    "print(video_title.text, channel_id.text)\n"
   ]
  },
  {
   "cell_type": "code",
   "execution_count": null,
   "outputs": [],
   "source": [],
   "metadata": {
    "collapsed": false,
    "pycharm": {
     "name": "#%%\n"
    }
   }
  }
 ],
 "metadata": {
  "kernelspec": {
   "display_name": "Python 3",
   "language": "python",
   "name": "python3"
  },
  "language_info": {
   "codemirror_mode": {
    "name": "ipython",
    "version": 2
   },
   "file_extension": ".py",
   "mimetype": "text/x-python",
   "name": "python",
   "nbconvert_exporter": "python",
   "pygments_lexer": "ipython2",
   "version": "2.7.6"
  }
 },
 "nbformat": 4,
 "nbformat_minor": 0
}